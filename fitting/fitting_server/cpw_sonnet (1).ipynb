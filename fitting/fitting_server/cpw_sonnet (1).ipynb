{
 "cells": [
  {
   "cell_type": "code",
   "execution_count": 1,
   "id": "cc204a1e",
   "metadata": {},
   "outputs": [],
   "source": [
    "from cpw_lib import *\n",
    "import gdstk"
   ]
  },
  {
   "cell_type": "markdown",
   "id": "3700de8a",
   "metadata": {},
   "source": [
    "# Making CPW resonator GDS design"
   ]
  },
  {
   "cell_type": "code",
   "execution_count": 2,
   "id": "1a5b1d04",
   "metadata": {},
   "outputs": [],
   "source": [
    "x0 = 300\n",
    "y0 = 0\n",
    "feed = CPWFeedline(start=(0+x0, 0+y0), end=(0+x0, 1000+y0),\n",
    "                       w=30, g=4, launchpad=None)\n",
    "\n",
    "reson = CPWResonator(length=2350, w=70, g=30, f=10,\n",
    "                         start=(174+x0, 350+y0), orientation=\"right\",\n",
    "                         coupling_arm=True, arm_length=150, arm_dir=\"down\",\n",
    "                         termination=\"open\")\n",
    "\n",
    "feed_center, feed_gap = feed.geometry()\n",
    "res_center,  res_gap  = reson.geometry()\n",
    "\n",
    "    # ----- assemble GDS ---------------------------------------------------\n",
    "lib  = gdstk.Library(unit=1e-6, precision=1e-9)  # µm units\n",
    "cell = lib.new_cell(\"CPW_DEMO\")\n",
    "\n",
    "    # layer 1: metal\n",
    "metal_union = so.unary_union([feed_center, res_center])\n",
    "for poly in metal_union.geoms if hasattr(metal_union, \"geoms\") else [metal_union]:\n",
    "    cell.add(gdstk.Polygon(poly.exterior.coords, layer=1))\n",
    "\n",
    "# layer 2: gap / etch\n",
    "gap_union = so.unary_union([feed_gap, res_gap])\n",
    "for poly in gap_union.geoms if hasattr(gap_union, \"geoms\") else [gap_union]:\n",
    "    cell.add(gdstk.Polygon(poly.exterior.coords, layer=2))"
   ]
  },
  {
   "cell_type": "code",
   "execution_count": 3,
   "id": "0c536ab2",
   "metadata": {},
   "outputs": [
    {
     "name": "stdout",
     "output_type": "stream",
     "text": [
      "Wrote cpw_demo.gds  (layer 3 = ground with hollow gaps)\n"
     ]
    }
   ],
   "source": [
    "lib  = gdstk.Library(unit=1e-6, precision=1e-9)\n",
    "cell = lib.new_cell(\"CPW_DEMO\")\n",
    "# layer 1 – centre conductors\n",
    "metal  = so.unary_union([feed_center, res_center])\n",
    "#for p in _to_gdstk_list(metal, layer=1):\n",
    "#    cell.add(p)\n",
    "\n",
    "# layer 2 – etched gaps\n",
    "gaps   = so.unary_union([feed_gap,    res_gap])\n",
    "#for p in _to_gdstk_list(gaps, layer=2):\n",
    "#    cell.add(p)\n",
    "\n",
    "# -------- ground plane with hollowed-out gaps (layer 3) ---------\n",
    "margin = 200           # µm extra round the bounding box\n",
    "minx, miny, maxx, maxy = so.unary_union([metal, gaps]).bounds\n",
    "#rect_shp = sg.box(minx - margin, miny - margin, maxx + margin, maxy + margin)\n",
    "rect_shp = sg.box(minx - margin, miny, maxx + margin, maxy)\n",
    "\n",
    "# Boolean subtraction in gdstk (works for 0.9.x)\n",
    "rect_poly = gdstk.Polygon(list(rect_shp.exterior.coords))\n",
    "gap_list  = to_gdstk_list(gaps, layer=3)\n",
    "ground_polys = gdstk.boolean([rect_poly], gap_list, \"not\", layer=3)\n",
    "\n",
    "for gp in ground_polys:\n",
    "    cell.add(gp)\n",
    "\n",
    "lib.write_gds(\"cpw_demo.gds\")\n",
    "print(\"Wrote cpw_demo.gds  (layer 3 = ground with hollow gaps)\")\n"
   ]
  },
  {
   "cell_type": "markdown",
   "id": "302b383e",
   "metadata": {},
   "source": [
    "# Configure Sonnect Project Setting"
   ]
  },
  {
   "cell_type": "code",
   "execution_count": 4,
   "id": "e8e9680e",
   "metadata": {},
   "outputs": [],
   "source": [
    "import logging\n",
    "import numpy as np\n",
    "import pysonnet as ps\n",
    "# gdspy is available via 'pip install gdspy'\n",
    "# or at https://github.com/heitzmann/gdspy\n",
    "#import gdspy as gp\n",
    "\n",
    "sonnet_file_path = r\"C:/Users/slab/Desktop/Yueheng_Sonnet/cpw_res_demo/cpw.son\"\n",
    "path_to_sonnet = r\"C:/Program Files/Sonnet Software/18.56/\"\n",
    "\n",
    "# Set up logging to the console\n",
    "log = logging.getLogger()\n",
    "log.setLevel(logging.INFO) # Only prints project.run() information. Set to logging.DEBUG for more detail\n",
    "log.addHandler(logging.StreamHandler())"
   ]
  },
  {
   "cell_type": "code",
   "execution_count": 5,
   "id": "a1f86162",
   "metadata": {},
   "outputs": [],
   "source": [
    "box_x = 3100\n",
    "box_y = 1000\n",
    "layer = 0\n",
    "datatype = 0\n",
    "# The GeometryProject is the most basic Sonnet project type\n",
    "project = ps.GeometryProject()\n",
    "\n",
    "# The default length unit for Sonnet is mils,so let's change it\n",
    "project.set_units(length='um')\n",
    "\n",
    "# Then we can set up the box\n",
    "project.setup_box(box_x, box_y, 2000, 2000)\n",
    "\n",
    "# Define the metal types and if they are on the box top/bottom\n",
    "# high kinetic inductance superconductor\n",
    "project.define_metal(\"general\", \"NbN\", ls=35)\n",
    "# low kinetic inductance superconductor\n",
    "#project.define_metal(\"general\", \"Nb\", ls=0.08)\n",
    "project.set_box_cover(\"free space\", top=True)\n",
    "#project.set_box_cover(\"custom\", name=\"Nb\", bottom=True)\n",
    "\n",
    "# Lets add a dielectric layer under the microstrip and air above\n",
    "project.add_dielectric(\"air\", layer, thickness=1000)\n",
    "project.add_dielectric(\"silicon\", layer + 1, thickness=100,\n",
    "                       epsilon=11.7, dielectric_loss=0.0,\n",
    "                       conductivity=0.0)\n",
    "\n",
    "# We can also define technology layers\n",
    "project.define_technology_layer(\"metal\", \"Superconductor\", layer,\n",
    "                                \"NbN\", fill_type=\"staircase\",x_min = 1,x_max = 100,y_min=1,y_max = 100)\n",
    "\n",
    "# We also might want to see the current density\n",
    "project.set_options(current_density=True,q_accuracy=True,resonance_detection=True)\n",
    "#project.set_options(q_accuracy=True)\n",
    "#project.set_options(resonance_detection=True)\n",
    "#project.set_options(frequency_cache=True)"
   ]
  },
  {
   "cell_type": "code",
   "execution_count": null,
   "id": "3376c8f2",
   "metadata": {},
   "outputs": [],
   "source": []
  },
  {
   "cell_type": "markdown",
   "id": "70d61412",
   "metadata": {},
   "source": [
    "# Load Geometry into Pysonnet"
   ]
  },
  {
   "cell_type": "code",
   "execution_count": 6,
   "id": "717437f1",
   "metadata": {},
   "outputs": [],
   "source": [
    "project.add_gdstk_cell(polygon_type='metal',cell=cell,tech_layer='Superconductor')"
   ]
  },
  {
   "cell_type": "code",
   "execution_count": 7,
   "id": "4f9b7173",
   "metadata": {},
   "outputs": [
    {
     "name": "stdout",
     "output_type": "stream",
     "text": [
      "number of ports:  0\n",
      "\n",
      "1 5 -1 N 0 1 1 100 100 0 0 0 Y\n",
      "\n",
      "TLAYNAM \"Superconductor\" INH\n",
      "81.00000000 1000.00000000\n",
      "81.00000000 0.00000000\n",
      "281.00000000 0.00000000\n",
      "281.00000000 1000.00000000\n",
      "81.00000000 1000.00000000\n",
      "tokens= ['1', '5', '-1', 'N', '0', '1', '1', '100', '100', '0', '0', '0', 'Y']\n",
      "file_id: []\n",
      "len of blks:  3\n",
      "lines 1 5 -1 N 30 1 1 100 100 0 0 0 Y\n"
     ]
    }
   ],
   "source": [
    "project.add_port(\"standard\", 1, x0, 1000,  resistance=50)"
   ]
  },
  {
   "cell_type": "code",
   "execution_count": 8,
   "id": "094e4fd5",
   "metadata": {},
   "outputs": [
    {
     "name": "stdout",
     "output_type": "stream",
     "text": [
      "number of ports:  1\n",
      "\n",
      "1 5 -1 N 0 1 1 100 100 0 0 0 Y\n",
      "\n",
      "TLAYNAM \"Superconductor\" INH\n",
      "81.00000000 1000.00000000\n",
      "81.00000000 0.00000000\n",
      "281.00000000 0.00000000\n",
      "281.00000000 1000.00000000\n",
      "81.00000000 1000.00000000\n",
      "tokens= ['1', '5', '-1', 'N', '30', '1', '1', '100', '100', '0', '0', '0', 'Y']\n",
      "file_id: ['30']\n",
      "len of blks:  3\n",
      "lines 1 5 -1 N 30 1 1 100 100 0 0 0 Y\n"
     ]
    }
   ],
   "source": [
    "project.add_port(\"standard\", 2, x0, 0,  resistance=50)"
   ]
  },
  {
   "cell_type": "markdown",
   "id": "992b758c",
   "metadata": {},
   "source": [
    "# Set up Sonnet Simulation"
   ]
  },
  {
   "cell_type": "code",
   "execution_count": 9,
   "id": "974ba864",
   "metadata": {},
   "outputs": [],
   "source": [
    "project.add_syz_parameter_file(\n",
    "    file_type='touchstone',    # write a .sNp file\n",
    "    file_name='cpw.s2p'       # name it test.s2p (default: $BASENAME.s2p)\n",
    ")"
   ]
  },
  {
   "cell_type": "code",
   "execution_count": 10,
   "id": "5065430b",
   "metadata": {},
   "outputs": [],
   "source": [
    "# Add the frequency sweep to the project\n",
    "#project.add_frequency_sweep(\"linear\", f1=4.89, f2=4.90, n_points=51)\n",
    "project.add_frequency_sweep(\"abs\",f1=7.05,f2=7.1)\n",
    "# Select an analysis (doesn't need to be done if running the project)\n",
    "project.set_analysis(\"frequency sweep\")\n",
    "# Make the sonnet file\n",
    "project.make_sonnet_file(sonnet_file_path)"
   ]
  },
  {
   "cell_type": "code",
   "execution_count": 11,
   "id": "9f56513c",
   "metadata": {},
   "outputs": [
    {
     "name": "stderr",
     "output_type": "stream",
     "text": [
      "Testing sonnet\n",
      "ELECTROMAGNETIC ANALYSIS OF 3-D PLANAR CIRCUITS\n",
      "Version 18.56\n",
      "Copyright (c) 1986-2022 Sonnet Software Inc.\n",
      "All rights reserved.\n",
      "Run 1:  Fri Jun 13 16:38:09 2025.  uchicago4.1.85014.\n",
      "Em version 18.56 (64-bit Windows) on ziqian-li-mem local.\n",
      "Project:  C:\\Users\\slab\\Desktop\\Yueheng_Sonnet\\cpw_res_demo\\test.son.\n",
      "Begin electromagnetic simulation using frequency sweep:\n",
      "Single Frequency = 1 GHZ\n",
      "Frequency:  1 GHZ\n",
      "Subsectioning time:  0 seconds.\n",
      "Circuit requires 1 subsection and 1 MB of memory.\n",
      "Threads:  using 64 thread(s), 64 core(s) available.\n",
      "Waveguide mode time:  0.003 seconds.\n",
      "Matrix fill time:  0.022 seconds.\n",
      "Matrix solve time:  0.025 seconds.\n",
      "De-embedded S-Parameters. 50 Ohm Port Terminations.\n",
      "Magnitude/Angle. Touchstone Format. Matrix Order (line #1: S11 S12 S13 ...).\n",
      "1.00000000 1.000000 -0.260\n",
      "! P1 F=1.0 Eeff=(1.00693 + j0) Z0=(152.57 + j0)\n",
      "Total time per frequency:  0.163 seconds.\n",
      "Post-Analysis information for em run 1:\n",
      "Total time for 1 frequency:  0.187 seconds.\n",
      "Em errors detected: 0    Em warnings detected: 0.\n",
      "Em simulation completed Fri Jun 13 16:38:09 2025.\n"
     ]
    }
   ],
   "source": [
    "project.locate_sonnet(path_to_sonnet)"
   ]
  },
  {
   "cell_type": "markdown",
   "id": "09063bed",
   "metadata": {},
   "source": []
  },
  {
   "cell_type": "code",
   "execution_count": 12,
   "id": "4eff523d",
   "metadata": {},
   "outputs": [
    {
     "name": "stderr",
     "output_type": "stream",
     "text": [
      "ELECTROMAGNETIC ANALYSIS OF 3-D PLANAR CIRCUITS\n",
      "Version 18.56\n",
      "Copyright (c) 1986-2022 Sonnet Software Inc.\n",
      "All rights reserved.\n",
      "Run 1:  Fri Jun 13 16:38:13 2025.  .\n",
      "Em version 18.56 (64-bit Windows) on ziqian-li-mem local.\n",
      "Project:  C:\\Users\\slab\\Desktop\\Yueheng_Sonnet\\cpw_res_demo\\cpw.son.\n",
      "Begin electromagnetic simulation using frequency sweep:\n",
      "ABS Start = 7.05, Stop = 7.1 GHZ\n",
      "Frequency:  7.05 GHZ\n",
      "Subsectioning time:  1 minute 29 seconds.\n",
      "Circuit requires 8123 subsections and 1928 MB of memory.\n",
      "Threads:  using 64 thread(s), 64 core(s) available.\n",
      "Waveguide mode time:  0.157 seconds.\n",
      "Matrix fill time:  1 minute 51 seconds.\n",
      "Matrix solve time:  4 seconds.\n",
      "De-embedded S-Parameters. 50 Ohm Port Terminations.\n",
      "Magnitude/Angle. Touchstone Format. (S11 S21 S12 S22).\n",
      "7.05000000 0.393282 34.779 0.919394 -54.94 0.919394 -54.94 0.393301 35.340\n",
      "! P1 F=7.05 Eeff=(36.5738 - j0.00015607) Z0=(84.2926 - j0.000223217)\n",
      "! P2 F=7.05 Eeff=(36.5738 - j0.00015607) Z0=(84.2926 - j0.000223217)\n",
      "Total time per frequency:  2 minutes 44 seconds.\n",
      "Frequency:  7.1 GHZ\n",
      "Waveguide mode time:  0.149 seconds.\n",
      "Matrix fill time:  1 minute 50 seconds.\n",
      "Matrix solve time:  4 seconds.\n",
      "7.10000000 0.391393 35.412 0.920218 -54.95 0.920218 -54.95 0.391401 34.684\n",
      "! P1 F=7.1 Eeff=(36.5744 - j0.000156915) Z0=(84.2917 - j0.000225097)\n",
      "! P2 F=7.1 Eeff=(36.5744 - j0.000156915) Z0=(84.2917 - j0.000225097)\n",
      "Total time per frequency:  2 minutes 19 seconds.\n",
      "ABS: SNR = 117.259 dB (123.998 dB Goal) for S1_2 at 7.075 GHz.\n",
      "ABS: Time = 0.018 seconds.\n",
      "Frequency:  7.075 GHZ\n",
      "Waveguide mode time:  0.149 seconds.\n",
      "Matrix fill time:  1 minute 51 seconds.\n",
      "Matrix solve time:  4 seconds.\n",
      "7.07500000 0.401924 32.421 0.915231 -55.86 0.915231 -55.86 0.402357 35.782\n",
      "! P1 F=7.075 Eeff=(36.5741 - j0.000156493) Z0=(84.2921 - j0.000224157)\n",
      "! P2 F=7.075 Eeff=(36.5741 - j0.000156493) Z0=(84.2921 - j0.000224157)\n",
      "Total time per frequency:  2 minutes 20 seconds.\n",
      "ABS: SNR = 94.3077 dB (102.099 dB Goal) for S1_2 at 7.0876 GHz.\n",
      "ABS: Time = 0.020 seconds.\n",
      "Frequency:  7.0876 GHZ\n",
      "Waveguide mode time:  0.149 seconds.\n",
      "Matrix fill time:  1 minute 51 seconds.\n",
      "Matrix solve time:  4 seconds.\n",
      "7.08760000 0.387686 36.400 0.921712 -54.56 0.921712 -54.56 0.387780 34.477\n",
      "! P1 F=7.0876 Eeff=(36.5742 - j0.000156706) Z0=(84.2919 - j0.00022463)\n",
      "! P2 F=7.0876 Eeff=(36.5742 - j0.000156706) Z0=(84.2919 - j0.00022463)\n",
      "Total time per frequency:  2 minutes 20 seconds.\n",
      "ABS: SNR = 88.9539 dB (98.9199 dB Goal) for S1_2 at 7.0814 GHz.\n",
      "ABS: Time = 0.021 seconds.\n",
      "Frequency:  7.0814 GHZ\n",
      "Waveguide mode time:  0.149 seconds.\n",
      "Matrix fill time:  1 minute 52 seconds.\n",
      "Matrix solve time:  4 seconds.\n",
      "7.08140000 0.368508 41.535 0.927587 -52.79 0.927587 -52.79 0.370881 32.605\n",
      "! P1 F=7.0814 Eeff=(36.5741 - j0.0001566) Z0=(84.292 - j0.000224397)\n",
      "! P2 F=7.0814 Eeff=(36.5741 - j0.0001566) Z0=(84.292 - j0.000224397)\n",
      "Total time per frequency:  2 minutes 21 seconds.\n",
      "ABS: Energy conservation for port 1 at 7.0776 GHz.\n",
      "ABS: Time = 0.025 seconds.\n",
      "Frequency:  7.0776 GHZ\n",
      "Waveguide mode time:  0.149 seconds.\n",
      "Matrix fill time:  1 minute 51 seconds.\n",
      "Matrix solve time:  4 seconds.\n",
      "7.07760000 0.413689 29.040 0.908266 -57.04 0.908266 -57.04 0.415780 36.552\n",
      "! P1 F=7.0776 Eeff=(36.5741 - j0.000156536) Z0=(84.2921 - j0.000224254)\n",
      "! P2 F=7.0776 Eeff=(36.5741 - j0.000156536) Z0=(84.2921 - j0.000224254)\n",
      "Total time per frequency:  2 minutes 20 seconds.\n",
      "ABS: SNR = 70.6762 dB (85.6649 dB Goal) for S1_2 at 7.0796 GHz.\n",
      "ABS: Time = 0.031 seconds.\n",
      "Frequency:  7.0796 GHZ\n",
      "Waveguide mode time:  0.148 seconds.\n",
      "Matrix fill time:  1 minute 50 seconds.\n",
      "Matrix solve time:  4 seconds.\n",
      "7.07960000 0.245725 -108.6 0.576397 -32.14 0.576397 -32.14 0.579686 1.7977\n",
      "! P1 F=7.0796 Eeff=(36.5741 - j0.00015657) Z0=(84.2921 - j0.00022433)\n",
      "! P2 F=7.0796 Eeff=(36.5741 - j0.00015657) Z0=(84.2921 - j0.00022433)\n",
      "Total time per frequency:  2 minutes 20 seconds.\n",
      "ABS: Time = 0.039 seconds.\n",
      "Frequency:  7.0624 GHZ\n",
      "Waveguide mode time:  0.150 seconds.\n",
      "Matrix fill time:  1 minute 50 seconds.\n",
      "Matrix solve time:  4 seconds.\n",
      "7.06240000 0.394742 34.402 0.918743 -55.12 0.918743 -55.12 0.394785 35.339\n",
      "! P1 F=7.0624 Eeff=(36.5739 - j0.000156279) Z0=(84.2923 - j0.000223683)\n",
      "! P2 F=7.0624 Eeff=(36.5739 - j0.000156279) Z0=(84.2923 - j0.000223683)\n",
      "Total time per frequency:  2 minutes 19 seconds.\n",
      "ABS: SNR = 78.8734 dB (55.8607 dB Goal) for S1_1 at 7.0798 GHz.\n",
      "ABS: Time = 0.047 seconds.\n",
      "ABS: Detected 1 resonance(s) on iteration 1:\n",
      "Resonance 1:  FreqMin = 7.0718  FreqCenter = 7.0796  FreqMax = 7.0874 GHz\n",
      "ABS: Detected 1 resonance(s) on iteration 2:\n",
      "Resonance 1:  FreqMin = 7.07190434782609  FreqCenter = 7.07957391304355  FreqMax = 7.08721739130442 GHz\n",
      "ABS: Detected 1 resonance(s) on iteration 3:\n",
      "Resonance 1:  FreqMin = 7.0718  FreqCenter = 7.07956091912063  FreqMax = 7.0872 GHz\n",
      "ABS: Detected 1 resonance(s) on iteration 4:\n",
      "Resonance 1:  FreqMin = 7.07192019564554  FreqCenter = 7.07956330371959  FreqMax = 7.0872 GHz\n",
      "Frequency:  7.07956330372 GHZ\n",
      "Waveguide mode time:  0.149 seconds.\n",
      "Matrix fill time:  1 minute 50 seconds.\n",
      "Matrix solve time:  4 seconds.\n",
      "7.07956330 0.334663 -83.80 0.491944 -40.05 0.491944 -40.05 0.636432 7.4526\n",
      "! P1 F=7.0795633 Eeff=(36.5741 - j0.00015657) Z0=(84.2921 - j0.000224328)\n",
      "! P2 F=7.0795633 Eeff=(36.5741 - j0.00015657) Z0=(84.2921 - j0.000224328)\n",
      "Total time per frequency:  2 minutes 20 seconds.\n",
      "ABS: SNR = 63.7735 dB (55.8607 dB Goal) for S1_1 at 7.07967 GHz.\n",
      "ABS: Time = 0.174 seconds.\n",
      "ABS: Detected 1 resonance(s) on iteration 5:\n",
      "Resonance 1:  FreqMin = 7.07192019564554  FreqCenter = 7.0796  FreqMax = 7.0872 GHz\n",
      "ABS: Detected 1 resonance(s) on iteration 6:\n",
      "Resonance 1:  FreqMin = 7.0718  FreqCenter = 7.0796  FreqMax = 7.0872 GHz\n",
      "Post-Analysis information for em run 1:\n",
      "Total time for 9 frequencies:  22 minutes 57 seconds.\n",
      "Em errors detected: 0    Em warnings detected: 0.\n",
      "Em simulation completed Fri Jun 13 17:01:10 2025.\n"
     ]
    }
   ],
   "source": [
    "project.run(\"frequency sweep\")"
   ]
  },
  {
   "cell_type": "code",
   "execution_count": null,
   "id": "89ae819d",
   "metadata": {},
   "outputs": [],
   "source": [
    "# 3) Load the .s2p and plot S12\n",
    "from pysonnet.outputs import SYZParameter\n",
    "#import numpy as np\n",
    "import matplotlib.pyplot as plt"
   ]
  },
  {
   "cell_type": "markdown",
   "id": "c108de2c",
   "metadata": {},
   "source": []
  },
  {
   "cell_type": "code",
   "execution_count": null,
   "id": "3ef562d5",
   "metadata": {},
   "outputs": [
    {
     "data": {
      "image/png": "[encoded data removed]",
      "text/plain": [
       "<Figure size 640x480 with 1 Axes>"
      ]
     },
     "metadata": {},
     "output_type": "display_data"
    }
   ],
   "source": [
    "# read in the Touchstone file you just generated\n",
    "sp = SYZParameter.from_touchstone('C:/Users/slab/Desktop/Yueheng_Sonnet/cpw_res_demo/cpw.s2p')\n",
    "# :contentReference[oaicite:1]{index=1}\n",
    "\n",
    "# frequencies (GHz) and the 2×2 S-matrix (complex) array\n",
    "f = sp.f                       # shape (N,) in GHz\n",
    "S = sp.value                   # shape (N, 2, 2)\n",
    "\n",
    "# pick out S12 = measurement at port 1 due to excitation at port 2\n",
    "s12 = S[:, 0, 1]\n",
    "\n",
    "# plot magnitude in dB\n",
    "plt.figure()\n",
    "plt.plot(f, 20*np.log10(np.abs(s12)), marker='o')\n",
    "plt.xlabel('Frequency (GHz)')\n",
    "plt.ylabel('S$_{12}$ (dB)')\n",
    "plt.title('S$_{12}$ vs Frequency')\n",
    "plt.grid(True)\n",
    "plt.show()"
   ]
  },
  {
   "cell_type": "code",
   "execution_count": null,
   "id": "207cf595",
   "metadata": {},
   "outputs": [],
   "source": [
    "q_array = np.real(s12)\n",
    "i_array = np.imag(s12)"
   ]
  },
  {
   "cell_type": "code",
   "execution_count": null,
   "id": "483db1ef",
   "metadata": {},
   "outputs": [
    {
     "data": {
      "image/png": "[encoded data removed]",
      "text/plain": [
       "<Figure size 640x480 with 1 Axes>"
      ]
     },
     "metadata": {},
     "output_type": "display_data"
    }
   ],
   "source": [
    "# plot magnitude in dB\n",
    "plt.figure()\n",
    "plt.plot(f,q_array, marker='o',label=\"real\")\n",
    "plt.plot(f,i_array, marker='o',label=\"imag\")\n",
    "plt.xlabel('Frequency (GHz)')\n",
    "plt.ylabel('S$_{12}$ (linear)')\n",
    "plt.title('S$_{12}$ vs Frequency')\n",
    "plt.legend()\n",
    "plt.grid(True)\n",
    "plt.show()"
   ]
  },
  {
   "cell_type": "code",
   "execution_count": null,
   "id": "1a757c42",
   "metadata": {},
   "outputs": [],
   "source": [
    "from pyCircFit_main import *"
   ]
  },
  {
   "cell_type": "code",
   "execution_count": null,
   "id": "ecdc3900",
   "metadata": {},
   "outputs": [],
   "source": [
    "cresults = circlefit(f*1e3, i_array, q_array, \\\n",
    "                     fittype='hanger', plotlabel='test', plot_detail = False, print_results=False, show_plots=False, fitQscl=1, fano = False)\n",
    "fit_data = S21_hanger(cresults['a'], cresults['alpha'], 0, cresults['fr'], \n",
    "                          cresults['Qtot'], cresults['Qc'], cresults['phi'], f*1e3)"
   ]
  },
  {
   "cell_type": "code",
   "execution_count": null,
   "id": "77dde646",
   "metadata": {},
   "outputs": [
    {
     "data": {
      "image/png": "[encoded data removed]",
      "text/plain": [
       "<Figure size 640x480 with 1 Axes>"
      ]
     },
     "metadata": {},
     "output_type": "display_data"
    }
   ],
   "source": [
    "plt.plot(f, np.abs(i_array*1j+q_array),'o')\n",
    "plt.plot(f, q_array,'o')\n",
    "plt.plot(f, i_array,'o')\n",
    "plt.plot(f, np.real(fit_data))\n",
    "plt.plot(f, np.imag(fit_data))\n",
    "plt.title(f'Resonator {1}, Frequency = {np.round(cresults[\"fr\"],2)} MHz, Q = {np.abs(np.round(cresults[\"Qtot\"],1))}')\n",
    "plt.show()"
   ]
  },
  {
   "cell_type": "code",
   "execution_count": null,
   "id": "dd0c3346",
   "metadata": {},
   "outputs": [
    {
     "data": {
      "text/plain": [
       "{'xc': np.float64(-0.5346798189084464),\n",
       " 'xc_stderr': np.float64(2.0338879104911273e-05),\n",
       " 'yc': np.float64(0.453908201719094),\n",
       " 'yc_stderr': np.float64(3.6428687478808674e-05),\n",
       " 'rc': np.float64(0.2309767301430552),\n",
       " 'rc_stderr': np.float64(1.8834718240593736e-05),\n",
       " 'theta0': np.float64(5.95224118880279),\n",
       " 'theta0_stderr': np.float64(0.00034837293002186584),\n",
       " 'Qtot': np.float64(-24033.020516979115),\n",
       " 'Qtot_stderr': np.float64(15.43363100887661),\n",
       " 'fr': np.float64(7079.564243328018),\n",
       " 'fr_stderr': np.float64(5.42388595977542e-05),\n",
       " 'alpha': np.float64(2.5292867544255255),\n",
       " 'alpha_stderr': np.float64(7.879829925359205e-05),\n",
       " 'a': np.float64(0.9203225475323095),\n",
       " 'a_stderr': np.float64(5.7542337941754915e-05),\n",
       " 'phi': np.float64(6.001823526392114),\n",
       " 'phi_stderr': np.float64(0.000332211746201955),\n",
       " 'Qc': np.float64(-47879.564866520624),\n",
       " 'Qc_stderr': np.float64(31.138634835713585),\n",
       " 'Qi': np.float64(-46414.59836535869),\n",
       " 'Qi_stderr': np.float64(64.19697744918771)}"
      ]
     },
     "execution_count": 20,
     "metadata": {},
     "output_type": "execute_result"
    }
   ],
   "source": [
    "cresults"
   ]
  },
  {
   "cell_type": "code",
   "execution_count": null,
   "id": "d6b56756",
   "metadata": {},
   "outputs": [],
   "source": [
    "#coupling arm length: 120\n",
    "gap_list = [12,37,62,87,112]\n",
    "Qc_list = [5700,23945,68760,157162,326000]"
   ]
  },
  {
   "cell_type": "code",
   "execution_count": null,
   "id": "7084d129",
   "metadata": {},
   "outputs": [
    {
     "data": {
      "text/plain": [
       "Text(0.5, 1.0, 'Resonator of 4.8GHz, 120um Coupling Arm Length, 35pH/sq KI')"
      ]
     },
     "execution_count": 22,
     "metadata": {},
     "output_type": "execute_result"
    },
    {
     "data": {
      "image/png": "[encoded data removed]",
      "text/plain": [
       "<Figure size 640x480 with 1 Axes>"
      ]
     },
     "metadata": {},
     "output_type": "display_data"
    }
   ],
   "source": [
    "plt.plot(gap_list,Qc_list)\n",
    "plt.xlabel('Distance between feedline nad resonator (um)')\n",
    "plt.ylabel('Coupling Quality Factor')\n",
    "plt.title('Resonator of 4.8GHz, 120um Coupling Arm Length, 35pH/sq KI')"
   ]
  },
  {
   "cell_type": "code",
   "execution_count": null,
   "id": "9d0e62b9",
   "metadata": {},
   "outputs": [],
   "source": [
    "gap_list = [30,60,90]\n",
    "Qc = [2000,14000,24033]"
   ]
  },
  {
   "cell_type": "code",
   "execution_count": null,
   "id": "00df7630",
   "metadata": {},
   "outputs": [
    {
     "ename": "TypeError",
     "evalue": "unsupported operand type(s) for ^: 'float' and 'float'",
     "output_type": "error",
     "traceback": [
      "\u001b[1;31m---------------------------------------------------------------------------\u001b[0m",
      "\u001b[1;31mTypeError\u001b[0m                                 Traceback (most recent call last)",
      "Cell \u001b[1;32mIn[25], line 1\u001b[0m\n\u001b[1;32m----> 1\u001b[0m \u001b[38;5;241;43m12.77\u001b[39;49m\u001b[38;5;241;43m*\u001b[39;49m\u001b[38;5;241;43m250\u001b[39;49m\u001b[38;5;241;43m^\u001b[39;49m\u001b[38;5;241;43m1.68\u001b[39;49m\n",
      "\u001b[1;31mTypeError\u001b[0m: unsupported operand type(s) for ^: 'float' and 'float'"
     ]
    }
   ],
   "source": [
    "12.77*250^1.68"
   ]
  },
  {
   "cell_type": "code",
   "execution_count": null,
   "id": "4fd4a44d",
   "metadata": {},
   "outputs": [
    {
     "name": "stdout",
     "output_type": "stream",
     "text": [
      "Saved → Qc_Resonator_4.8GHz_120um_Coupling_Arm_Length_35pH_KI_onSi.csv\n"
     ]
    }
   ],
   "source": [
    "import csv\n",
    "filename = \"Qc_Resonator_4.8GHz_120um_Coupling_Arm_Length_35pH_KI_onSi.csv\"\n",
    "\n",
    "with open(filename, mode=\"w\", newline=\"\") as f:\n",
    "    writer = csv.writer(f)\n",
    "    writer.writerow([\"gap\", \"Qc\"])          # header row\n",
    "    writer.writerows(zip(gap_list, Qc_list))     # data rows\n",
    "\n",
    "print(f\"Saved → {filename}\")"
   ]
  },
  {
   "cell_type": "code",
   "execution_count": null,
   "id": "f9dece73",
   "metadata": {},
   "outputs": [],
   "source": [
    "#coupling gap width: 37\n",
    "coupling_arm_list = [12,37,62,87,112]\n",
    "Qc_list = [5700,23945,68760,157162,326000]"
   ]
  }
 ],
 "metadata": {
  "kernelspec": {
   "display_name": "sonnet",
   "language": "python",
   "name": "python3"
  },
  "language_info": {
   "codemirror_mode": {
    "name": "ipython",
    "version": 3
   },
   "file_extension": ".py",
   "mimetype": "text/x-python",
   "name": "python",
   "nbconvert_exporter": "python",
   "pygments_lexer": "ipython3",
   "version": "3.10.16"
  }
 },
 "nbformat": 4,
 "nbformat_minor": 5
}
