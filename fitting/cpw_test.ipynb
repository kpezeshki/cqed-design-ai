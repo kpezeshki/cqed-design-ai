{
 "cells": [
  {
   "cell_type": "code",
   "execution_count": null,
   "id": "13f66012",
   "metadata": {},
   "outputs": [],
   "source": [
    "from outputs import SYZParameter"
   ]
  },
  {
   "cell_type": "code",
   "execution_count": null,
   "id": "f3c6836c",
   "metadata": {},
   "outputs": [],
   "source": [
    "# read in the Touchstone file you just generated\n",
    "sp = SYZParameter.from_touchstone('C:/Users/slab/Desktop/Yueheng_Sonnet/cpw_res_demo/cpw.s2p')\n",
    "# :contentReference[oaicite:1]{index=1}\n",
    "\n",
    "# frequencies (GHz) and the 2×2 S-matrix (complex) array\n",
    "f = sp.f                       # shape (N,) in GHz\n",
    "S = sp.value                   # shape (N, 2, 2)\n",
    "\n",
    "# pick out S12 = measurement at port 1 due to excitation at port 2\n",
    "s12 = S[:, 0, 1]\n",
    "\n",
    "# plot magnitude in dB\n",
    "plt.figure()\n",
    "plt.plot(f, 20*np.log10(np.abs(s12)), marker='o')\n",
    "plt.xlabel('Frequency (GHz)')\n",
    "plt.ylabel('S$_{12}$ (dB)')\n",
    "plt.title('S$_{12}$ vs Frequency')\n",
    "plt.grid(True)\n",
    "plt.show()"
   ]
  }
 ],
 "metadata": {
  "kernelspec": {
   "display_name": "base",
   "language": "python",
   "name": "python3"
  },
  "language_info": {
   "name": "python",
   "version": "3.12.3"
  }
 },
 "nbformat": 4,
 "nbformat_minor": 5
}
