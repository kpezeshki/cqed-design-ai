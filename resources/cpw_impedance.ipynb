{
 "cells": [
  {
   "cell_type": "code",
   "execution_count": 1,
   "metadata": {},
   "outputs": [],
   "source": [
    "import numpy as np\n",
    "from numpy import pi, sqrt, sinh\n",
    "from scipy.special import ellipk\n"
   ]
  },
  {
   "cell_type": "code",
   "execution_count": 2,
   "metadata": {},
   "outputs": [],
   "source": [
    "# Free-space permittivity (F/m)\n",
    "eps0 = 8.854187817e-12  \n",
    "mu0 = 1.25e-6  "
   ]
  },
  {
   "cell_type": "code",
   "execution_count": 3,
   "metadata": {},
   "outputs": [],
   "source": [
    "def calc_Ccpw(S, W, h1, eps_r1):\n",
    "    \"\"\"\n",
    "    Computes the CPW capacitance per unit length (Ccpw) for \n",
    "    a coplanar waveguide of center conductor width S, gap W, \n",
    "    dielectric height h1, and relative permittivity eps_r1.\n",
    "\n",
    "    Parameters\n",
    "    ----------\n",
    "    S : float\n",
    "        Center conductor width\n",
    "    W : float\n",
    "        Gap width\n",
    "    h1 : float\n",
    "        Substrate thickness (dielectric height)\n",
    "    eps_r1 : float\n",
    "        Relative permittivity of the substrate\n",
    "\n",
    "    Returns\n",
    "    -------\n",
    "    float\n",
    "        The CPW capacitance per unit length in Farads/meter\n",
    "    \"\"\"\n",
    "\n",
    "    \n",
    "\n",
    "    # Define k0 and its complement k0'\n",
    "    k0  = S / (S + 2.0 * W)\n",
    "    k0p = sqrt(1.0 - k0**2)\n",
    "\n",
    "    # Define k1 and its complement k1'\n",
    "    k1  = sinh(np.pi * S / (4.0 * h1)) / sinh(np.pi * (S + 2.0 * W) / (4.0 * h1))\n",
    "    k1p = sqrt(1.0 - k1**2)\n",
    "\n",
    "    # Complete elliptic integrals of the first kind, \n",
    "    # noting that scipy.special.ellipk() uses the parameter m = k^2\n",
    "    Kk0  = ellipk(k0**2)\n",
    "    Kk0p = ellipk(k0p**2)\n",
    "    Kk1  = ellipk(k1**2)\n",
    "    Kk1p = ellipk(k1p**2)\n",
    "    #Kk0  = ellipk(k0)\n",
    "    #Kk0p = ellipk(k0p)\n",
    "    #Kk1  = ellipk(k1)\n",
    "    #Kk1p = ellipk(k1p)\n",
    "\n",
    "    # Calculate the two terms in Ccpw\n",
    "    term1 = 2.0 * eps0 * (eps_r1 - 1.0) * (Kk1 / Kk1p)\n",
    "    term2 = 4.0 * eps0 * (Kk0 / Kk0p)\n",
    "\n",
    "    Ccpw = term1 + term2\n",
    "    Lcpw = (mu0/4) * (Kk0p/Kk0)\n",
    "    \n",
    "\n",
    "    # Return total Ccpw in F/m, Lcpw in L/m\n",
    "    return Ccpw, Lcpw"
   ]
  },
  {
   "cell_type": "code",
   "execution_count": 4,
   "metadata": {},
   "outputs": [],
   "source": [
    "def ki_induct_cpw(s,RN_ps,Tc):\n",
    "    kB = 1.38064852e-23\n",
    "    hbar = 1.0545718e-34\n",
    "    delta_0 = 2.08*kB*Tc\n",
    "    Lk_ps = hbar*RN_ps/(np.pi*delta_0)\n",
    "    print(Lk_ps)\n",
    "    Lk = Lk_ps/s\n",
    "    return Lk"
   ]
  },
  {
   "cell_type": "code",
   "execution_count": 5,
   "metadata": {},
   "outputs": [],
   "source": [
    "def ki_induct(Lk_ps,S,W):\n",
    "    k0  = S / (S + 2.0 * W)\n",
    "    k0p = np.sqrt(1.0 - k0**2) \n",
    "    Kk0  = ellipk(k0**2)\n",
    "    Kk0p = ellipk(k0p**2)\n",
    "    g = 0.5*np.pi*Kk0p/Kk0\n",
    "    print('g=',g)\n",
    "    Lk = g*Lk_ps/S\n",
    "    return Lk"
   ]
  },
  {
   "cell_type": "code",
   "execution_count": 6,
   "metadata": {},
   "outputs": [],
   "source": [
    "Ccpw,Lcpw = calc_Ccpw(S=30e-6, W=4e-6, h1=350e-6, eps_r1=11.7)"
   ]
  },
  {
   "cell_type": "code",
   "execution_count": 7,
   "metadata": {},
   "outputs": [
    {
     "name": "stdout",
     "output_type": "stream",
     "text": [
      "g= 1.400786066889522\n"
     ]
    }
   ],
   "source": [
    "#Lk = ki_induct_cpw(s=6e-6,RN_ps=503,Tc=7.2)\n",
    "Lk = ki_induct(Lk_ps=35e-12,S=30e-6,W=4e-6)\n",
    "#Lk = 0.0"
   ]
  },
  {
   "cell_type": "code",
   "execution_count": 8,
   "metadata": {},
   "outputs": [
    {
     "name": "stdout",
     "output_type": "stream",
     "text": [
      "Zcpw =  87.11320751584373\n"
     ]
    }
   ],
   "source": [
    "Ltot = Lcpw+Lk\n",
    "Zcpw =np.sqrt(Ltot/Ccpw)\n",
    "print(\"Zcpw = \", Zcpw)"
   ]
  },
  {
   "cell_type": "code",
   "execution_count": 9,
   "metadata": {},
   "outputs": [
    {
     "data": {
      "text/plain": [
       "0.8543188549238513"
      ]
     },
     "execution_count": 9,
     "metadata": {},
     "output_type": "execute_result"
    }
   ],
   "source": [
    "Lk/(Lk+Lcpw)"
   ]
  },
  {
   "cell_type": "code",
   "execution_count": 10,
   "metadata": {},
   "outputs": [
    {
     "data": {
      "text/plain": [
       "4.216592556341305"
      ]
     },
     "execution_count": 10,
     "metadata": {},
     "output_type": "execute_result"
    }
   ],
   "source": [
    "l = 0.00270\n",
    "(1/(4*np.sqrt((Lcpw+Lk)*l*Ccpw*l)))/1e9"
   ]
  },
  {
   "cell_type": "code",
   "execution_count": 11,
   "metadata": {},
   "outputs": [
    {
     "name": "stdout",
     "output_type": "stream",
     "text": [
      "g= 1.400786066889522\n",
      "g= 1.400786066889522\n",
      "g= 1.400786066889522\n"
     ]
    }
   ],
   "source": [
    "# ---- inputs ---------------------------------------------------------------\n",
    "l_list      = np.array([3059+250,2780+250, 2550+250, 2350+250,])   # μm\n",
    "Lk_ps_list  = np.array([10, 25, 35])                               # pH/□\n",
    "\n",
    "# ---- allocate 2-D results array: shape = (n_Lk , n_l) ---------------\n",
    "f_list = np.zeros((len(Lk_ps_list), len(l_list)))                  # GHz\n",
    "\n",
    "# ---- compute f for every (Lk_ps , l) pair -------------------------------\n",
    "for i, Lk_ps in enumerate(Lk_ps_list):\n",
    "    # sheet-inductance for this row (convert pH/□ → H/□)\n",
    "    Lk_sheet = ki_induct(Lk_ps=Lk_ps * 1e-12, S=30e-6, W=4e-6)\n",
    "\n",
    "    # geometry-dependent CPW per-length C and L (same for all l)\n",
    "    Ccpw, Lcpw = calc_Ccpw(S=30e-6, W=4e-6, h1=350e-6, eps_r1=11.7)\n",
    "\n",
    "    for j, l in enumerate(l_list):\n",
    "        Ltot = (Lcpw + Lk_sheet) * l * 1e-6   # total inductance (H)\n",
    "        Ctot =  Ccpw * l * 1e-6               # total capacitance (F)\n",
    "        f_list[i, j] = 1 / (4 * np.sqrt(Ltot * Ctot)) / 1e9        # GHz\n",
    "\n",
    "        "
   ]
  },
  {
   "cell_type": "code",
   "execution_count": 12,
   "metadata": {},
   "outputs": [
    {
     "data": {
      "image/png": "[encoded data removed]",
      "text/plain": [
       "<Figure size 640x480 with 1 Axes>"
      ]
     },
     "metadata": {},
     "output_type": "display_data"
    }
   ],
   "source": [
    "import matplotlib.pyplot as plt\n",
    "plt.figure()\n",
    "for i, Lk_ps in enumerate(Lk_ps_list):\n",
    "    plt.plot(l_list, f_list[i], marker='o', label=f'{Lk_ps} pH/□')\n",
    "\n",
    "plt.xlabel('Resonator length l (μm)')\n",
    "plt.ylabel('Resonant frequency f (GHz)')\n",
    "plt.title('f vs. l for different sheet-kinetic inductances')\n",
    "plt.legend(title='Lk_sheet')\n",
    "plt.tight_layout()\n",
    "plt.show()"
   ]
  },
  {
   "cell_type": "code",
   "execution_count": 13,
   "metadata": {},
   "outputs": [],
   "source": [
    "import coplanar_coupler"
   ]
  },
  {
   "cell_type": "code",
   "execution_count": null,
   "metadata": {},
   "outputs": [],
   "source": []
  },
  {
   "cell_type": "code",
   "execution_count": 14,
   "metadata": {},
   "outputs": [],
   "source": [
    "cpw_c = coplanar_coupler.coplanar_coupler()\n",
    "cpw_c.w1 = 30\n",
    "cpw_c.w2 = 30\n",
    "cpw_c.w3 = 5\n",
    "cpw_c.s1 = 4\n",
    "cpw_c.s2 = 4\n",
    "cpw_c.epsilon_eff = 11.75/2\n",
    "cpw_c.lk = 0"
   ]
  },
  {
   "cell_type": "code",
   "execution_count": 15,
   "metadata": {},
   "outputs": [],
   "source": [
    "Cl, Ll, Zl = cpw_c.coupling_matrices(mode='notch')\n",
    "#gamma_numerical = np.sqrt(np.linalg.det(Zl)/(Zl[0,0]*Zl[1,1]))\n",
    "#kappa_numerical = Zl[0,1]/(np.sqrt(Zl[0,0]*Zl[1,1])*gamma_numerical)\n",
    "#Z1_numerical = Zl[0,0]/gamma_numerical\n",
    "#Z2_numerical = Zl[1,1]/gamma_numerical"
   ]
  },
  {
   "cell_type": "code",
   "execution_count": 16,
   "metadata": {},
   "outputs": [
    {
     "name": "stdout",
     "output_type": "stream",
     "text": [
      "Qc =  166342.69156319564\n"
     ]
    }
   ],
   "source": [
    "lc = 250e-6\n",
    "fr = 4.4e9\n",
    "cl = 1.0/np.sqrt((Ll[0,0]+Lk)*Cl[0,0])\n",
    "kappa = Ll[0,1]/np.sqrt((Ll[0,0]+Lk)*(Ll[1,1]+Lk))\n",
    "p = 1\n",
    "theta = 2*np.pi*fr*lc/cl\n",
    "Qc = (np.pi*(2*p-1))/(2*(kappa*np.sin(theta))**2)\n",
    "print(\"Qc = \", Qc)\n"
   ]
  },
  {
   "cell_type": "code",
   "execution_count": 17,
   "metadata": {},
   "outputs": [
    {
     "data": {
      "text/plain": [
       "array([[2.86573892e-07, 4.05343276e-08],\n",
       "       [4.05343276e-08, 2.86573892e-07]])"
      ]
     },
     "execution_count": 17,
     "metadata": {},
     "output_type": "execute_result"
    }
   ],
   "source": [
    "Ll"
   ]
  },
  {
   "cell_type": "code",
   "execution_count": 18,
   "metadata": {},
   "outputs": [],
   "source": [
    "cw_list= np.linspace(5, 25, 5)\n",
    "Qc_list = []\n",
    "\n",
    "for cw in cw_list:\n",
    "    cpw_c = coplanar_coupler.coplanar_coupler()\n",
    "    cpw_c.w1 = 30\n",
    "    cpw_c.w2 = 30\n",
    "    cpw_c.w3 = cw\n",
    "    cpw_c.s1 = 4\n",
    "    cpw_c.s2 = 4\n",
    "    cpw_c.epsilon_eff = 11.75/2\n",
    "    cpw_c.lk = 0\n",
    "    Cl, Ll, Zl = cpw_c.coupling_matrices(mode='notch')\n",
    "    lc = 250e-6\n",
    "    fr = 4.4e9\n",
    "    cl = 1.0/np.sqrt((Ll[0,0]+0.0)*Cl[0,0])\n",
    "    kappa = Ll[0,1]/np.sqrt((Ll[0,0]+0.0)*(Ll[1,1]+0.0))\n",
    "    p = 1\n",
    "    theta = 2*np.pi*fr*lc/cl\n",
    "    Qc = (np.pi*(2*p-1))/(2*(kappa*np.sin(theta))**2)\n",
    "    Qc_list.append(Qc)\n"
   ]
  },
  {
   "cell_type": "code",
   "execution_count": 19,
   "metadata": {},
   "outputs": [],
   "source": [
    "from matplotlib import pyplot as plt"
   ]
  },
  {
   "cell_type": "code",
   "execution_count": 20,
   "metadata": {},
   "outputs": [],
   "source": [
    "cw_list= np.linspace(5, 25, 5)\n",
    "Qc_list_k = []\n",
    "\n",
    "for cw in cw_list:\n",
    "    cpw_c = coplanar_coupler.coplanar_coupler()\n",
    "    cpw_c.w1 = 30\n",
    "    cpw_c.w2 = 30\n",
    "    cpw_c.w3 = cw\n",
    "    cpw_c.s1 = 4\n",
    "    cpw_c.s2 = 4\n",
    "    cpw_c.epsilon_eff = 11.75/2\n",
    "    cpw_c.lk = Lk\n",
    "    Cl, Ll, Zl = cpw_c.coupling_matrices(mode='notch')\n",
    "    lc = 250e-6\n",
    "    fr = 4.4e9\n",
    "    cl = 1.0/np.sqrt((Ll[0,0]+Lk)*Cl[0,0])\n",
    "    kappa = Ll[0,1]/np.sqrt((Ll[0,0]+Lk)*(Ll[1,1]+Lk))\n",
    "    p = 1\n",
    "    theta = 2*np.pi*fr*lc/cl\n",
    "    Qc = (np.pi*(2*p-1))/(2*(kappa*np.sin(theta))**2)\n",
    "    Qc_list_k.append(Qc)"
   ]
  },
  {
   "cell_type": "code",
   "execution_count": 21,
   "metadata": {},
   "outputs": [
    {
     "data": {
      "text/plain": [
       "Text(0, 0.5, 'Qc')"
      ]
     },
     "execution_count": 21,
     "metadata": {},
     "output_type": "execute_result"
    },
    {
     "data": {
      "image/png": "[encoded data removed]",
      "text/plain": [
       "<Figure size 640x480 with 1 Axes>"
      ]
     },
     "metadata": {},
     "output_type": "display_data"
    }
   ],
   "source": [
    "plt.plot(cw_list, Qc_list, label='Lk=0.0')\n",
    "plt.plot(cw_list, Qc_list_k, label='Lk=35e-12')\n",
    "plt.xlabel('Coupling width (um)')\n",
    "plt.legend()\n",
    "plt.ylabel('Qc')"
   ]
  },
  {
   "cell_type": "code",
   "execution_count": null,
   "metadata": {},
   "outputs": [],
   "source": []
  }
 ],
 "metadata": {
  "kernelspec": {
   "display_name": "scqubit",
   "language": "python",
   "name": "python3"
  },
  "language_info": {
   "codemirror_mode": {
    "name": "ipython",
    "version": 3
   },
   "file_extension": ".py",
   "mimetype": "text/x-python",
   "name": "python",
   "nbconvert_exporter": "python",
   "pygments_lexer": "ipython3",
   "version": "3.9.18"
  }
 },
 "nbformat": 4,
 "nbformat_minor": 2
}
