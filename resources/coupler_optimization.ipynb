{
 "cells": [
  {
   "cell_type": "code",
   "execution_count": 1,
   "metadata": {},
   "outputs": [
    {
     "ename": "ModuleNotFoundError",
     "evalue": "No module named 'webdriver_manager'",
     "output_type": "error",
     "traceback": [
      "\u001b[0;31m---------------------------------------------------------------------------\u001b[0m",
      "\u001b[0;31mModuleNotFoundError\u001b[0m                       Traceback (most recent call last)",
      "Cell \u001b[0;32mIn[1], line 3\u001b[0m\n\u001b[1;32m      1\u001b[0m \u001b[38;5;28;01mfrom\u001b[39;00m \u001b[38;5;21;01mselenium\u001b[39;00m \u001b[38;5;28;01mimport\u001b[39;00m webdriver\n\u001b[1;32m      2\u001b[0m \u001b[38;5;28;01mfrom\u001b[39;00m \u001b[38;5;21;01mselenium\u001b[39;00m\u001b[38;5;21;01m.\u001b[39;00m\u001b[38;5;21;01mwebdriver\u001b[39;00m\u001b[38;5;21;01m.\u001b[39;00m\u001b[38;5;21;01mcommon\u001b[39;00m\u001b[38;5;21;01m.\u001b[39;00m\u001b[38;5;21;01mkeys\u001b[39;00m \u001b[38;5;28;01mimport\u001b[39;00m Keys\n\u001b[0;32m----> 3\u001b[0m \u001b[38;5;28;01mfrom\u001b[39;00m \u001b[38;5;21;01mwebdriver_manager\u001b[39;00m\u001b[38;5;21;01m.\u001b[39;00m\u001b[38;5;21;01mchrome\u001b[39;00m \u001b[38;5;28;01mimport\u001b[39;00m ChromeDriverManager\n\u001b[1;32m      4\u001b[0m \u001b[38;5;28;01mfrom\u001b[39;00m \u001b[38;5;21;01mselenium\u001b[39;00m\u001b[38;5;21;01m.\u001b[39;00m\u001b[38;5;21;01mwebdriver\u001b[39;00m\u001b[38;5;21;01m.\u001b[39;00m\u001b[38;5;21;01mcommon\u001b[39;00m\u001b[38;5;21;01m.\u001b[39;00m\u001b[38;5;21;01mkeys\u001b[39;00m \u001b[38;5;28;01mimport\u001b[39;00m Keys\n\u001b[1;32m      5\u001b[0m \u001b[38;5;28;01mimport\u001b[39;00m \u001b[38;5;21;01mre\u001b[39;00m\n",
      "\u001b[0;31mModuleNotFoundError\u001b[0m: No module named 'webdriver_manager'"
     ]
    }
   ],
   "source": [
    "from selenium import webdriver\n",
    "from selenium.webdriver.common.keys import Keys\n",
    "from webdriver_manager.chrome import ChromeDriverManager\n",
    "from selenium.webdriver.common.keys import Keys\n",
    "import re\n",
    "import time\n",
    "import scipy.optimize as opt\n",
    "from selenium.webdriver.common.by import By\n",
    "import numpy as np\n",
    "import astropy.units as u\n",
    "import astropy.constants as c\n",
    "from bs4 import BeautifulSoup\n",
    "import pandas as pd\n",
    "from scipy.special import ellipk"
   ]
  },
  {
   "cell_type": "code",
   "execution_count": 3,
   "metadata": {},
   "outputs": [],
   "source": [
    "# from selenium import webdriver\n",
    "# from webdriver_manager.chrome import ChromeDriverManager\n",
    "# from selenium.webdriver.common.by import By\n",
    "# from selenium.webdriver.common.keys import Keys\n",
    "\n",
    "# # Set up Selenium\n",
    "# driver = webdriver.Chrome(ChromeDriverManager().install())\n",
    "\n",
    "# Open the webpage\n",
    "# driver.get('https://smm.misis.ru/CPW-resonator-coupling/')\n",
    "\n",
    "# Locate form elements and interact with them\n",
    "# For example, to find an input field and fill it:\n",
    "# input_field = driver.find_element(By.NAME, 'your_input_name_here')\n",
    "# input_field.send_keys('Your value here')\n",
    "\n",
    "# # Submit the form if necessary\n",
    "# submit_button = driver.find_element(By.NAME, 'submit_button_name_here')\n",
    "# submit_button.click()\n",
    "\n",
    "# # Remember to close the driver after completing the tasks\n",
    "# driver.quit()\n"
   ]
  },
  {
   "cell_type": "markdown",
   "metadata": {},
   "source": [
    "Initialize the web driver and load the website"
   ]
  },
  {
   "cell_type": "code",
   "execution_count": 4,
   "metadata": {},
   "outputs": [],
   "source": [
    "driver = webdriver.Chrome(ChromeDriverManager().install())\n",
    "\n",
    "driver.get('https://smm.misis.ru/CPW-resonator-coupling/')"
   ]
  },
  {
   "cell_type": "code",
   "execution_count": 5,
   "metadata": {},
   "outputs": [],
   "source": [
    "# freqs = [6310.460308,6599.399983,6753.384976,6927.24498,7175.912057,7462.971308,\n",
    "#          7541.496634,7782.320107,7987.50912,8171.432504] #target frequencies\n",
    "# freqs = np.array(freqs)"
   ]
  },
  {
   "cell_type": "code",
   "execution_count": 341,
   "metadata": {},
   "outputs": [],
   "source": [
    "freqs = [5.9, 6.2,6.5,6.7,7.0,7.2,7.5,7.9,] #target frequencies\n",
    "freqs = np.array(freqs)\n",
    "\n",
    "pitch = [10,12,14,16,2,4,6,8,] #target gap\n",
    "pitch = np.array(pitch)\n",
    "\n",
    "feedline_pitch = 8\n",
    "\n",
    "distance_to_feedline = [118,123,158,158,20,33,58,93]\n",
    "distance_to_feedline = np.array(distance_to_feedline)"
   ]
  },
  {
   "cell_type": "code",
   "execution_count": 249,
   "metadata": {},
   "outputs": [],
   "source": [
    "#Set the correct dielectric constant\n",
    "def set_epsilon(epsilon = 11.45):\n",
    "    epsi = driver.find_element(By.ID, 'epsilon')\n",
    "    epsi.clear()\n",
    "    epsi.send_keys(str(epsilon))\n",
    "#Find the optimal pin/gap for a single CPW\n",
    "def single_cpw_impedance(pin, gap):\n",
    "    input_box = driver.find_element(By.ID, 'conductor-gap-widths-elements')\n",
    "    AB = input_box.find_element(By.NAME, 'AB')\n",
    "    BC = input_box.find_element(By.NAME, 'BC')\n",
    "    CD = input_box.find_element(By.NAME, 'CD')\n",
    "    \n",
    "    gap = str(gap)\n",
    "    pin = str(pin)\n",
    "\n",
    "    AB.clear()\n",
    "    AB.send_keys(gap)\n",
    "\n",
    "    CD.clear()\n",
    "    CD.send_keys(gap)\n",
    "\n",
    "    BC.clear()\n",
    "    BC.send_keys(pin)\n",
    "\n",
    "\n",
    "    impedance_box = driver.find_element(By.ID, 'impedance-data')\n",
    "    impedance = impedance_box.get_attribute('innerHTML')\n",
    "\n",
    "\n",
    "\n",
    "    string = impedance\n",
    "    match = re.search(r'Z0:(\\d+\\.\\d+)', string)\n",
    "\n",
    "    if match:\n",
    "        number = float(match.group(1))\n",
    "        # print(number)\n",
    "    else:\n",
    "        print(\"No match found.\")\n",
    "\n",
    "\n",
    "    return number\n",
    "\n",
    "    "
   ]
  },
  {
   "cell_type": "markdown",
   "metadata": {},
   "source": [
    "## Set up simulation parameters"
   ]
  },
  {
   "cell_type": "code",
   "execution_count": 165,
   "metadata": {},
   "outputs": [],
   "source": [
    "resonator_pin = 4.76*u.um\n",
    "resonator_gap = 2*u.um\n",
    "resonator_thickness = 126*u.nm\n",
    "epsilon = 9.5"
   ]
  },
  {
   "cell_type": "code",
   "execution_count": 250,
   "metadata": {},
   "outputs": [],
   "source": [
    "set_epsilon(epsilon)"
   ]
  },
  {
   "cell_type": "code",
   "execution_count": 251,
   "metadata": {},
   "outputs": [
    {
     "data": {
      "text/plain": [
       "49.963667784356154"
      ]
     },
     "execution_count": 251,
     "metadata": {},
     "output_type": "execute_result"
    }
   ],
   "source": [
    "single_cpw_impedance(resonator_pin.value, resonator_gap.value)"
   ]
  },
  {
   "cell_type": "code",
   "execution_count": 256,
   "metadata": {},
   "outputs": [],
   "source": [
    "def find_optimal_gap(pin):\n",
    "    def f(gap):\n",
    "        time.sleep(0.01)\n",
    "        return single_cpw_impedance(pin, gap)-50\n",
    "    gap_val = opt.brentq(f, 0, 10)\n",
    "    return round(gap_val, 2)\n",
    "def find_optimal_pin(gap):\n",
    "    def f(pin):\n",
    "        time.sleep(0.01)\n",
    "        return single_cpw_impedance(pin, gap)-50\n",
    "    pin_val = opt.brentq(f, 0, 40)\n",
    "    return round(pin_val, 2)"
   ]
  },
  {
   "cell_type": "code",
   "execution_count": 257,
   "metadata": {},
   "outputs": [],
   "source": [
    "good_pins = {}\n",
    "for i,gap in enumerate(pitch):\n",
    "    \n",
    "\n",
    "    resonator_pin = pitch[i]*u.um\n",
    "    # resonator_gap = 2*u.um\n",
    "    resonator_thickness = 126*u.nm\n",
    "    epsilon = 11.45\n",
    "    set_epsilon(epsilon)\n",
    "    # single_cpw_impedance(resonator_pin.value, resonator_gap.value)\n",
    "    pin = find_optimal_pin(gap)\n",
    "    good_pins[gap] = pin"
   ]
  },
  {
   "cell_type": "code",
   "execution_count": 258,
   "metadata": {},
   "outputs": [
    {
     "data": {
      "text/plain": [
       "{10: 17.73,\n",
       " 12: 21.27,\n",
       " 14: 24.82,\n",
       " 16: 28.37,\n",
       " 2: 3.55,\n",
       " 4: 7.09,\n",
       " 6: 10.64,\n",
       " 8: 14.18}"
      ]
     },
     "execution_count": 258,
     "metadata": {},
     "output_type": "execute_result"
    }
   ],
   "source": [
    "good_pins"
   ]
  },
  {
   "cell_type": "markdown",
   "metadata": {},
   "source": [
    "## Simulate optimal CPW params"
   ]
  },
  {
   "cell_type": "code",
   "execution_count": 169,
   "metadata": {},
   "outputs": [],
   "source": [
    "# resonator_pin = 12.4\n",
    "# transmission_line_pin = 12.4\n",
    "# resonator_gap = find_optimal_gap(resonator_pin)\n",
    "# transmission_line_gap = find_optimal_gap(transmission_line_pin)"
   ]
  },
  {
   "cell_type": "code",
   "execution_count": 170,
   "metadata": {},
   "outputs": [],
   "source": [
    "# print(resonator_gap, transmission_line_gap)"
   ]
  },
  {
   "cell_type": "markdown",
   "metadata": {},
   "source": [
    "Add correction from kinetic inductance"
   ]
  },
  {
   "cell_type": "code",
   "execution_count": 171,
   "metadata": {},
   "outputs": [],
   "source": [
    "\n",
    "def g(s,w,d):\n",
    "    k = w/(w+2*s)\n",
    "    factor = 1/2/k**2/ellipk(k**2)**2\n",
    "    l1 = np.log(d/4/w)\n",
    "    l2 = w/(w+2*s)*np.log(d/4/(w+2*s))\n",
    "    l3 = 2*(w+s)/(w+2*s)*np.log(s/(w+s))\n",
    "    # print(factor,-l1,-l2,l3)\n",
    "    return factor*(-l1-l2+l3)\n",
    "    "
   ]
  },
  {
   "cell_type": "code",
   "execution_count": 172,
   "metadata": {},
   "outputs": [
    {
     "data": {
      "text/plain": [
       "3.583810070879339"
      ]
     },
     "execution_count": 172,
     "metadata": {},
     "output_type": "execute_result"
    }
   ],
   "source": [
    "g(resonator_gap.value, resonator_pin.value, (resonator_thickness.to(u.um)).value)"
   ]
  },
  {
   "cell_type": "code",
   "execution_count": 208,
   "metadata": {},
   "outputs": [],
   "source": [
    "lamb = 165*u.nm #guesses that roughly fits the data\n",
    "def Lk(s,w,d,lamb):\n",
    "    return c.mu0*lamb**2/d/w*g(s,w,d)*lamb"
   ]
  },
  {
   "cell_type": "code",
   "execution_count": 209,
   "metadata": {},
   "outputs": [],
   "source": [
    "lk = (Lk(resonator_gap.value, resonator_pin.value, (resonator_thickness.to(u.um)).value, (lamb.to(u.um)).value)).si"
   ]
  },
  {
   "cell_type": "code",
   "execution_count": 210,
   "metadata": {},
   "outputs": [],
   "source": [
    "# Lk0 = 22*u.nH/500/u.um\n",
    "# d0 = 10*u.um"
   ]
  },
  {
   "cell_type": "code",
   "execution_count": 211,
   "metadata": {},
   "outputs": [],
   "source": [
    "# def Lk(w,d = 100*u.nm,lam = 45*u.nm):\n",
    "#     factor = Lk0*d0**2\n",
    "#     return factor/w/d"
   ]
  },
  {
   "cell_type": "code",
   "execution_count": 212,
   "metadata": {},
   "outputs": [],
   "source": [
    "# Lk(resonator_pin)"
   ]
  },
  {
   "cell_type": "code",
   "execution_count": 213,
   "metadata": {},
   "outputs": [],
   "source": [
    "def find_total_inductance():\n",
    "    '''find indicutance of the resonator in nH/m'''\n",
    "\n",
    "    results = driver.find_element(By.ID, 'L-body')\n",
    "    string = results.get_attribute('innerHTML')\n",
    "    match = re.search(r'(\\d+\\.\\d+)', string)\n",
    "    number = 0\n",
    "    if match:\n",
    "        number = float(match.group(1))\n",
    "        # print(number)\n",
    "    else:\n",
    "        print(\"No match found.\")\n",
    "    return number\n",
    "\n",
    "def find_total_capacitance():\n",
    "    '''find capacitance of the resonator in pF/m'''\n",
    "\n",
    "    results = driver.find_element(By.ID, 'C-body')\n",
    "    string = results.get_attribute('innerHTML')\n",
    "    match = re.search(r'(\\d+\\.\\d+)', string)\n",
    "    number = 0\n",
    "    if match:\n",
    "        number = float(match.group(1))\n",
    "        # print(number)\n",
    "    else:\n",
    "        print(\"No match found.\")\n",
    "    return number"
   ]
  },
  {
   "cell_type": "code",
   "execution_count": 214,
   "metadata": {},
   "outputs": [],
   "source": [
    "L_tot = find_total_inductance()*u.nH/u.m + lk\n",
    "L = find_total_inductance()*u.nH/u.m\n",
    "C_tot = find_total_capacitance()*u.pF/u.m"
   ]
  },
  {
   "cell_type": "code",
   "execution_count": 215,
   "metadata": {},
   "outputs": [
    {
     "name": "stdout",
     "output_type": "stream",
     "text": [
      "Frequency with inductance 7.257817523454783 GHz\n",
      "Frequency error due to length uncertainty 33.59852970030274 MHz\n"
     ]
    }
   ],
   "source": [
    "l = (1527+1130+1035+200*np.pi)*u.um\n",
    "dl = 20*u.um\n",
    "f = 1/(4*l*np.sqrt(L_tot*C_tot))\n",
    "df = 1/(4*l**2*np.sqrt(L_tot*C_tot))*dl\n",
    "print('Frequency with inductance', f.to(u.GHz))\n",
    "print('Frequency error due to length uncertainty', df.to(u.MHz))\n"
   ]
  },
  {
   "cell_type": "code",
   "execution_count": 216,
   "metadata": {},
   "outputs": [
    {
     "name": "stdout",
     "output_type": "stream",
     "text": [
      "Frequency without inductance 7.5712143840733575 GHz\n",
      "Frequency error due to length uncertainty 35.04933411849685 MHz\n"
     ]
    }
   ],
   "source": [
    "f0 = 1/(4*l*np.sqrt(L*C_tot))\n",
    "df0 = 1/(4*l**2*np.sqrt(L*C_tot))*dl\n",
    "print('Frequency without inductance', f0.to(u.GHz))\n",
    "print('Frequency error due to length uncertainty', df0.to(u.MHz))\n"
   ]
  },
  {
   "cell_type": "code",
   "execution_count": 217,
   "metadata": {},
   "outputs": [
    {
     "data": {
      "text/latex": [
       "$-0.31339686 \\; \\mathrm{GHz}$"
      ],
      "text/plain": [
       "<Quantity -0.31339686 GHz>"
      ]
     },
     "execution_count": 217,
     "metadata": {},
     "output_type": "execute_result"
    }
   ],
   "source": [
    "(f-f0).to(u.GHz)"
   ]
  },
  {
   "cell_type": "code",
   "execution_count": 218,
   "metadata": {},
   "outputs": [
    {
     "data": {
      "text/latex": [
       "$0.95860679 \\; \\mathrm{}$"
      ],
      "text/plain": [
       "<Quantity 0.95860679>"
      ]
     },
     "execution_count": 218,
     "metadata": {},
     "output_type": "execute_result"
    }
   ],
   "source": [
    "f/f0"
   ]
  },
  {
   "cell_type": "code",
   "execution_count": 219,
   "metadata": {},
   "outputs": [
    {
     "data": {
      "text/latex": [
       "$416.057 \\; \\mathrm{\\frac{nH}{m}}$"
      ],
      "text/plain": [
       "<Quantity 416.05699751 nH / m>"
      ]
     },
     "execution_count": 219,
     "metadata": {},
     "output_type": "execute_result"
    }
   ],
   "source": [
    "L_tot"
   ]
  },
  {
   "cell_type": "code",
   "execution_count": 228,
   "metadata": {},
   "outputs": [],
   "source": [
    "gaps = [2,4,6,8,10,12,14,16]\n",
    "pins = [4.76,9.52,14.28,19.12,23.9,28.68,33.46,38.24]"
   ]
  },
  {
   "cell_type": "code",
   "execution_count": 239,
   "metadata": {},
   "outputs": [
    {
     "name": "stdout",
     "output_type": "stream",
     "text": [
      "-Gap: 2um, Pin: 4.76um, Impedance: 50.02353271054289Ohms\n",
      "Frequency without inductance 7.5712143840733575 GHz\n",
      "Frequency error due to length uncertainty 35.04933411849685 MHz\n",
      "Frequency with inductance 7.257817523454783 GHz\n",
      "Frequency error due to length uncertainty 33.59852970030274 MHz\n",
      "Frequency difference with and without inductance -0.31339686061857464 GHz\n",
      "Frequency ratio with and without inductance 0.9586067908369059\n",
      "-Gap: 4um, Pin: 9.52um, Impedance: 50.02353271054289Ohms\n",
      "Frequency without inductance 7.5712143840733575 GHz\n",
      "Frequency error due to length uncertainty 35.04933411849685 MHz\n",
      "Frequency with inductance 7.382673777301224 GHz\n",
      "Frequency error due to length uncertainty 34.17652529464931 MHz\n",
      "Frequency difference with and without inductance -0.18854060677213358 GHz\n",
      "Frequency ratio with and without inductance 0.9750977059679167\n",
      "-Gap: 6um, Pin: 14.28um, Impedance: 50.023532710542874Ohms\n",
      "Frequency without inductance 7.5712143840733575 GHz\n",
      "Frequency error due to length uncertainty 35.04933411849685 MHz\n",
      "Frequency with inductance 7.4332842944065325 GHz\n",
      "Frequency error due to length uncertainty 34.41081596903113 MHz\n",
      "Frequency difference with and without inductance -0.1379300896668246 GHz\n",
      "Frequency ratio with and without inductance 0.9817823029873555\n",
      "-Gap: 8um, Pin: 19.12um, Impedance: 49.96366778435616Ohms\n",
      "Frequency without inductance 7.5712204852180625 GHz\n",
      "Frequency error due to length uncertainty 35.049362362454616 MHz\n",
      "Frequency with inductance 7.4620567032046985 GHz\n",
      "Frequency error due to length uncertainty 34.54401174426665 MHz\n",
      "Frequency difference with and without inductance -0.10916378201336376 GHz\n",
      "Frequency ratio with and without inductance 0.9855817457401361\n",
      "-Gap: 10um, Pin: 23.9um, Impedance: 49.96366778435616Ohms\n",
      "Frequency without inductance 7.5712204852180625 GHz\n",
      "Frequency error due to length uncertainty 35.049362362454616 MHz\n",
      "Frequency with inductance 7.479953943727388 GHz\n",
      "Frequency error due to length uncertainty 34.62686323031073 MHz\n",
      "Frequency difference with and without inductance -0.0912665414906742 GHz\n",
      "Frequency ratio with and without inductance 0.9879455971901939\n",
      "-Gap: 12um, Pin: 28.68um, Impedance: 49.96366778435619Ohms\n",
      "Frequency without inductance 7.5712204852180625 GHz\n",
      "Frequency error due to length uncertainty 35.049362362454616 MHz\n",
      "Frequency with inductance 7.492501899261586 GHz\n",
      "Frequency error due to length uncertainty 34.684951333977075 MHz\n",
      "Frequency difference with and without inductance -0.07871858595647659 GHz\n",
      "Frequency ratio with and without inductance 0.9896029198845595\n",
      "-Gap: 14um, Pin: 33.46um, Impedance: 49.96366778435619Ohms\n",
      "Frequency without inductance 7.5712204852180625 GHz\n",
      "Frequency error due to length uncertainty 35.049362362454616 MHz\n",
      "Frequency with inductance 7.501826881578964 GHz\n",
      "Frequency error due to length uncertainty 34.728119365459364 MHz\n",
      "Frequency difference with and without inductance -0.06939360363909841 GHz\n",
      "Frequency ratio with and without inductance 0.9908345551718404\n",
      "-Gap: 16um, Pin: 38.24um, Impedance: 49.963667784356154Ohms\n",
      "Frequency without inductance 7.5712204852180625 GHz\n",
      "Frequency error due to length uncertainty 35.049362362454616 MHz\n",
      "Frequency with inductance 7.50905123228721 GHz\n",
      "Frequency error due to length uncertainty 34.76156296762379 MHz\n",
      "Frequency difference with and without inductance -0.06216925293085237 GHz\n",
      "Frequency ratio with and without inductance 0.991788740923312\n"
     ]
    }
   ],
   "source": [
    "freq_ideal = []\n",
    "freq_wLk = []\n",
    "for i in range(len(gaps)):\n",
    "    print(f'-Gap: {gaps[i]}um, Pin: {pins[i]}um, Impedance: {single_cpw_impedance(pins[i],gaps[i])}Ohms')\n",
    "    \n",
    "    resonator_gap = gaps[i]*u.um\n",
    "    resonator_pin = pins[i]*u.um\n",
    "    \n",
    "    lk = (Lk(resonator_gap.value, resonator_pin.value, (resonator_thickness.to(u.um)).value, (lamb.to(u.um)).value)).si\n",
    "    L_tot = find_total_inductance()*u.nH/u.m + lk\n",
    "    L = find_total_inductance()*u.nH/u.m\n",
    "    C_tot = find_total_capacitance()*u.pF/u.m\n",
    "    l = (1527+1130+1035+200*np.pi)*u.um\n",
    "    dl = 20*u.um\n",
    "    f = 1/(4*l*np.sqrt(L_tot*C_tot))\n",
    "    df = 1/(4*l**2*np.sqrt(L_tot*C_tot))*dl\n",
    "    \n",
    "    f0 = 1/(4*l*np.sqrt(L*C_tot))\n",
    "    df0 = 1/(4*l**2*np.sqrt(L*C_tot))*dl\n",
    "    print('Frequency without inductance', f0.to(u.GHz))\n",
    "    print('Frequency error due to length uncertainty', df0.to(u.MHz))\n",
    "    print('Frequency with inductance', f.to(u.GHz))\n",
    "    print('Frequency error due to length uncertainty', df.to(u.MHz))\n",
    "    print('Frequency difference with and without inductance', (f-f0).to(u.GHz))\n",
    "    print('Frequency ratio with and without inductance', f/f0)\n",
    "    freq_ideal.append((f0.to(u.GHz)).value)\n",
    "    freq_wLk.append(f.to(u.GHz).value)"
   ]
  },
  {
   "cell_type": "code",
   "execution_count": 240,
   "metadata": {},
   "outputs": [],
   "source": [
    "import matplotlib.pyplot as plt"
   ]
  },
  {
   "cell_type": "code",
   "execution_count": 246,
   "metadata": {},
   "outputs": [
    {
     "data": {
      "text/plain": [
       "Text(0, 0.5, 'Frequency (GHz)')"
      ]
     },
     "execution_count": 246,
     "metadata": {},
     "output_type": "execute_result"
    },
    {
     "data": {
      "image/png": "[encoded data removed]",
      "text/plain": [
       "<Figure size 640x480 with 1 Axes>"
      ]
     },
     "metadata": {},
     "output_type": "display_data"
    }
   ],
   "source": [
    "plt.scatter(gaps, freq_ideal, label='Ideal')\n",
    "plt.scatter(gaps, freq_wLk, label='With Lk')\n",
    "plt.legend()\n",
    "plt.xlabel('Gap width (um)')\n",
    "plt.ylabel('Frequency (GHz)')"
   ]
  },
  {
   "cell_type": "code",
   "execution_count": 247,
   "metadata": {},
   "outputs": [
    {
     "data": {
      "text/plain": [
       "Text(0, 0.5, 'Frequency with Lk/Frequency without Lk')"
      ]
     },
     "execution_count": 247,
     "metadata": {},
     "output_type": "execute_result"
    },
    {
     "data": {
      "image/png": "[encoded data removed]",
      "text/plain": [
       "<Figure size 640x480 with 1 Axes>"
      ]
     },
     "metadata": {},
     "output_type": "display_data"
    }
   ],
   "source": [
    "plt.scatter(gaps, np.array(freq_wLk )/np.array(freq_ideal), label='Ratio')\n",
    "plt.xlabel('Gap width (um)')\n",
    "plt.ylabel('Frequency with Lk/Frequency without Lk')"
   ]
  },
  {
   "cell_type": "code",
   "execution_count": 220,
   "metadata": {},
   "outputs": [],
   "source": [
    "resonator_pin = 23.9*u.um\n",
    "resonator_gap = 10*u.um"
   ]
  },
  {
   "cell_type": "code",
   "execution_count": 221,
   "metadata": {},
   "outputs": [],
   "source": [
    "lk = (Lk(resonator_gap.value, resonator_pin.value, (resonator_thickness.to(u.um)).value, (lamb.to(u.um)).value)).si"
   ]
  },
  {
   "cell_type": "code",
   "execution_count": 222,
   "metadata": {},
   "outputs": [],
   "source": [
    "L_tot = find_total_inductance()*u.nH/u.m + lk\n",
    "L = find_total_inductance()*u.nH/u.m\n",
    "C_tot = find_total_capacitance()*u.pF/u.m"
   ]
  },
  {
   "cell_type": "code",
   "execution_count": 223,
   "metadata": {},
   "outputs": [
    {
     "name": "stdout",
     "output_type": "stream",
     "text": [
      "Frequency with inductance 7.480055280396575 GHz\n",
      "Frequency error due to length uncertainty 34.62733234696714 MHz\n"
     ]
    }
   ],
   "source": [
    "l = (1527+1130+1035+200*np.pi)*u.um\n",
    "dl = 20*u.um\n",
    "f = 1/(4*l*np.sqrt(L_tot*C_tot))\n",
    "df = 1/(4*l**2*np.sqrt(L_tot*C_tot))*dl\n",
    "print('Frequency with inductance', f.to(u.GHz))\n",
    "print('Frequency error due to length uncertainty', df.to(u.MHz))\n"
   ]
  },
  {
   "cell_type": "code",
   "execution_count": 224,
   "metadata": {},
   "outputs": [
    {
     "name": "stdout",
     "output_type": "stream",
     "text": [
      "Frequency without inductance 7.5712143840733575 GHz\n",
      "Frequency error due to length uncertainty 35.04933411849685 MHz\n"
     ]
    }
   ],
   "source": [
    "f0 = 1/(4*l*np.sqrt(L*C_tot))\n",
    "df0 = 1/(4*l**2*np.sqrt(L*C_tot))*dl\n",
    "print('Frequency without inductance', f0.to(u.GHz))\n",
    "print('Frequency error due to length uncertainty', df0.to(u.MHz))\n"
   ]
  },
  {
   "cell_type": "code",
   "execution_count": 225,
   "metadata": {},
   "outputs": [
    {
     "data": {
      "text/latex": [
       "$-0.091159104 \\; \\mathrm{GHz}$"
      ],
      "text/plain": [
       "<Quantity -0.0911591 GHz>"
      ]
     },
     "execution_count": 225,
     "metadata": {},
     "output_type": "execute_result"
    }
   ],
   "source": [
    "(f-f0).to(u.GHz)"
   ]
  },
  {
   "cell_type": "code",
   "execution_count": 226,
   "metadata": {},
   "outputs": [
    {
     "data": {
      "text/latex": [
       "$0.98795978 \\; \\mathrm{}$"
      ],
      "text/plain": [
       "<Quantity 0.98795978>"
      ]
     },
     "execution_count": 226,
     "metadata": {},
     "output_type": "execute_result"
    }
   ],
   "source": [
    "f/f0"
   ]
  },
  {
   "cell_type": "code",
   "execution_count": 227,
   "metadata": {},
   "outputs": [
    {
     "data": {
      "text/latex": [
       "$391.70156 \\; \\mathrm{\\frac{nH}{m}}$"
      ],
      "text/plain": [
       "<Quantity 391.70156397 nH / m>"
      ]
     },
     "execution_count": 227,
     "metadata": {},
     "output_type": "execute_result"
    }
   ],
   "source": [
    "L_tot"
   ]
  },
  {
   "cell_type": "code",
   "execution_count": null,
   "metadata": {},
   "outputs": [],
   "source": []
  },
  {
   "cell_type": "code",
   "execution_count": null,
   "metadata": {},
   "outputs": [],
   "source": []
  },
  {
   "cell_type": "code",
   "execution_count": null,
   "metadata": {},
   "outputs": [],
   "source": []
  },
  {
   "cell_type": "code",
   "execution_count": 16,
   "metadata": {},
   "outputs": [
    {
     "ename": "Exception",
     "evalue": "",
     "output_type": "error",
     "traceback": [
      "\u001b[1;31m---------------------------------------------------------------------------\u001b[0m",
      "\u001b[1;31mException\u001b[0m                                 Traceback (most recent call last)",
      "Cell \u001b[1;32mIn [16], line 1\u001b[0m\n\u001b[1;32m----> 1\u001b[0m \u001b[38;5;28;01mraise\u001b[39;00m \u001b[38;5;167;01mException\u001b[39;00m\n",
      "\u001b[1;31mException\u001b[0m: "
     ]
    }
   ],
   "source": [
    "raise Exception"
   ]
  },
  {
   "cell_type": "code",
   "execution_count": null,
   "metadata": {},
   "outputs": [],
   "source": []
  },
  {
   "cell_type": "code",
   "execution_count": null,
   "metadata": {},
   "outputs": [],
   "source": []
  },
  {
   "attachments": {},
   "cell_type": "markdown",
   "metadata": {},
   "source": [
    "# Optimize CPW-Feedline coupling"
   ]
  },
  {
   "cell_type": "code",
   "execution_count": 283,
   "metadata": {},
   "outputs": [],
   "source": [
    "resonator_gap = '10'\n",
    "resonator_pin = '23.9'\n",
    "transmission_line_gap = '8'\n",
    "transmission_line_pin = str(good_pins[8])\n",
    "coupling_space = '10'\n"
   ]
  },
  {
   "cell_type": "code",
   "execution_count": 291,
   "metadata": {},
   "outputs": [],
   "source": [
    "def set_up_structure(coupling_space,\n",
    "                     resonator_pin = resonator_pin,\n",
    "                     resonator_gap=resonator_gap,\n",
    "                     transmission_line_pin=transmission_line_pin, \n",
    "                     transmission_line_gap=transmission_line_gap):\n",
    "    button = driver.find_element(By.ID, 'rem-conductor')\n",
    "    for i in range(10):\n",
    "        button.click()\n",
    "    \n",
    "    button = driver.find_element(By.ID, 'add-conductor')\n",
    "    button.click()\n",
    "    button.click()\n",
    "    time.sleep(0.5)\n",
    "    conductor1 = driver.find_element(By.ID, 'tc3')\n",
    "    conductor1.click()\n",
    "    conductor1.click()\n",
    "    time.sleep(0.5)\n",
    "\n",
    "    input_box = driver.find_element(By.ID, 'conductor-gap-widths-elements')\n",
    "    AB = input_box.find_element(By.NAME, 'AB')\n",
    "    BC = input_box.find_element(By.NAME, 'BC')\n",
    "    CD = input_box.find_element(By.NAME, 'CD')\n",
    "    DE = input_box.find_element(By.NAME, 'DE')\n",
    "    EF = input_box.find_element(By.NAME, 'EF')\n",
    "    FG = input_box.find_element(By.NAME, 'FG')\n",
    "    GH = input_box.find_element(By.NAME, 'GH')\n",
    "    \n",
    "    transmission_line_gap = str(transmission_line_gap)\n",
    "    transmission_line_pin = str(transmission_line_pin)\n",
    "    coupling_space = str(coupling_space)\n",
    "    resonator_gap = str(resonator_gap)\n",
    "    resonator_pin = str(resonator_pin)\n",
    "\n",
    "    AB.clear()\n",
    "    AB.send_keys(transmission_line_gap)\n",
    "\n",
    "    CD.clear()\n",
    "    CD.send_keys(transmission_line_gap)\n",
    "\n",
    "    BC.clear()\n",
    "    BC.send_keys(transmission_line_pin)\n",
    "    time.sleep(0.5)\n",
    "\n",
    "    \n",
    "    DE.clear()\n",
    "    DE.send_keys(coupling_space)\n",
    "\n",
    "    EF.clear()\n",
    "    EF.send_keys(resonator_gap)\n",
    "\n",
    "    FG.clear()\n",
    "    FG.send_keys(resonator_pin)\n",
    "\n",
    "    GH.clear()\n",
    "    GH.send_keys(resonator_gap)\n",
    "    "
   ]
  },
  {
   "cell_type": "code",
   "execution_count": 285,
   "metadata": {},
   "outputs": [],
   "source": [
    "def change_gap(coupling_space):\n",
    "    input_box = driver.find_element(By.ID, 'conductor-gap-widths-elements')\n",
    "    DE = input_box.find_element(By.NAME, 'DE')\n",
    "    DE.clear()\n",
    "    DE.send_keys(str(coupling_space))"
   ]
  },
  {
   "cell_type": "code",
   "execution_count": 287,
   "metadata": {},
   "outputs": [],
   "source": [
    "set_up_structure(5)"
   ]
  },
  {
   "cell_type": "code",
   "execution_count": 316,
   "metadata": {},
   "outputs": [],
   "source": [
    "def set_up_resonator(coupler_len = '0.17',\n",
    "                     coupler_l1 = '0',\n",
    "                     coupler_l2 = '0',\n",
    "                     coupling_space = '10',\n",
    "                     resonator_pin = resonator_pin,\n",
    "                     resonator_gap = resonator_gap,):\n",
    "    '''Setup quarter wave resonator'''\n",
    "    ztl1 = driver.find_element(By.ID, 'Zt1_short')\n",
    "    ztl1.click()\n",
    "    ztl2 = driver.find_element(By.ID, 'Zt2_open')\n",
    "    ztl2.click()\n",
    "\n",
    "    SC_coupler_len = driver.find_element(By.ID, 'lc')\n",
    "    SC_coupler_len.clear()\n",
    "    SC_coupler_len.send_keys(coupler_len)\n",
    "\n",
    "    SC_coupler_l1 = driver.find_element(By.ID, 'l1')\n",
    "    SC_coupler_l1.clear()\n",
    "    SC_coupler_l1.send_keys(coupler_l1)\n",
    "\n",
    "    SC_coupler_l2 = driver.find_element(By.ID, 'l2')\n",
    "    SC_coupler_l2.clear()\n",
    "    SC_coupler_l2.send_keys(coupler_l2)\n",
    "    \n",
    "    input_box = driver.find_element(By.ID, 'conductor-gap-widths-elements')\n",
    "    AB = input_box.find_element(By.NAME, 'AB')\n",
    "    BC = input_box.find_element(By.NAME, 'BC')\n",
    "    CD = input_box.find_element(By.NAME, 'CD')\n",
    "    DE = input_box.find_element(By.NAME, 'DE')\n",
    "    EF = input_box.find_element(By.NAME, 'EF')\n",
    "    FG = input_box.find_element(By.NAME, 'FG')\n",
    "    GH = input_box.find_element(By.NAME, 'GH')\n",
    "    \n",
    "\n",
    "    coupling_space = str(coupling_space)\n",
    "    resonator_gap = str(resonator_gap)\n",
    "    resonator_pin = str(resonator_pin)\n",
    "\n",
    "    DE.clear()\n",
    "    DE.send_keys(coupling_space)\n",
    "\n",
    "    EF.clear()\n",
    "    EF.send_keys(resonator_gap)\n",
    "\n",
    "    FG.clear()\n",
    "    FG.send_keys(resonator_pin)\n",
    "\n",
    "    GH.clear()\n",
    "    GH.send_keys(resonator_gap)"
   ]
  },
  {
   "cell_type": "markdown",
   "metadata": {},
   "source": [
    "Setup CPW-feedline structure with coupling gap 5"
   ]
  },
  {
   "cell_type": "code",
   "execution_count": 304,
   "metadata": {},
   "outputs": [],
   "source": [
    "i = 0\n",
    "\n",
    "resonator_gap = pitch[i]\n",
    "resonator_pin = good_pins[pitch[i]]\n",
    "coupler_len = (resonator_gap*2+resonator_pin)/1000\n",
    "\n",
    "\n",
    "set_up_resonator(coupler_len = str(coupler_len),\n",
    "                coupling_space = '10',\n",
    "                resonator_pin = resonator_pin,\n",
    "                resonator_gap = resonator_gap,)"
   ]
  },
  {
   "cell_type": "code",
   "execution_count": 294,
   "metadata": {},
   "outputs": [],
   "source": [
    "def find_resonator_length(freq):\n",
    "    def f(length):\n",
    "        time.sleep(0.01)\n",
    "        SC_coupler_len = driver.find_element(By.ID, 'lc')\n",
    "        SC_coupler_len.clear()\n",
    "        SC_coupler_len.send_keys(length)\n",
    "        return single_cpw_impedance(12.4, 9)-freq\n",
    "    length_val = opt.brentq(f, 0, 10, xtol=0.001)\n",
    "    return round(length_val, 2)"
   ]
  },
  {
   "cell_type": "code",
   "execution_count": 295,
   "metadata": {},
   "outputs": [],
   "source": [
    "def find_resonator_specs():\n",
    "\n",
    "    table = driver.find_element(By.ID, 'resonances')\n",
    "    html = table.get_attribute('innerHTML')\n",
    "    soup = BeautifulSoup(html, 'html.parser')\n",
    "\n",
    "    # Extracting column names from HTML table headers\n",
    "    cols = []\n",
    "    for th in soup.find_all('th'):\n",
    "        cols.append(th.text.strip())\n",
    "        \n",
    "    # Extracting table rows from HTML table body\n",
    "    data = []\n",
    "    for tr in soup.find_all('tr')[1:]:\n",
    "        row = []\n",
    "        for td in tr.find_all('td'):\n",
    "            row.append(td.text.strip())\n",
    "        data.append(row)\n",
    "\n",
    "    # Creating pandas dataframe from table rows and columns\n",
    "    df = pd.DataFrame(data, columns=cols)\n",
    "\n",
    "    return df\n",
    "    \n",
    "    "
   ]
  },
  {
   "cell_type": "code",
   "execution_count": 296,
   "metadata": {},
   "outputs": [],
   "source": [
    "freq = float(find_resonator_specs()['Frequency, GHz'][0])"
   ]
  },
  {
   "cell_type": "code",
   "execution_count": 311,
   "metadata": {},
   "outputs": [],
   "source": [
    "def find_freq(len,l = 'l2'):\n",
    "    SC_coupler_l2 = driver.find_element(By.ID, l)\n",
    "    SC_coupler_l2.clear()\n",
    "    SC_coupler_l2.send_keys(len)\n",
    "\n",
    "    return float(find_resonator_specs()['Frequency, GHz'][0])"
   ]
  },
  {
   "cell_type": "code",
   "execution_count": 348,
   "metadata": {},
   "outputs": [],
   "source": [
    "def f(length, l = 'l1'):\n",
    "        time.sleep(0.01)\n",
    "        SC_coupler_len = driver.find_element(By.ID, l)\n",
    "        SC_coupler_len.clear()\n",
    "        SC_coupler_len.send_keys(str(length))\n",
    "        f_diff = float(find_resonator_specs()['Frequency, GHz'][0])-freq\n",
    "        # print(f_diff)\n",
    "        return f_diff\n",
    "\n",
    "def find_resonator_length(freq,):\n",
    "    \n",
    "    length_val = opt.brentq(f, 0, 200, xtol=0.001)\n",
    "    return round(length_val, 4)\n",
    "\n",
    "    "
   ]
  },
  {
   "cell_type": "code",
   "execution_count": 349,
   "metadata": {},
   "outputs": [],
   "source": [
    "i = 0\n",
    "freq = freqs[i]\n",
    "\n",
    "resonator_gap = pitch[i]\n",
    "resonator_pin = good_pins[pitch[i]]\n",
    "coupler_len = (resonator_gap*2+resonator_pin)/1000\n",
    "coupling_space = distance_to_feedline[i]/1000\n",
    "\n",
    "\n",
    "set_up_resonator(coupler_len = str(coupler_len),\n",
    "                coupling_space = str(coupling_space),\n",
    "                resonator_pin = resonator_pin,\n",
    "                resonator_gap = resonator_gap,\n",
    "                coupler_l1 = '10')"
   ]
  },
  {
   "cell_type": "code",
   "execution_count": 350,
   "metadata": {},
   "outputs": [],
   "source": [
    "l = find_resonator_length(freqs[0])"
   ]
  },
  {
   "cell_type": "code",
   "execution_count": 351,
   "metadata": {},
   "outputs": [
    {
     "data": {
      "text/plain": [
       "5.0535"
      ]
     },
     "execution_count": 351,
     "metadata": {},
     "output_type": "execute_result"
    }
   ],
   "source": [
    "l"
   ]
  },
  {
   "cell_type": "code",
   "execution_count": 352,
   "metadata": {},
   "outputs": [],
   "source": [
    "freq_len = {}\n",
    "for freq in freqs:\n",
    "    freq_len[freq] = find_resonator_length(freq)"
   ]
  },
  {
   "cell_type": "code",
   "execution_count": 353,
   "metadata": {},
   "outputs": [
    {
     "data": {
      "text/plain": [
       "{5.9: 5.0535,\n",
       " 6.2: 4.8072,\n",
       " 6.5: 4.5836,\n",
       " 6.7: 4.4457,\n",
       " 7.0: 4.2536,\n",
       " 7.2: 4.1344,\n",
       " 7.5: 3.9674,\n",
       " 7.9: 3.7646}"
      ]
     },
     "execution_count": 353,
     "metadata": {},
     "output_type": "execute_result"
    }
   ],
   "source": [
    "freq_len"
   ]
  },
  {
   "cell_type": "code",
   "execution_count": 356,
   "metadata": {},
   "outputs": [],
   "source": [
    "def find_Q(gap,freq):\n",
    "\n",
    "    change_gap(gap)\n",
    "    \n",
    "    length = freq_len[freq]\n",
    "    SC_coupler_len = driver.find_element(By.ID, 'l2')\n",
    "    SC_coupler_len.clear()\n",
    "    SC_coupler_len.send_keys(str(length))\n",
    "\n",
    "    \n",
    "    return float(find_resonator_specs()['Quality factor'][0])\n",
    "\n",
    "    \n"
   ]
  },
  {
   "cell_type": "code",
   "execution_count": 357,
   "metadata": {},
   "outputs": [
    {
     "data": {
      "text/plain": [
       "5.9"
      ]
     },
     "execution_count": 357,
     "metadata": {},
     "output_type": "execute_result"
    }
   ],
   "source": [
    "freqs[0]"
   ]
  },
  {
   "cell_type": "code",
   "execution_count": 362,
   "metadata": {},
   "outputs": [],
   "source": [
    "Qs = {}\n",
    "for i in range(len(freqs)):\n",
    "    Qs[freqs[i]] = find_Q(1,freqs[i])"
   ]
  },
  {
   "cell_type": "code",
   "execution_count": 367,
   "metadata": {},
   "outputs": [
    {
     "data": {
      "text/plain": [
       "[1278612.0,\n",
       " 1210136.0,\n",
       " 1149617.0,\n",
       " 1113073.0,\n",
       " 1063157.0,\n",
       " 1032764.0,\n",
       " 990927.0,\n",
       " 941290.0]"
      ]
     },
     "execution_count": 367,
     "metadata": {},
     "output_type": "execute_result"
    }
   ],
   "source": [
    "list(Qs.values())"
   ]
  },
  {
   "cell_type": "code",
   "execution_count": 359,
   "metadata": {},
   "outputs": [],
   "source": [
    "kappa = 2*np.pi*freq*u.GHz/Q"
   ]
  },
  {
   "cell_type": "code",
   "execution_count": 360,
   "metadata": {},
   "outputs": [
    {
     "data": {
      "text/latex": [
       "$0.038821131 \\; \\mathrm{MHz}$"
      ],
      "text/plain": [
       "<Quantity 0.03882113 MHz>"
      ]
     },
     "execution_count": 360,
     "metadata": {},
     "output_type": "execute_result"
    }
   ],
   "source": [
    "kappa.to(u.MHz)"
   ]
  },
  {
   "cell_type": "code",
   "execution_count": 373,
   "metadata": {},
   "outputs": [],
   "source": [
    "results = {}\n",
    "results['Frequency'] = freqs\n",
    "results['Q'] = list(Qs.values())\n",
    "results['Length'] = list(freq_len.values())\n",
    "results['Gap'] = pitch\n",
    "results['Pin'] = [good_pins[p] for p in pitch]\n",
    "results['coupling_gap'] = distance_to_feedline"
   ]
  },
  {
   "cell_type": "code",
   "execution_count": 374,
   "metadata": {},
   "outputs": [],
   "source": [
    "r = pd.DataFrame(results)"
   ]
  },
  {
   "cell_type": "code",
   "execution_count": 375,
   "metadata": {},
   "outputs": [
    {
     "data": {
      "text/html": [
       "<div>\n",
       "<style scoped>\n",
       "    .dataframe tbody tr th:only-of-type {\n",
       "        vertical-align: middle;\n",
       "    }\n",
       "\n",
       "    .dataframe tbody tr th {\n",
       "        vertical-align: top;\n",
       "    }\n",
       "\n",
       "    .dataframe thead th {\n",
       "        text-align: right;\n",
       "    }\n",
       "</style>\n",
       "<table border=\"1\" class=\"dataframe\">\n",
       "  <thead>\n",
       "    <tr style=\"text-align: right;\">\n",
       "      <th></th>\n",
       "      <th>Frequency</th>\n",
       "      <th>Q</th>\n",
       "      <th>Length</th>\n",
       "      <th>Gap</th>\n",
       "      <th>Pin</th>\n",
       "      <th>coupling_gap</th>\n",
       "    </tr>\n",
       "  </thead>\n",
       "  <tbody>\n",
       "    <tr>\n",
       "      <th>0</th>\n",
       "      <td>5.9</td>\n",
       "      <td>1278612.0</td>\n",
       "      <td>5.0535</td>\n",
       "      <td>10</td>\n",
       "      <td>17.73</td>\n",
       "      <td>118</td>\n",
       "    </tr>\n",
       "    <tr>\n",
       "      <th>1</th>\n",
       "      <td>6.2</td>\n",
       "      <td>1210136.0</td>\n",
       "      <td>4.8072</td>\n",
       "      <td>12</td>\n",
       "      <td>21.27</td>\n",
       "      <td>123</td>\n",
       "    </tr>\n",
       "    <tr>\n",
       "      <th>2</th>\n",
       "      <td>6.5</td>\n",
       "      <td>1149617.0</td>\n",
       "      <td>4.5836</td>\n",
       "      <td>14</td>\n",
       "      <td>24.82</td>\n",
       "      <td>158</td>\n",
       "    </tr>\n",
       "    <tr>\n",
       "      <th>3</th>\n",
       "      <td>6.7</td>\n",
       "      <td>1113073.0</td>\n",
       "      <td>4.4457</td>\n",
       "      <td>16</td>\n",
       "      <td>28.37</td>\n",
       "      <td>158</td>\n",
       "    </tr>\n",
       "    <tr>\n",
       "      <th>4</th>\n",
       "      <td>7.0</td>\n",
       "      <td>1063157.0</td>\n",
       "      <td>4.2536</td>\n",
       "      <td>2</td>\n",
       "      <td>3.55</td>\n",
       "      <td>20</td>\n",
       "    </tr>\n",
       "    <tr>\n",
       "      <th>5</th>\n",
       "      <td>7.2</td>\n",
       "      <td>1032764.0</td>\n",
       "      <td>4.1344</td>\n",
       "      <td>4</td>\n",
       "      <td>7.09</td>\n",
       "      <td>33</td>\n",
       "    </tr>\n",
       "    <tr>\n",
       "      <th>6</th>\n",
       "      <td>7.5</td>\n",
       "      <td>990927.0</td>\n",
       "      <td>3.9674</td>\n",
       "      <td>6</td>\n",
       "      <td>10.64</td>\n",
       "      <td>58</td>\n",
       "    </tr>\n",
       "    <tr>\n",
       "      <th>7</th>\n",
       "      <td>7.9</td>\n",
       "      <td>941290.0</td>\n",
       "      <td>3.7646</td>\n",
       "      <td>8</td>\n",
       "      <td>14.18</td>\n",
       "      <td>93</td>\n",
       "    </tr>\n",
       "  </tbody>\n",
       "</table>\n",
       "</div>"
      ],
      "text/plain": [
       "   Frequency          Q  Length  Gap    Pin  coupling_gap\n",
       "0        5.9  1278612.0  5.0535   10  17.73           118\n",
       "1        6.2  1210136.0  4.8072   12  21.27           123\n",
       "2        6.5  1149617.0  4.5836   14  24.82           158\n",
       "3        6.7  1113073.0  4.4457   16  28.37           158\n",
       "4        7.0  1063157.0  4.2536    2   3.55            20\n",
       "5        7.2  1032764.0  4.1344    4   7.09            33\n",
       "6        7.5   990927.0  3.9674    6  10.64            58\n",
       "7        7.9   941290.0  3.7646    8  14.18            93"
      ]
     },
     "execution_count": 375,
     "metadata": {},
     "output_type": "execute_result"
    }
   ],
   "source": [
    "r"
   ]
  },
  {
   "cell_type": "code",
   "execution_count": 376,
   "metadata": {},
   "outputs": [],
   "source": [
    "r.to_csv('results.csv')"
   ]
  },
  {
   "cell_type": "markdown",
   "metadata": {},
   "source": [
    "Find optimal gap based on frequency"
   ]
  },
  {
   "cell_type": "code",
   "execution_count": null,
   "metadata": {},
   "outputs": [],
   "source": [
    "def find_optimal_gap(freq):\n",
    "    def kappa(gap):\n",
    "        time.sleep(0.01)\n",
    "        return (2*np.pi*freq*u.GHz/find_Q(gap,freq)-1*u.MHz).to(u.MHz).value\n",
    "    gap_val = opt.brentq(kappa, 0, 15, xtol=0.001)\n",
    "    return round(gap_val, 2)"
   ]
  },
  {
   "cell_type": "code",
   "execution_count": null,
   "metadata": {},
   "outputs": [
    {
     "data": {
      "text/plain": [
       "6.74"
      ]
     },
     "execution_count": 31,
     "metadata": {},
     "output_type": "execute_result"
    }
   ],
   "source": [
    "find_optimal_gap(freqs[0]/1000)"
   ]
  },
  {
   "cell_type": "code",
   "execution_count": null,
   "metadata": {},
   "outputs": [
    {
     "ename": "KeyboardInterrupt",
     "evalue": "",
     "output_type": "error",
     "traceback": [
      "\u001b[1;31m---------------------------------------------------------------------------\u001b[0m",
      "\u001b[1;31mKeyboardInterrupt\u001b[0m                         Traceback (most recent call last)",
      "Cell \u001b[1;32mIn [32], line 5\u001b[0m\n\u001b[0;32m      2\u001b[0m gapps \u001b[38;5;241m=\u001b[39m []\n\u001b[0;32m      4\u001b[0m \u001b[38;5;28;01mfor\u001b[39;00m freq \u001b[38;5;129;01min\u001b[39;00m freqs\u001b[38;5;241m/\u001b[39m\u001b[38;5;241m1000\u001b[39m:\n\u001b[1;32m----> 5\u001b[0m     gaps[freq] \u001b[38;5;241m=\u001b[39m \u001b[43mfind_optimal_gap\u001b[49m\u001b[43m(\u001b[49m\u001b[43mfreq\u001b[49m\u001b[43m)\u001b[49m\n\u001b[0;32m      6\u001b[0m     gapps\u001b[38;5;241m.\u001b[39mappend(gaps[freq])\n",
      "Cell \u001b[1;32mIn [30], line 5\u001b[0m, in \u001b[0;36mfind_optimal_gap\u001b[1;34m(freq)\u001b[0m\n\u001b[0;32m      3\u001b[0m     time\u001b[38;5;241m.\u001b[39msleep(\u001b[38;5;241m0.01\u001b[39m)\n\u001b[0;32m      4\u001b[0m     \u001b[38;5;28;01mreturn\u001b[39;00m (\u001b[38;5;241m2\u001b[39m\u001b[38;5;241m*\u001b[39mnp\u001b[38;5;241m.\u001b[39mpi\u001b[38;5;241m*\u001b[39mfreq\u001b[38;5;241m*\u001b[39mu\u001b[38;5;241m.\u001b[39mGHz\u001b[38;5;241m/\u001b[39mfind_Q(gap,freq)\u001b[38;5;241m-\u001b[39m\u001b[38;5;241m1\u001b[39m\u001b[38;5;241m*\u001b[39mu\u001b[38;5;241m.\u001b[39mMHz)\u001b[38;5;241m.\u001b[39mto(u\u001b[38;5;241m.\u001b[39mMHz)\u001b[38;5;241m.\u001b[39mvalue\n\u001b[1;32m----> 5\u001b[0m gap_val \u001b[38;5;241m=\u001b[39m \u001b[43mopt\u001b[49m\u001b[38;5;241;43m.\u001b[39;49m\u001b[43mbrentq\u001b[49m\u001b[43m(\u001b[49m\u001b[43mkappa\u001b[49m\u001b[43m,\u001b[49m\u001b[43m \u001b[49m\u001b[38;5;241;43m0\u001b[39;49m\u001b[43m,\u001b[49m\u001b[43m \u001b[49m\u001b[38;5;241;43m15\u001b[39;49m\u001b[43m,\u001b[49m\u001b[43m \u001b[49m\u001b[43mxtol\u001b[49m\u001b[38;5;241;43m=\u001b[39;49m\u001b[38;5;241;43m0.001\u001b[39;49m\u001b[43m)\u001b[49m\n\u001b[0;32m      6\u001b[0m \u001b[38;5;28;01mreturn\u001b[39;00m \u001b[38;5;28mround\u001b[39m(gap_val, \u001b[38;5;241m2\u001b[39m)\n",
      "File \u001b[1;32mc:\\Users\\slab\\anaconda3\\envs\\qmetal\\lib\\site-packages\\scipy\\optimize\\_zeros_py.py:784\u001b[0m, in \u001b[0;36mbrentq\u001b[1;34m(f, a, b, args, xtol, rtol, maxiter, full_output, disp)\u001b[0m\n\u001b[0;32m    782\u001b[0m \u001b[38;5;28;01mif\u001b[39;00m rtol \u001b[38;5;241m<\u001b[39m _rtol:\n\u001b[0;32m    783\u001b[0m     \u001b[38;5;28;01mraise\u001b[39;00m \u001b[38;5;167;01mValueError\u001b[39;00m(\u001b[38;5;124m\"\u001b[39m\u001b[38;5;124mrtol too small (\u001b[39m\u001b[38;5;132;01m%g\u001b[39;00m\u001b[38;5;124m < \u001b[39m\u001b[38;5;132;01m%g\u001b[39;00m\u001b[38;5;124m)\u001b[39m\u001b[38;5;124m\"\u001b[39m \u001b[38;5;241m%\u001b[39m (rtol, _rtol))\n\u001b[1;32m--> 784\u001b[0m r \u001b[38;5;241m=\u001b[39m \u001b[43m_zeros\u001b[49m\u001b[38;5;241;43m.\u001b[39;49m\u001b[43m_brentq\u001b[49m\u001b[43m(\u001b[49m\u001b[43mf\u001b[49m\u001b[43m,\u001b[49m\u001b[43m \u001b[49m\u001b[43ma\u001b[49m\u001b[43m,\u001b[49m\u001b[43m \u001b[49m\u001b[43mb\u001b[49m\u001b[43m,\u001b[49m\u001b[43m \u001b[49m\u001b[43mxtol\u001b[49m\u001b[43m,\u001b[49m\u001b[43m \u001b[49m\u001b[43mrtol\u001b[49m\u001b[43m,\u001b[49m\u001b[43m \u001b[49m\u001b[43mmaxiter\u001b[49m\u001b[43m,\u001b[49m\u001b[43m \u001b[49m\u001b[43margs\u001b[49m\u001b[43m,\u001b[49m\u001b[43m \u001b[49m\u001b[43mfull_output\u001b[49m\u001b[43m,\u001b[49m\u001b[43m \u001b[49m\u001b[43mdisp\u001b[49m\u001b[43m)\u001b[49m\n\u001b[0;32m    785\u001b[0m \u001b[38;5;28;01mreturn\u001b[39;00m results_c(full_output, r)\n",
      "Cell \u001b[1;32mIn [30], line 4\u001b[0m, in \u001b[0;36mfind_optimal_gap.<locals>.kappa\u001b[1;34m(gap)\u001b[0m\n\u001b[0;32m      2\u001b[0m \u001b[38;5;28;01mdef\u001b[39;00m \u001b[38;5;21mkappa\u001b[39m(gap):\n\u001b[0;32m      3\u001b[0m     time\u001b[38;5;241m.\u001b[39msleep(\u001b[38;5;241m0.01\u001b[39m)\n\u001b[1;32m----> 4\u001b[0m     \u001b[38;5;28;01mreturn\u001b[39;00m (\u001b[38;5;241m2\u001b[39m\u001b[38;5;241m*\u001b[39mnp\u001b[38;5;241m.\u001b[39mpi\u001b[38;5;241m*\u001b[39mfreq\u001b[38;5;241m*\u001b[39mu\u001b[38;5;241m.\u001b[39mGHz\u001b[38;5;241m/\u001b[39m\u001b[43mfind_Q\u001b[49m\u001b[43m(\u001b[49m\u001b[43mgap\u001b[49m\u001b[43m,\u001b[49m\u001b[43mfreq\u001b[49m\u001b[43m)\u001b[49m\u001b[38;5;241m-\u001b[39m\u001b[38;5;241m1\u001b[39m\u001b[38;5;241m*\u001b[39mu\u001b[38;5;241m.\u001b[39mMHz)\u001b[38;5;241m.\u001b[39mto(u\u001b[38;5;241m.\u001b[39mMHz)\u001b[38;5;241m.\u001b[39mvalue\n",
      "Cell \u001b[1;32mIn [25], line 5\u001b[0m, in \u001b[0;36mfind_Q\u001b[1;34m(gap, freq)\u001b[0m\n\u001b[0;32m      1\u001b[0m \u001b[38;5;28;01mdef\u001b[39;00m \u001b[38;5;21mfind_Q\u001b[39m(gap,freq):\n\u001b[0;32m      3\u001b[0m     change_gap(gap)\n\u001b[1;32m----> 5\u001b[0m     length \u001b[38;5;241m=\u001b[39m \u001b[43mfind_resonator_length\u001b[49m\u001b[43m(\u001b[49m\u001b[43mfreq\u001b[49m\u001b[43m)\u001b[49m\n\u001b[0;32m      6\u001b[0m     SC_coupler_len \u001b[38;5;241m=\u001b[39m driver\u001b[38;5;241m.\u001b[39mfind_element(By\u001b[38;5;241m.\u001b[39mID, \u001b[38;5;124m'\u001b[39m\u001b[38;5;124ml2\u001b[39m\u001b[38;5;124m'\u001b[39m)\n\u001b[0;32m      7\u001b[0m     SC_coupler_len\u001b[38;5;241m.\u001b[39mclear()\n",
      "Cell \u001b[1;32mIn [20], line 10\u001b[0m, in \u001b[0;36mfind_resonator_length\u001b[1;34m(freq)\u001b[0m\n\u001b[0;32m      8\u001b[0m \u001b[38;5;28;01mdef\u001b[39;00m \u001b[38;5;21mfind_resonator_length\u001b[39m(freq):\n\u001b[1;32m---> 10\u001b[0m     length_val \u001b[38;5;241m=\u001b[39m \u001b[43mopt\u001b[49m\u001b[38;5;241;43m.\u001b[39;49m\u001b[43mbrentq\u001b[49m\u001b[43m(\u001b[49m\u001b[43mf\u001b[49m\u001b[43m,\u001b[49m\u001b[43m \u001b[49m\u001b[38;5;241;43m0\u001b[39;49m\u001b[43m,\u001b[49m\u001b[43m \u001b[49m\u001b[38;5;241;43m10\u001b[39;49m\u001b[43m,\u001b[49m\u001b[43m \u001b[49m\u001b[43mxtol\u001b[49m\u001b[38;5;241;43m=\u001b[39;49m\u001b[38;5;241;43m0.001\u001b[39;49m\u001b[43m)\u001b[49m\n\u001b[0;32m     11\u001b[0m     \u001b[38;5;28;01mreturn\u001b[39;00m \u001b[38;5;28mround\u001b[39m(length_val, \u001b[38;5;241m2\u001b[39m)\n",
      "File \u001b[1;32mc:\\Users\\slab\\anaconda3\\envs\\qmetal\\lib\\site-packages\\scipy\\optimize\\_zeros_py.py:784\u001b[0m, in \u001b[0;36mbrentq\u001b[1;34m(f, a, b, args, xtol, rtol, maxiter, full_output, disp)\u001b[0m\n\u001b[0;32m    782\u001b[0m \u001b[38;5;28;01mif\u001b[39;00m rtol \u001b[38;5;241m<\u001b[39m _rtol:\n\u001b[0;32m    783\u001b[0m     \u001b[38;5;28;01mraise\u001b[39;00m \u001b[38;5;167;01mValueError\u001b[39;00m(\u001b[38;5;124m\"\u001b[39m\u001b[38;5;124mrtol too small (\u001b[39m\u001b[38;5;132;01m%g\u001b[39;00m\u001b[38;5;124m < \u001b[39m\u001b[38;5;132;01m%g\u001b[39;00m\u001b[38;5;124m)\u001b[39m\u001b[38;5;124m\"\u001b[39m \u001b[38;5;241m%\u001b[39m (rtol, _rtol))\n\u001b[1;32m--> 784\u001b[0m r \u001b[38;5;241m=\u001b[39m \u001b[43m_zeros\u001b[49m\u001b[38;5;241;43m.\u001b[39;49m\u001b[43m_brentq\u001b[49m\u001b[43m(\u001b[49m\u001b[43mf\u001b[49m\u001b[43m,\u001b[49m\u001b[43m \u001b[49m\u001b[43ma\u001b[49m\u001b[43m,\u001b[49m\u001b[43m \u001b[49m\u001b[43mb\u001b[49m\u001b[43m,\u001b[49m\u001b[43m \u001b[49m\u001b[43mxtol\u001b[49m\u001b[43m,\u001b[49m\u001b[43m \u001b[49m\u001b[43mrtol\u001b[49m\u001b[43m,\u001b[49m\u001b[43m \u001b[49m\u001b[43mmaxiter\u001b[49m\u001b[43m,\u001b[49m\u001b[43m \u001b[49m\u001b[43margs\u001b[49m\u001b[43m,\u001b[49m\u001b[43m \u001b[49m\u001b[43mfull_output\u001b[49m\u001b[43m,\u001b[49m\u001b[43m \u001b[49m\u001b[43mdisp\u001b[49m\u001b[43m)\u001b[49m\n\u001b[0;32m    785\u001b[0m \u001b[38;5;28;01mreturn\u001b[39;00m results_c(full_output, r)\n",
      "Cell \u001b[1;32mIn [20], line 5\u001b[0m, in \u001b[0;36mf\u001b[1;34m(length)\u001b[0m\n\u001b[0;32m      3\u001b[0m SC_coupler_len \u001b[38;5;241m=\u001b[39m driver\u001b[38;5;241m.\u001b[39mfind_element(By\u001b[38;5;241m.\u001b[39mID, \u001b[38;5;124m'\u001b[39m\u001b[38;5;124ml2\u001b[39m\u001b[38;5;124m'\u001b[39m)\n\u001b[0;32m      4\u001b[0m SC_coupler_len\u001b[38;5;241m.\u001b[39mclear()\n\u001b[1;32m----> 5\u001b[0m \u001b[43mSC_coupler_len\u001b[49m\u001b[38;5;241;43m.\u001b[39;49m\u001b[43msend_keys\u001b[49m\u001b[43m(\u001b[49m\u001b[38;5;28;43mstr\u001b[39;49m\u001b[43m(\u001b[49m\u001b[43mlength\u001b[49m\u001b[43m)\u001b[49m\u001b[43m)\u001b[49m\n\u001b[0;32m      6\u001b[0m \u001b[38;5;28;01mreturn\u001b[39;00m \u001b[38;5;28mfloat\u001b[39m(find_resonator_specs()[\u001b[38;5;124m'\u001b[39m\u001b[38;5;124mFrequency, GHz\u001b[39m\u001b[38;5;124m'\u001b[39m][\u001b[38;5;241m0\u001b[39m])\u001b[38;5;241m-\u001b[39mfreq\n",
      "File \u001b[1;32mc:\\Users\\slab\\anaconda3\\envs\\qmetal\\lib\\site-packages\\selenium\\webdriver\\remote\\webelement.py:477\u001b[0m, in \u001b[0;36mWebElement.send_keys\u001b[1;34m(self, *value)\u001b[0m\n\u001b[0;32m    474\u001b[0m     \u001b[38;5;28;01mif\u001b[39;00m local_file \u001b[38;5;129;01mis\u001b[39;00m \u001b[38;5;129;01mnot\u001b[39;00m \u001b[38;5;28;01mNone\u001b[39;00m:\n\u001b[0;32m    475\u001b[0m         value \u001b[38;5;241m=\u001b[39m \u001b[38;5;28mself\u001b[39m\u001b[38;5;241m.\u001b[39m_upload(local_file)\n\u001b[1;32m--> 477\u001b[0m \u001b[38;5;28;43mself\u001b[39;49m\u001b[38;5;241;43m.\u001b[39;49m\u001b[43m_execute\u001b[49m\u001b[43m(\u001b[49m\u001b[43mCommand\u001b[49m\u001b[38;5;241;43m.\u001b[39;49m\u001b[43mSEND_KEYS_TO_ELEMENT\u001b[49m\u001b[43m,\u001b[49m\n\u001b[0;32m    478\u001b[0m \u001b[43m              \u001b[49m\u001b[43m{\u001b[49m\u001b[38;5;124;43m'\u001b[39;49m\u001b[38;5;124;43mtext\u001b[39;49m\u001b[38;5;124;43m'\u001b[39;49m\u001b[43m:\u001b[49m\u001b[43m \u001b[49m\u001b[38;5;124;43m\"\u001b[39;49m\u001b[38;5;124;43m\"\u001b[39;49m\u001b[38;5;241;43m.\u001b[39;49m\u001b[43mjoin\u001b[49m\u001b[43m(\u001b[49m\u001b[43mkeys_to_typing\u001b[49m\u001b[43m(\u001b[49m\u001b[43mvalue\u001b[49m\u001b[43m)\u001b[49m\u001b[43m)\u001b[49m\u001b[43m,\u001b[49m\n\u001b[0;32m    479\u001b[0m \u001b[43m               \u001b[49m\u001b[38;5;124;43m'\u001b[39;49m\u001b[38;5;124;43mvalue\u001b[39;49m\u001b[38;5;124;43m'\u001b[39;49m\u001b[43m:\u001b[49m\u001b[43m \u001b[49m\u001b[43mkeys_to_typing\u001b[49m\u001b[43m(\u001b[49m\u001b[43mvalue\u001b[49m\u001b[43m)\u001b[49m\u001b[43m}\u001b[49m\u001b[43m)\u001b[49m\n",
      "File \u001b[1;32mc:\\Users\\slab\\anaconda3\\envs\\qmetal\\lib\\site-packages\\selenium\\webdriver\\remote\\webelement.py:633\u001b[0m, in \u001b[0;36mWebElement._execute\u001b[1;34m(self, command, params)\u001b[0m\n\u001b[0;32m    631\u001b[0m     params \u001b[38;5;241m=\u001b[39m {}\n\u001b[0;32m    632\u001b[0m params[\u001b[38;5;124m'\u001b[39m\u001b[38;5;124mid\u001b[39m\u001b[38;5;124m'\u001b[39m] \u001b[38;5;241m=\u001b[39m \u001b[38;5;28mself\u001b[39m\u001b[38;5;241m.\u001b[39m_id\n\u001b[1;32m--> 633\u001b[0m \u001b[38;5;28;01mreturn\u001b[39;00m \u001b[38;5;28;43mself\u001b[39;49m\u001b[38;5;241;43m.\u001b[39;49m\u001b[43m_parent\u001b[49m\u001b[38;5;241;43m.\u001b[39;49m\u001b[43mexecute\u001b[49m\u001b[43m(\u001b[49m\u001b[43mcommand\u001b[49m\u001b[43m,\u001b[49m\u001b[43m \u001b[49m\u001b[43mparams\u001b[49m\u001b[43m)\u001b[49m\n",
      "File \u001b[1;32mc:\\Users\\slab\\anaconda3\\envs\\qmetal\\lib\\site-packages\\selenium\\webdriver\\remote\\webdriver.py:319\u001b[0m, in \u001b[0;36mWebDriver.execute\u001b[1;34m(self, driver_command, params)\u001b[0m\n\u001b[0;32m    316\u001b[0m         params[\u001b[38;5;124m'\u001b[39m\u001b[38;5;124msessionId\u001b[39m\u001b[38;5;124m'\u001b[39m] \u001b[38;5;241m=\u001b[39m \u001b[38;5;28mself\u001b[39m\u001b[38;5;241m.\u001b[39msession_id\n\u001b[0;32m    318\u001b[0m params \u001b[38;5;241m=\u001b[39m \u001b[38;5;28mself\u001b[39m\u001b[38;5;241m.\u001b[39m_wrap_value(params)\n\u001b[1;32m--> 319\u001b[0m response \u001b[38;5;241m=\u001b[39m \u001b[38;5;28;43mself\u001b[39;49m\u001b[38;5;241;43m.\u001b[39;49m\u001b[43mcommand_executor\u001b[49m\u001b[38;5;241;43m.\u001b[39;49m\u001b[43mexecute\u001b[49m\u001b[43m(\u001b[49m\u001b[43mdriver_command\u001b[49m\u001b[43m,\u001b[49m\u001b[43m \u001b[49m\u001b[43mparams\u001b[49m\u001b[43m)\u001b[49m\n\u001b[0;32m    320\u001b[0m \u001b[38;5;28;01mif\u001b[39;00m response:\n\u001b[0;32m    321\u001b[0m     \u001b[38;5;28mself\u001b[39m\u001b[38;5;241m.\u001b[39merror_handler\u001b[38;5;241m.\u001b[39mcheck_response(response)\n",
      "File \u001b[1;32mc:\\Users\\slab\\anaconda3\\envs\\qmetal\\lib\\site-packages\\selenium\\webdriver\\remote\\remote_connection.py:374\u001b[0m, in \u001b[0;36mRemoteConnection.execute\u001b[1;34m(self, command, params)\u001b[0m\n\u001b[0;32m    372\u001b[0m data \u001b[38;5;241m=\u001b[39m utils\u001b[38;5;241m.\u001b[39mdump_json(params)\n\u001b[0;32m    373\u001b[0m url \u001b[38;5;241m=\u001b[39m \u001b[38;5;124m'\u001b[39m\u001b[38;5;132;01m%s\u001b[39;00m\u001b[38;5;132;01m%s\u001b[39;00m\u001b[38;5;124m'\u001b[39m \u001b[38;5;241m%\u001b[39m (\u001b[38;5;28mself\u001b[39m\u001b[38;5;241m.\u001b[39m_url, path)\n\u001b[1;32m--> 374\u001b[0m \u001b[38;5;28;01mreturn\u001b[39;00m \u001b[38;5;28;43mself\u001b[39;49m\u001b[38;5;241;43m.\u001b[39;49m\u001b[43m_request\u001b[49m\u001b[43m(\u001b[49m\u001b[43mcommand_info\u001b[49m\u001b[43m[\u001b[49m\u001b[38;5;241;43m0\u001b[39;49m\u001b[43m]\u001b[49m\u001b[43m,\u001b[49m\u001b[43m \u001b[49m\u001b[43murl\u001b[49m\u001b[43m,\u001b[49m\u001b[43m \u001b[49m\u001b[43mbody\u001b[49m\u001b[38;5;241;43m=\u001b[39;49m\u001b[43mdata\u001b[49m\u001b[43m)\u001b[49m\n",
      "File \u001b[1;32mc:\\Users\\slab\\anaconda3\\envs\\qmetal\\lib\\site-packages\\selenium\\webdriver\\remote\\remote_connection.py:397\u001b[0m, in \u001b[0;36mRemoteConnection._request\u001b[1;34m(self, method, url, body)\u001b[0m\n\u001b[0;32m    394\u001b[0m     body \u001b[38;5;241m=\u001b[39m \u001b[38;5;28;01mNone\u001b[39;00m\n\u001b[0;32m    396\u001b[0m \u001b[38;5;28;01mif\u001b[39;00m \u001b[38;5;28mself\u001b[39m\u001b[38;5;241m.\u001b[39mkeep_alive:\n\u001b[1;32m--> 397\u001b[0m     resp \u001b[38;5;241m=\u001b[39m \u001b[38;5;28;43mself\u001b[39;49m\u001b[38;5;241;43m.\u001b[39;49m\u001b[43m_conn\u001b[49m\u001b[38;5;241;43m.\u001b[39;49m\u001b[43mrequest\u001b[49m\u001b[43m(\u001b[49m\u001b[43mmethod\u001b[49m\u001b[43m,\u001b[49m\u001b[43m \u001b[49m\u001b[43murl\u001b[49m\u001b[43m,\u001b[49m\u001b[43m \u001b[49m\u001b[43mbody\u001b[49m\u001b[38;5;241;43m=\u001b[39;49m\u001b[43mbody\u001b[49m\u001b[43m,\u001b[49m\u001b[43m \u001b[49m\u001b[43mheaders\u001b[49m\u001b[38;5;241;43m=\u001b[39;49m\u001b[43mheaders\u001b[49m\u001b[43m)\u001b[49m\n\u001b[0;32m    399\u001b[0m     statuscode \u001b[38;5;241m=\u001b[39m resp\u001b[38;5;241m.\u001b[39mstatus\n\u001b[0;32m    400\u001b[0m \u001b[38;5;28;01melse\u001b[39;00m:\n",
      "File \u001b[1;32mc:\\Users\\slab\\anaconda3\\envs\\qmetal\\lib\\site-packages\\urllib3\\request.py:78\u001b[0m, in \u001b[0;36mRequestMethods.request\u001b[1;34m(self, method, url, fields, headers, **urlopen_kw)\u001b[0m\n\u001b[0;32m     74\u001b[0m     \u001b[38;5;28;01mreturn\u001b[39;00m \u001b[38;5;28mself\u001b[39m\u001b[38;5;241m.\u001b[39mrequest_encode_url(\n\u001b[0;32m     75\u001b[0m         method, url, fields\u001b[38;5;241m=\u001b[39mfields, headers\u001b[38;5;241m=\u001b[39mheaders, \u001b[38;5;241m*\u001b[39m\u001b[38;5;241m*\u001b[39murlopen_kw\n\u001b[0;32m     76\u001b[0m     )\n\u001b[0;32m     77\u001b[0m \u001b[38;5;28;01melse\u001b[39;00m:\n\u001b[1;32m---> 78\u001b[0m     \u001b[38;5;28;01mreturn\u001b[39;00m \u001b[38;5;28mself\u001b[39m\u001b[38;5;241m.\u001b[39mrequest_encode_body(\n\u001b[0;32m     79\u001b[0m         method, url, fields\u001b[38;5;241m=\u001b[39mfields, headers\u001b[38;5;241m=\u001b[39mheaders, \u001b[38;5;241m*\u001b[39m\u001b[38;5;241m*\u001b[39murlopen_kw\n\u001b[0;32m     80\u001b[0m     )\n",
      "File \u001b[1;32mc:\\Users\\slab\\anaconda3\\envs\\qmetal\\lib\\site-packages\\urllib3\\request.py:170\u001b[0m, in \u001b[0;36mRequestMethods.request_encode_body\u001b[1;34m(self, method, url, fields, headers, encode_multipart, multipart_boundary, **urlopen_kw)\u001b[0m\n\u001b[0;32m    167\u001b[0m extra_kw[\u001b[38;5;124m\"\u001b[39m\u001b[38;5;124mheaders\u001b[39m\u001b[38;5;124m\"\u001b[39m]\u001b[38;5;241m.\u001b[39mupdate(headers)\n\u001b[0;32m    168\u001b[0m extra_kw\u001b[38;5;241m.\u001b[39mupdate(urlopen_kw)\n\u001b[1;32m--> 170\u001b[0m \u001b[38;5;28;01mreturn\u001b[39;00m \u001b[38;5;28mself\u001b[39m\u001b[38;5;241m.\u001b[39murlopen(method, url, \u001b[38;5;241m*\u001b[39m\u001b[38;5;241m*\u001b[39mextra_kw)\n",
      "File \u001b[1;32mc:\\Users\\slab\\anaconda3\\envs\\qmetal\\lib\\site-packages\\urllib3\\poolmanager.py:376\u001b[0m, in \u001b[0;36mPoolManager.urlopen\u001b[1;34m(self, method, url, redirect, **kw)\u001b[0m\n\u001b[0;32m    374\u001b[0m     response \u001b[38;5;241m=\u001b[39m conn\u001b[38;5;241m.\u001b[39murlopen(method, url, \u001b[38;5;241m*\u001b[39m\u001b[38;5;241m*\u001b[39mkw)\n\u001b[0;32m    375\u001b[0m \u001b[38;5;28;01melse\u001b[39;00m:\n\u001b[1;32m--> 376\u001b[0m     response \u001b[38;5;241m=\u001b[39m conn\u001b[38;5;241m.\u001b[39murlopen(method, u\u001b[38;5;241m.\u001b[39mrequest_uri, \u001b[38;5;241m*\u001b[39m\u001b[38;5;241m*\u001b[39mkw)\n\u001b[0;32m    378\u001b[0m redirect_location \u001b[38;5;241m=\u001b[39m redirect \u001b[38;5;129;01mand\u001b[39;00m response\u001b[38;5;241m.\u001b[39mget_redirect_location()\n\u001b[0;32m    379\u001b[0m \u001b[38;5;28;01mif\u001b[39;00m \u001b[38;5;129;01mnot\u001b[39;00m redirect_location:\n",
      "File \u001b[1;32mc:\\Users\\slab\\anaconda3\\envs\\qmetal\\lib\\site-packages\\urllib3\\connectionpool.py:703\u001b[0m, in \u001b[0;36mHTTPConnectionPool.urlopen\u001b[1;34m(self, method, url, body, headers, retries, redirect, assert_same_host, timeout, pool_timeout, release_conn, chunked, body_pos, **response_kw)\u001b[0m\n\u001b[0;32m    700\u001b[0m     \u001b[38;5;28mself\u001b[39m\u001b[38;5;241m.\u001b[39m_prepare_proxy(conn)\n\u001b[0;32m    702\u001b[0m \u001b[38;5;66;03m# Make the request on the httplib connection object.\u001b[39;00m\n\u001b[1;32m--> 703\u001b[0m httplib_response \u001b[38;5;241m=\u001b[39m \u001b[38;5;28;43mself\u001b[39;49m\u001b[38;5;241;43m.\u001b[39;49m\u001b[43m_make_request\u001b[49m\u001b[43m(\u001b[49m\n\u001b[0;32m    704\u001b[0m \u001b[43m    \u001b[49m\u001b[43mconn\u001b[49m\u001b[43m,\u001b[49m\n\u001b[0;32m    705\u001b[0m \u001b[43m    \u001b[49m\u001b[43mmethod\u001b[49m\u001b[43m,\u001b[49m\n\u001b[0;32m    706\u001b[0m \u001b[43m    \u001b[49m\u001b[43murl\u001b[49m\u001b[43m,\u001b[49m\n\u001b[0;32m    707\u001b[0m \u001b[43m    \u001b[49m\u001b[43mtimeout\u001b[49m\u001b[38;5;241;43m=\u001b[39;49m\u001b[43mtimeout_obj\u001b[49m\u001b[43m,\u001b[49m\n\u001b[0;32m    708\u001b[0m \u001b[43m    \u001b[49m\u001b[43mbody\u001b[49m\u001b[38;5;241;43m=\u001b[39;49m\u001b[43mbody\u001b[49m\u001b[43m,\u001b[49m\n\u001b[0;32m    709\u001b[0m \u001b[43m    \u001b[49m\u001b[43mheaders\u001b[49m\u001b[38;5;241;43m=\u001b[39;49m\u001b[43mheaders\u001b[49m\u001b[43m,\u001b[49m\n\u001b[0;32m    710\u001b[0m \u001b[43m    \u001b[49m\u001b[43mchunked\u001b[49m\u001b[38;5;241;43m=\u001b[39;49m\u001b[43mchunked\u001b[49m\u001b[43m,\u001b[49m\n\u001b[0;32m    711\u001b[0m \u001b[43m\u001b[49m\u001b[43m)\u001b[49m\n\u001b[0;32m    713\u001b[0m \u001b[38;5;66;03m# If we're going to release the connection in ``finally:``, then\u001b[39;00m\n\u001b[0;32m    714\u001b[0m \u001b[38;5;66;03m# the response doesn't need to know about the connection. Otherwise\u001b[39;00m\n\u001b[0;32m    715\u001b[0m \u001b[38;5;66;03m# it will also try to release it and we'll have a double-release\u001b[39;00m\n\u001b[0;32m    716\u001b[0m \u001b[38;5;66;03m# mess.\u001b[39;00m\n\u001b[0;32m    717\u001b[0m response_conn \u001b[38;5;241m=\u001b[39m conn \u001b[38;5;28;01mif\u001b[39;00m \u001b[38;5;129;01mnot\u001b[39;00m release_conn \u001b[38;5;28;01melse\u001b[39;00m \u001b[38;5;28;01mNone\u001b[39;00m\n",
      "File \u001b[1;32mc:\\Users\\slab\\anaconda3\\envs\\qmetal\\lib\\site-packages\\urllib3\\connectionpool.py:449\u001b[0m, in \u001b[0;36mHTTPConnectionPool._make_request\u001b[1;34m(self, conn, method, url, timeout, chunked, **httplib_request_kw)\u001b[0m\n\u001b[0;32m    444\u001b[0m             httplib_response \u001b[38;5;241m=\u001b[39m conn\u001b[38;5;241m.\u001b[39mgetresponse()\n\u001b[0;32m    445\u001b[0m         \u001b[38;5;28;01mexcept\u001b[39;00m \u001b[38;5;167;01mBaseException\u001b[39;00m \u001b[38;5;28;01mas\u001b[39;00m e:\n\u001b[0;32m    446\u001b[0m             \u001b[38;5;66;03m# Remove the TypeError from the exception chain in\u001b[39;00m\n\u001b[0;32m    447\u001b[0m             \u001b[38;5;66;03m# Python 3 (including for exceptions like SystemExit).\u001b[39;00m\n\u001b[0;32m    448\u001b[0m             \u001b[38;5;66;03m# Otherwise it looks like a bug in the code.\u001b[39;00m\n\u001b[1;32m--> 449\u001b[0m             \u001b[43msix\u001b[49m\u001b[38;5;241;43m.\u001b[39;49m\u001b[43mraise_from\u001b[49m\u001b[43m(\u001b[49m\u001b[43me\u001b[49m\u001b[43m,\u001b[49m\u001b[43m \u001b[49m\u001b[38;5;28;43;01mNone\u001b[39;49;00m\u001b[43m)\u001b[49m\n\u001b[0;32m    450\u001b[0m \u001b[38;5;28;01mexcept\u001b[39;00m (SocketTimeout, BaseSSLError, SocketError) \u001b[38;5;28;01mas\u001b[39;00m e:\n\u001b[0;32m    451\u001b[0m     \u001b[38;5;28mself\u001b[39m\u001b[38;5;241m.\u001b[39m_raise_timeout(err\u001b[38;5;241m=\u001b[39me, url\u001b[38;5;241m=\u001b[39murl, timeout_value\u001b[38;5;241m=\u001b[39mread_timeout)\n",
      "File \u001b[1;32m<string>:3\u001b[0m, in \u001b[0;36mraise_from\u001b[1;34m(value, from_value)\u001b[0m\n",
      "File \u001b[1;32mc:\\Users\\slab\\anaconda3\\envs\\qmetal\\lib\\site-packages\\urllib3\\connectionpool.py:444\u001b[0m, in \u001b[0;36mHTTPConnectionPool._make_request\u001b[1;34m(self, conn, method, url, timeout, chunked, **httplib_request_kw)\u001b[0m\n\u001b[0;32m    441\u001b[0m \u001b[38;5;28;01mexcept\u001b[39;00m \u001b[38;5;167;01mTypeError\u001b[39;00m:\n\u001b[0;32m    442\u001b[0m     \u001b[38;5;66;03m# Python 3\u001b[39;00m\n\u001b[0;32m    443\u001b[0m     \u001b[38;5;28;01mtry\u001b[39;00m:\n\u001b[1;32m--> 444\u001b[0m         httplib_response \u001b[38;5;241m=\u001b[39m \u001b[43mconn\u001b[49m\u001b[38;5;241;43m.\u001b[39;49m\u001b[43mgetresponse\u001b[49m\u001b[43m(\u001b[49m\u001b[43m)\u001b[49m\n\u001b[0;32m    445\u001b[0m     \u001b[38;5;28;01mexcept\u001b[39;00m \u001b[38;5;167;01mBaseException\u001b[39;00m \u001b[38;5;28;01mas\u001b[39;00m e:\n\u001b[0;32m    446\u001b[0m         \u001b[38;5;66;03m# Remove the TypeError from the exception chain in\u001b[39;00m\n\u001b[0;32m    447\u001b[0m         \u001b[38;5;66;03m# Python 3 (including for exceptions like SystemExit).\u001b[39;00m\n\u001b[0;32m    448\u001b[0m         \u001b[38;5;66;03m# Otherwise it looks like a bug in the code.\u001b[39;00m\n\u001b[0;32m    449\u001b[0m         six\u001b[38;5;241m.\u001b[39mraise_from(e, \u001b[38;5;28;01mNone\u001b[39;00m)\n",
      "File \u001b[1;32mc:\\Users\\slab\\anaconda3\\envs\\qmetal\\lib\\http\\client.py:1374\u001b[0m, in \u001b[0;36mHTTPConnection.getresponse\u001b[1;34m(self)\u001b[0m\n\u001b[0;32m   1372\u001b[0m \u001b[38;5;28;01mtry\u001b[39;00m:\n\u001b[0;32m   1373\u001b[0m     \u001b[38;5;28;01mtry\u001b[39;00m:\n\u001b[1;32m-> 1374\u001b[0m         \u001b[43mresponse\u001b[49m\u001b[38;5;241;43m.\u001b[39;49m\u001b[43mbegin\u001b[49m\u001b[43m(\u001b[49m\u001b[43m)\u001b[49m\n\u001b[0;32m   1375\u001b[0m     \u001b[38;5;28;01mexcept\u001b[39;00m \u001b[38;5;167;01mConnectionError\u001b[39;00m:\n\u001b[0;32m   1376\u001b[0m         \u001b[38;5;28mself\u001b[39m\u001b[38;5;241m.\u001b[39mclose()\n",
      "File \u001b[1;32mc:\\Users\\slab\\anaconda3\\envs\\qmetal\\lib\\http\\client.py:318\u001b[0m, in \u001b[0;36mHTTPResponse.begin\u001b[1;34m(self)\u001b[0m\n\u001b[0;32m    316\u001b[0m \u001b[38;5;66;03m# read until we get a non-100 response\u001b[39;00m\n\u001b[0;32m    317\u001b[0m \u001b[38;5;28;01mwhile\u001b[39;00m \u001b[38;5;28;01mTrue\u001b[39;00m:\n\u001b[1;32m--> 318\u001b[0m     version, status, reason \u001b[38;5;241m=\u001b[39m \u001b[38;5;28;43mself\u001b[39;49m\u001b[38;5;241;43m.\u001b[39;49m\u001b[43m_read_status\u001b[49m\u001b[43m(\u001b[49m\u001b[43m)\u001b[49m\n\u001b[0;32m    319\u001b[0m     \u001b[38;5;28;01mif\u001b[39;00m status \u001b[38;5;241m!=\u001b[39m CONTINUE:\n\u001b[0;32m    320\u001b[0m         \u001b[38;5;28;01mbreak\u001b[39;00m\n",
      "File \u001b[1;32mc:\\Users\\slab\\anaconda3\\envs\\qmetal\\lib\\http\\client.py:279\u001b[0m, in \u001b[0;36mHTTPResponse._read_status\u001b[1;34m(self)\u001b[0m\n\u001b[0;32m    278\u001b[0m \u001b[38;5;28;01mdef\u001b[39;00m \u001b[38;5;21m_read_status\u001b[39m(\u001b[38;5;28mself\u001b[39m):\n\u001b[1;32m--> 279\u001b[0m     line \u001b[38;5;241m=\u001b[39m \u001b[38;5;28mstr\u001b[39m(\u001b[38;5;28;43mself\u001b[39;49m\u001b[38;5;241;43m.\u001b[39;49m\u001b[43mfp\u001b[49m\u001b[38;5;241;43m.\u001b[39;49m\u001b[43mreadline\u001b[49m\u001b[43m(\u001b[49m\u001b[43m_MAXLINE\u001b[49m\u001b[43m \u001b[49m\u001b[38;5;241;43m+\u001b[39;49m\u001b[43m \u001b[49m\u001b[38;5;241;43m1\u001b[39;49m\u001b[43m)\u001b[49m, \u001b[38;5;124m\"\u001b[39m\u001b[38;5;124miso-8859-1\u001b[39m\u001b[38;5;124m\"\u001b[39m)\n\u001b[0;32m    280\u001b[0m     \u001b[38;5;28;01mif\u001b[39;00m \u001b[38;5;28mlen\u001b[39m(line) \u001b[38;5;241m>\u001b[39m _MAXLINE:\n\u001b[0;32m    281\u001b[0m         \u001b[38;5;28;01mraise\u001b[39;00m LineTooLong(\u001b[38;5;124m\"\u001b[39m\u001b[38;5;124mstatus line\u001b[39m\u001b[38;5;124m\"\u001b[39m)\n",
      "File \u001b[1;32mc:\\Users\\slab\\anaconda3\\envs\\qmetal\\lib\\socket.py:705\u001b[0m, in \u001b[0;36mSocketIO.readinto\u001b[1;34m(self, b)\u001b[0m\n\u001b[0;32m    703\u001b[0m \u001b[38;5;28;01mwhile\u001b[39;00m \u001b[38;5;28;01mTrue\u001b[39;00m:\n\u001b[0;32m    704\u001b[0m     \u001b[38;5;28;01mtry\u001b[39;00m:\n\u001b[1;32m--> 705\u001b[0m         \u001b[38;5;28;01mreturn\u001b[39;00m \u001b[38;5;28;43mself\u001b[39;49m\u001b[38;5;241;43m.\u001b[39;49m\u001b[43m_sock\u001b[49m\u001b[38;5;241;43m.\u001b[39;49m\u001b[43mrecv_into\u001b[49m\u001b[43m(\u001b[49m\u001b[43mb\u001b[49m\u001b[43m)\u001b[49m\n\u001b[0;32m    706\u001b[0m     \u001b[38;5;28;01mexcept\u001b[39;00m timeout:\n\u001b[0;32m    707\u001b[0m         \u001b[38;5;28mself\u001b[39m\u001b[38;5;241m.\u001b[39m_timeout_occurred \u001b[38;5;241m=\u001b[39m \u001b[38;5;28;01mTrue\u001b[39;00m\n",
      "\u001b[1;31mKeyboardInterrupt\u001b[0m: "
     ]
    }
   ],
   "source": [
    "gaps = {}\n",
    "gapps = []\n",
    "\n",
    "for freq in freqs/1000:\n",
    "    gaps[freq] = find_optimal_gap(freq)\n",
    "    gapps.append(gaps[freq])"
   ]
  },
  {
   "cell_type": "code",
   "execution_count": null,
   "metadata": {},
   "outputs": [
    {
     "data": {
      "text/plain": [
       "{6.310460308: 3.9,\n",
       " 6.5993999830000005: 4.58,\n",
       " 6.753384976: 4.94,\n",
       " 6.92724498: 5.36,\n",
       " 7.175912057: 5.96,\n",
       " 7.462971308: 6.68,\n",
       " 7.5414966340000005: 6.87}"
      ]
     },
     "execution_count": 33,
     "metadata": {},
     "output_type": "execute_result"
    }
   ],
   "source": [
    "gaps"
   ]
  },
  {
   "cell_type": "code",
   "execution_count": null,
   "metadata": {},
   "outputs": [
    {
     "data": {
      "text/plain": [
       "[3.9, 4.58, 4.94, 5.36, 5.96, 6.68, 6.87, 7.45, 7.96, 8.4]"
      ]
     },
     "execution_count": 75,
     "metadata": {},
     "output_type": "execute_result"
    }
   ],
   "source": [
    "gapps"
   ]
  },
  {
   "cell_type": "code",
   "execution_count": null,
   "metadata": {},
   "outputs": [],
   "source": []
  },
  {
   "cell_type": "code",
   "execution_count": null,
   "metadata": {},
   "outputs": [],
   "source": []
  },
  {
   "cell_type": "code",
   "execution_count": null,
   "metadata": {},
   "outputs": [],
   "source": []
  },
  {
   "cell_type": "code",
   "execution_count": null,
   "metadata": {},
   "outputs": [],
   "source": []
  },
  {
   "cell_type": "code",
   "execution_count": null,
   "metadata": {},
   "outputs": [],
   "source": []
  },
  {
   "cell_type": "code",
   "execution_count": null,
   "metadata": {},
   "outputs": [],
   "source": [
    "raise Exception('Stop here')"
   ]
  },
  {
   "cell_type": "code",
   "execution_count": null,
   "metadata": {},
   "outputs": [],
   "source": [
    "dat = pd.DataFrame(gaps, index = [0])\n",
    "dat.to_csv('gaps_um.csv')"
   ]
  },
  {
   "cell_type": "code",
   "execution_count": null,
   "metadata": {},
   "outputs": [
    {
     "data": {
      "text/plain": [
       "array([3.9 , 4.58, 4.94, 5.36, 5.96, 6.68, 6.87, 7.45, 7.96, 8.4 ])"
      ]
     },
     "execution_count": 38,
     "metadata": {},
     "output_type": "execute_result"
    }
   ],
   "source": [
    "dat.values[0]"
   ]
  },
  {
   "cell_type": "code",
   "execution_count": null,
   "metadata": {},
   "outputs": [],
   "source": [
    "data_all = pd.read_csv(r'/Users/wendy/Desktop/Wendy-qiskit-code/data/educated_guess_test2').drop(columns = ['Unnamed: 0'])"
   ]
  },
  {
   "cell_type": "code",
   "execution_count": null,
   "metadata": {},
   "outputs": [
    {
     "data": {
      "text/html": [
       "<div>\n",
       "<style scoped>\n",
       "    .dataframe tbody tr th:only-of-type {\n",
       "        vertical-align: middle;\n",
       "    }\n",
       "\n",
       "    .dataframe tbody tr th {\n",
       "        vertical-align: top;\n",
       "    }\n",
       "\n",
       "    .dataframe thead th {\n",
       "        text-align: right;\n",
       "    }\n",
       "</style>\n",
       "<table border=\"1\" class=\"dataframe\">\n",
       "  <thead>\n",
       "    <tr style=\"text-align: right;\">\n",
       "      <th></th>\n",
       "      <th>Target_qb_Freq(GHz)</th>\n",
       "      <th>Ljs</th>\n",
       "      <th>Ljs (nH)</th>\n",
       "      <th>Offsets (mm)</th>\n",
       "      <th>TQx</th>\n",
       "      <th>TQy</th>\n",
       "      <th>Small</th>\n",
       "      <th>TQ_mir</th>\n",
       "      <th>CPW_freq_predict(GHz)</th>\n",
       "      <th>Coupling_gap(um)</th>\n",
       "      <th>Coupling_gap_feedline(um)</th>\n",
       "      <th>Sizes (um)</th>\n",
       "      <th>Buffers (um)</th>\n",
       "      <th>Coupling_len(um)</th>\n",
       "      <th>Coupling_len</th>\n",
       "    </tr>\n",
       "  </thead>\n",
       "  <tbody>\n",
       "    <tr>\n",
       "      <th>0</th>\n",
       "      <td>4.0</td>\n",
       "      <td>13nH</td>\n",
       "      <td>13</td>\n",
       "      <td>0.000</td>\n",
       "      <td>-0.267mm</td>\n",
       "      <td>0.45mm</td>\n",
       "      <td>False</td>\n",
       "      <td>True</td>\n",
       "      <td>6.401282</td>\n",
       "      <td>15</td>\n",
       "      <td>1.11</td>\n",
       "      <td>224.327401</td>\n",
       "      <td>237.672599</td>\n",
       "      <td>69.878079</td>\n",
       "      <td>69.87807929705554um</td>\n",
       "    </tr>\n",
       "    <tr>\n",
       "      <th>1</th>\n",
       "      <td>4.2</td>\n",
       "      <td>13nH</td>\n",
       "      <td>13</td>\n",
       "      <td>0.000</td>\n",
       "      <td>-0.2535mm</td>\n",
       "      <td>0.44mm</td>\n",
       "      <td>False</td>\n",
       "      <td>True</td>\n",
       "      <td>6.689526</td>\n",
       "      <td>15</td>\n",
       "      <td>1.54</td>\n",
       "      <td>203.923344</td>\n",
       "      <td>231.076656</td>\n",
       "      <td>58.245181</td>\n",
       "      <td>58.24518148422307um</td>\n",
       "    </tr>\n",
       "    <tr>\n",
       "      <th>2</th>\n",
       "      <td>4.4</td>\n",
       "      <td>10nH</td>\n",
       "      <td>10</td>\n",
       "      <td>0.000</td>\n",
       "      <td>-0.2485mm</td>\n",
       "      <td>0.43mm</td>\n",
       "      <td>False</td>\n",
       "      <td>True</td>\n",
       "      <td>6.796263</td>\n",
       "      <td>15</td>\n",
       "      <td>1.78</td>\n",
       "      <td>235.170778</td>\n",
       "      <td>189.829222</td>\n",
       "      <td>58.658030</td>\n",
       "      <td>58.6580296993377um</td>\n",
       "    </tr>\n",
       "    <tr>\n",
       "      <th>3</th>\n",
       "      <td>4.6</td>\n",
       "      <td>10nH</td>\n",
       "      <td>10</td>\n",
       "      <td>0.050</td>\n",
       "      <td>0.3675mm</td>\n",
       "      <td>0.5mm</td>\n",
       "      <td>True</td>\n",
       "      <td>False</td>\n",
       "      <td>6.993693</td>\n",
       "      <td>15</td>\n",
       "      <td>2.06</td>\n",
       "      <td>213.630207</td>\n",
       "      <td>281.369793</td>\n",
       "      <td>67.261193</td>\n",
       "      <td>67.2611926131531um</td>\n",
       "    </tr>\n",
       "    <tr>\n",
       "      <th>4</th>\n",
       "      <td>4.8</td>\n",
       "      <td>8nH</td>\n",
       "      <td>8</td>\n",
       "      <td>0.055</td>\n",
       "      <td>0.3605mm</td>\n",
       "      <td>0.458mm</td>\n",
       "      <td>True</td>\n",
       "      <td>False</td>\n",
       "      <td>7.212317</td>\n",
       "      <td>15</td>\n",
       "      <td>2.48</td>\n",
       "      <td>238.493760</td>\n",
       "      <td>242.506240</td>\n",
       "      <td>73.386058</td>\n",
       "      <td>73.38605790089028um</td>\n",
       "    </tr>\n",
       "    <tr>\n",
       "      <th>5</th>\n",
       "      <td>5.0</td>\n",
       "      <td>8nH</td>\n",
       "      <td>8</td>\n",
       "      <td>0.055</td>\n",
       "      <td>0.3485mm</td>\n",
       "      <td>0.45mm</td>\n",
       "      <td>True</td>\n",
       "      <td>False</td>\n",
       "      <td>7.495441</td>\n",
       "      <td>15</td>\n",
       "      <td>3.01</td>\n",
       "      <td>218.851425</td>\n",
       "      <td>238.148575</td>\n",
       "      <td>62.802910</td>\n",
       "      <td>62.80290956338173um</td>\n",
       "    </tr>\n",
       "    <tr>\n",
       "      <th>6</th>\n",
       "      <td>5.2</td>\n",
       "      <td>8nH</td>\n",
       "      <td>8</td>\n",
       "      <td>0.042</td>\n",
       "      <td>0.3425mm</td>\n",
       "      <td>0.46mm</td>\n",
       "      <td>True</td>\n",
       "      <td>False</td>\n",
       "      <td>7.593559</td>\n",
       "      <td>15</td>\n",
       "      <td>3.14</td>\n",
       "      <td>200.242799</td>\n",
       "      <td>244.757201</td>\n",
       "      <td>51.557798</td>\n",
       "      <td>51.5577977048421um</td>\n",
       "    </tr>\n",
       "    <tr>\n",
       "      <th>7</th>\n",
       "      <td>5.4</td>\n",
       "      <td>6nH</td>\n",
       "      <td>6</td>\n",
       "      <td>0.065</td>\n",
       "      <td>0.3375mm</td>\n",
       "      <td>0.46mm</td>\n",
       "      <td>True</td>\n",
       "      <td>False</td>\n",
       "      <td>7.799704</td>\n",
       "      <td>15</td>\n",
       "      <td>3.57</td>\n",
       "      <td>236.923095</td>\n",
       "      <td>198.076905</td>\n",
       "      <td>56.360661</td>\n",
       "      <td>56.3606611629999um</td>\n",
       "    </tr>\n",
       "    <tr>\n",
       "      <th>8</th>\n",
       "      <td>5.6</td>\n",
       "      <td>6nH</td>\n",
       "      <td>6</td>\n",
       "      <td>0.055</td>\n",
       "      <td>0.329mm</td>\n",
       "      <td>0.44mm</td>\n",
       "      <td>True</td>\n",
       "      <td>False</td>\n",
       "      <td>8.006815</td>\n",
       "      <td>20</td>\n",
       "      <td>3.95</td>\n",
       "      <td>217.997190</td>\n",
       "      <td>200.002810</td>\n",
       "      <td>69.714398</td>\n",
       "      <td>69.71439788499663um</td>\n",
       "    </tr>\n",
       "    <tr>\n",
       "      <th>9</th>\n",
       "      <td>5.8</td>\n",
       "      <td>6nH</td>\n",
       "      <td>6</td>\n",
       "      <td>0.200</td>\n",
       "      <td>0.343mm</td>\n",
       "      <td>0.45mm</td>\n",
       "      <td>True</td>\n",
       "      <td>False</td>\n",
       "      <td>8.204176</td>\n",
       "      <td>20</td>\n",
       "      <td>4.28</td>\n",
       "      <td>200.537671</td>\n",
       "      <td>245.462329</td>\n",
       "      <td>71.499159</td>\n",
       "      <td>71.49915894415778um</td>\n",
       "    </tr>\n",
       "  </tbody>\n",
       "</table>\n",
       "</div>"
      ],
      "text/plain": [
       "   Target_qb_Freq(GHz)   Ljs  Ljs (nH)  Offsets (mm)        TQx      TQy  \\\n",
       "0                  4.0  13nH        13         0.000   -0.267mm   0.45mm   \n",
       "1                  4.2  13nH        13         0.000  -0.2535mm   0.44mm   \n",
       "2                  4.4  10nH        10         0.000  -0.2485mm   0.43mm   \n",
       "3                  4.6  10nH        10         0.050   0.3675mm    0.5mm   \n",
       "4                  4.8   8nH         8         0.055   0.3605mm  0.458mm   \n",
       "5                  5.0   8nH         8         0.055   0.3485mm   0.45mm   \n",
       "6                  5.2   8nH         8         0.042   0.3425mm   0.46mm   \n",
       "7                  5.4   6nH         6         0.065   0.3375mm   0.46mm   \n",
       "8                  5.6   6nH         6         0.055    0.329mm   0.44mm   \n",
       "9                  5.8   6nH         6         0.200    0.343mm   0.45mm   \n",
       "\n",
       "   Small  TQ_mir  CPW_freq_predict(GHz)  Coupling_gap(um)  \\\n",
       "0  False    True               6.401282                15   \n",
       "1  False    True               6.689526                15   \n",
       "2  False    True               6.796263                15   \n",
       "3   True   False               6.993693                15   \n",
       "4   True   False               7.212317                15   \n",
       "5   True   False               7.495441                15   \n",
       "6   True   False               7.593559                15   \n",
       "7   True   False               7.799704                15   \n",
       "8   True   False               8.006815                20   \n",
       "9   True   False               8.204176                20   \n",
       "\n",
       "   Coupling_gap_feedline(um)  Sizes (um)  Buffers (um)  Coupling_len(um)  \\\n",
       "0                       1.11  224.327401    237.672599         69.878079   \n",
       "1                       1.54  203.923344    231.076656         58.245181   \n",
       "2                       1.78  235.170778    189.829222         58.658030   \n",
       "3                       2.06  213.630207    281.369793         67.261193   \n",
       "4                       2.48  238.493760    242.506240         73.386058   \n",
       "5                       3.01  218.851425    238.148575         62.802910   \n",
       "6                       3.14  200.242799    244.757201         51.557798   \n",
       "7                       3.57  236.923095    198.076905         56.360661   \n",
       "8                       3.95  217.997190    200.002810         69.714398   \n",
       "9                       4.28  200.537671    245.462329         71.499159   \n",
       "\n",
       "          Coupling_len  \n",
       "0  69.87807929705554um  \n",
       "1  58.24518148422307um  \n",
       "2   58.6580296993377um  \n",
       "3   67.2611926131531um  \n",
       "4  73.38605790089028um  \n",
       "5  62.80290956338173um  \n",
       "6   51.5577977048421um  \n",
       "7   56.3606611629999um  \n",
       "8  69.71439788499663um  \n",
       "9  71.49915894415778um  "
      ]
     },
     "execution_count": 40,
     "metadata": {},
     "output_type": "execute_result"
    }
   ],
   "source": [
    "data_all"
   ]
  },
  {
   "cell_type": "code",
   "execution_count": null,
   "metadata": {},
   "outputs": [],
   "source": [
    "data_all['Coupling_gap_feedline(um)'] = gapps"
   ]
  },
  {
   "cell_type": "code",
   "execution_count": null,
   "metadata": {},
   "outputs": [
    {
     "ename": "NameError",
     "evalue": "name 'modified' is not defined",
     "output_type": "error",
     "traceback": [
      "\u001b[0;31m---------------------------------------------------------------------------\u001b[0m",
      "\u001b[0;31mNameError\u001b[0m                                 Traceback (most recent call last)",
      "Cell \u001b[0;32mIn[42], line 1\u001b[0m\n\u001b[0;32m----> 1\u001b[0m data_all[\u001b[39m'\u001b[39m\u001b[39mTQx\u001b[39m\u001b[39m'\u001b[39m] \u001b[39m=\u001b[39m modified\n",
      "\u001b[0;31mNameError\u001b[0m: name 'modified' is not defined"
     ]
    }
   ],
   "source": [
    "data_all['TQx'] = modified\n"
   ]
  },
  {
   "cell_type": "code",
   "execution_count": null,
   "metadata": {},
   "outputs": [],
   "source": [
    "data_all.to_csv(r'/Users/wendy/Desktop/Wendy-qiskit-code/data/educated_guess_test3.csv')"
   ]
  },
  {
   "cell_type": "code",
   "execution_count": null,
   "metadata": {},
   "outputs": [],
   "source": [
    "original = data_all['TQx'].values\n",
    "small = data_all['Small'].values"
   ]
  },
  {
   "cell_type": "code",
   "execution_count": null,
   "metadata": {},
   "outputs": [
    {
     "data": {
      "text/plain": [
       "array([False, False, False,  True,  True,  True,  True,  True,  True,\n",
       "        True])"
      ]
     },
     "execution_count": 85,
     "metadata": {},
     "output_type": "execute_result"
    }
   ],
   "source": [
    "small"
   ]
  },
  {
   "cell_type": "code",
   "execution_count": null,
   "metadata": {},
   "outputs": [],
   "source": [
    "modified = []\n",
    "for i, x in enumerate(original):\n",
    "    dis = 0.0125\n",
    "    if small[i]:\n",
    "        dis = -0.0625+0.025\n",
    "    v = np.round(float(x[:-2]) + dis, decimals = 5)\n",
    "    modified.append(str(v)+' mm')"
   ]
  },
  {
   "cell_type": "code",
   "execution_count": null,
   "metadata": {},
   "outputs": [
    {
     "data": {
      "text/plain": [
       "array(['-0.2545 mm', '-0.241 mm', '-0.236 mm', '0.38 mm', '0.373 mm',\n",
       "       '0.361 mm', '0.355 mm', '0.35 mm', '0.3415 mm', '0.3555 mm'],\n",
       "      dtype=object)"
      ]
     },
     "execution_count": 112,
     "metadata": {},
     "output_type": "execute_result"
    }
   ],
   "source": [
    "original"
   ]
  },
  {
   "cell_type": "code",
   "execution_count": null,
   "metadata": {},
   "outputs": [
    {
     "data": {
      "text/plain": [
       "['-0.242 mm',\n",
       " '-0.2285 mm',\n",
       " '-0.2235 mm',\n",
       " '0.3425 mm',\n",
       " '0.3355 mm',\n",
       " '0.3235 mm',\n",
       " '0.3175 mm',\n",
       " '0.3125 mm',\n",
       " '0.304 mm',\n",
       " '0.318 mm']"
      ]
     },
     "execution_count": 113,
     "metadata": {},
     "output_type": "execute_result"
    }
   ],
   "source": [
    "modified"
   ]
  },
  {
   "cell_type": "code",
   "execution_count": null,
   "metadata": {},
   "outputs": [],
   "source": []
  },
  {
   "cell_type": "code",
   "execution_count": null,
   "metadata": {},
   "outputs": [],
   "source": [
    "conductor1 = driver.find_element(By.ID, 'tc3')"
   ]
  },
  {
   "cell_type": "code",
   "execution_count": null,
   "metadata": {},
   "outputs": [],
   "source": [
    "conductor1.click()"
   ]
  },
  {
   "cell_type": "code",
   "execution_count": null,
   "metadata": {},
   "outputs": [],
   "source": [
    "conductor1.click()"
   ]
  },
  {
   "cell_type": "code",
   "execution_count": null,
   "metadata": {},
   "outputs": [],
   "source": [
    "input_box = driver.find_element(By.ID, 'conductor-gap-widths-elements')\n",
    "AB = input_box.find_element(By.NAME, 'AB')\n",
    "BC = input_box.find_element(By.NAME, 'BC')\n",
    "CD = input_box.find_element(By.NAME, 'CD')\n",
    "DE = input_box.find_element(By.NAME, 'DE')\n",
    "EF = input_box.find_element(By.NAME, 'EF')\n",
    "FG = input_box.find_element(By.NAME, 'FG')\n",
    "GH = input_box.find_element(By.NAME, 'GH')"
   ]
  },
  {
   "cell_type": "code",
   "execution_count": null,
   "metadata": {},
   "outputs": [],
   "source": [
    "AB.clear()\n",
    "AB.send_keys('9')\n",
    "CD.clear()\n",
    "CD.send_keys('9')\n",
    "\n",
    "BC.clear()\n",
    "BC.send_keys('15.95')\n",
    "\n",
    "DE.clear()\n",
    "DE.send_keys('5')\n",
    "\n",
    "EF.clear()\n",
    "EF.send_keys('7.4')\n",
    "\n",
    "FG.clear()\n",
    "FG.send_keys('12.5')\n",
    "\n",
    "GH.clear()\n",
    "GH.send_keys('7.4')\n",
    "\n"
   ]
  },
  {
   "cell_type": "code",
   "execution_count": null,
   "metadata": {},
   "outputs": [],
   "source": [
    "epsi = driver.find_element(By.ID, 'epsilon')\n",
    "epsi.clear()\n",
    "epsi.send_keys('11.45')"
   ]
  },
  {
   "cell_type": "markdown",
   "metadata": {},
   "source": []
  },
  {
   "cell_type": "code",
   "execution_count": null,
   "metadata": {},
   "outputs": [],
   "source": []
  },
  {
   "cell_type": "code",
   "execution_count": null,
   "metadata": {},
   "outputs": [],
   "source": []
  },
  {
   "cell_type": "code",
   "execution_count": null,
   "metadata": {},
   "outputs": [],
   "source": [
    "SC_coupler_len = driver.find_element(By.ID, 'lc')\n",
    "SC_coupler_len.clear()\n",
    "SC_coupler_len.send_keys('0.12')\n",
    "\n",
    "SC_coupler_l1 = driver.find_element(By.ID, 'l1')\n",
    "SC_coupler_l1.clear()\n",
    "SC_coupler_l1.send_keys('0')\n",
    "\n",
    "SC_coupler_l2 = driver.find_element(By.ID, 'l2')\n",
    "SC_coupler_l2.clear()\n",
    "SC_coupler_l2.send_keys('4')\n",
    "\n"
   ]
  },
  {
   "cell_type": "code",
   "execution_count": null,
   "metadata": {},
   "outputs": [],
   "source": [
    "import pandas as pd\n",
    "from bs4 import BeautifulSoup\n",
    "\n",
    "soup = BeautifulSoup(html, 'html.parser')\n",
    "\n",
    "# Extracting column names from HTML table headers\n",
    "cols = []\n",
    "for th in soup.find_all('th'):\n",
    "    cols.append(th.text.strip())\n",
    "    \n",
    "# Extracting table rows from HTML table body\n",
    "data = []\n",
    "for tr in soup.find_all('tr')[1:]:\n",
    "    row = []\n",
    "    for td in tr.find_all('td'):\n",
    "        row.append(td.text.strip())\n",
    "    data.append(row)\n",
    "\n",
    "# Creating pandas dataframe from table rows and columns\n",
    "df = pd.DataFrame(data, columns=cols)\n",
    "\n",
    "print(df)"
   ]
  },
  {
   "cell_type": "code",
   "execution_count": null,
   "metadata": {},
   "outputs": [],
   "source": []
  }
 ],
 "metadata": {
  "kernelspec": {
   "display_name": "qiskit",
   "language": "python",
   "name": "python3"
  },
  "language_info": {
   "codemirror_mode": {
    "name": "ipython",
    "version": 3
   },
   "file_extension": ".py",
   "mimetype": "text/x-python",
   "name": "python",
   "nbconvert_exporter": "python",
   "pygments_lexer": "ipython3",
   "version": "3.11.0"
  },
  "orig_nbformat": 4
 },
 "nbformat": 4,
 "nbformat_minor": 2
}
