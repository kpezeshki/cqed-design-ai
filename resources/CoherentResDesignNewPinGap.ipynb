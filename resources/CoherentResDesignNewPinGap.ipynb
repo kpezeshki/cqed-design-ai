{
 "cells": [
  {
   "cell_type": "code",
   "execution_count": 1,
   "metadata": {},
   "outputs": [],
   "source": [
    "%reload_ext autoreload\n",
    "%autoreload 2"
   ]
  },
  {
   "cell_type": "code",
   "execution_count": 2,
   "metadata": {},
   "outputs": [],
   "source": [
    "from qiskit_metal import designs, draw\n",
    "from qiskit_metal import MetalGUI, Dict, Headings\n",
    "\n",
    "from qiskit_metal.qlibrary.terminations.short_to_ground import ShortToGround\n",
    "from qiskit_metal.qlibrary.terminations.open_to_ground import OpenToGround\n",
    "\n",
    "from qiskit_metal.qlibrary.tlines.mixed_path import RouteMeander, RouteMixed\n",
    "from qiskit_metal.qlibrary.tlines.anchored_path import RouteAnchors\n",
    "from qiskit_metal.qlibrary.tlines.straight_path import RouteStraight\n",
    "\n",
    "# from qiskit_metal.qlibrary.couplers.coupled_line_tee import CoupledLineTee\n",
    "# from qiskit_metal.qlibrary.terminations.launchpad_wb import LaunchpadWirebond\n",
    "\n",
    "\n",
    "import pyEPR as epr\n",
    "\n",
    "from init_notebook import *\n",
    "\n",
    "from qiskit_metal.toolbox_metal.parsing import *\n",
    "from collections import OrderedDict"
   ]
  },
  {
   "cell_type": "code",
   "execution_count": 3,
   "metadata": {},
   "outputs": [],
   "source": [
    "import pandas as pd\n",
    "import numpy as np"
   ]
  },
  {
   "cell_type": "markdown",
   "metadata": {},
   "source": [
    "### Function that generates anchors for CPW. \n",
    "\n",
    "Currently only used to calculate the location of the short to ground component. The RouteMixed or RouteAnchors function does not work"
   ]
  },
  {
   "cell_type": "code",
   "execution_count": 4,
   "metadata": {},
   "outputs": [],
   "source": [
    "def s_anchors(TQ_options, cpw_options,flip_y = False):\n",
    "    if flip_y:\n",
    "        factor = -1\n",
    "    else:\n",
    "        factor = 1\n",
    "    x0 = parse_value('pos_x',TQ_options)\n",
    "    y0 = parse_value('pos_y',TQ_options)\n",
    "    prime_gap = parse_value('prime_gap',TQ_options)\n",
    "    prime_pin = parse_value('prime_width',TQ_options)\n",
    "    coupling_space = parse_value('coupling_space',TQ_options)\n",
    "    down_len = parse_value('down_length',TQ_options)\n",
    "\n",
    "    fillet = parse_value('fillet',cpw_options)\n",
    "    total_len = parse_value('total_length',cpw_options)\n",
    "\n",
    "    l = (total_len  - fillet*np.pi)/3\n",
    "\n",
    "    angle = parse_value('orientation',TQ_options)\n",
    "    angle = np.deg2rad(angle)\n",
    "\n",
    "    # print(x0,prime_pin,prime_gap,coupling_space,down_len,l,fillet)\n",
    "    # d = (prime_pin/2+prime_gap+coupling_space)#-down_len)\n",
    "\n",
    "    x0 = x0 + (prime_pin/2+prime_gap+coupling_space+down_len)*np.sin(angle)\n",
    "    y0 = y0 - (prime_pin/2+prime_gap+coupling_space+down_len)*np.cos(angle)*factor\n",
    "\n",
    "    x1 = x0 + l*np.sin(angle)\n",
    "    y1 = y0 - l*np.cos(angle)*factor\n",
    "\n",
    "    x2 = x1 + fillet*np.cos(angle)\n",
    "    y2 = y1 + fillet*np.sin(angle)*factor\n",
    "\n",
    "    x3 = x2 - l*np.sin(angle)\n",
    "    y3 = y2 + l*np.cos(angle)*factor\n",
    "\n",
    "    x4 = x3 + fillet*np.cos(angle)\n",
    "    y4 = y3 + fillet*np.sin(angle)*factor\n",
    "\n",
    "    x5 = x4 + l*np.sin(angle)\n",
    "    y5 = y4 + l*np.cos(angle)*factor\n",
    "\n",
    "    result = OrderedDict()\n",
    "    result[0] = [x1,y1]\n",
    "    result[1] = [x2,y2]\n",
    "    result[2] = [x3,y3]\n",
    "    result[3] = [x4,y4]\n",
    "    result[4] = [x5,y5]\n",
    "    return result\n"
   ]
  },
  {
   "cell_type": "markdown",
   "metadata": {},
   "source": [
    "# Initialize things by directly importing"
   ]
  },
  {
   "cell_type": "code",
   "execution_count": 5,
   "metadata": {},
   "outputs": [],
   "source": [
    "gui = MetalGUI(design)\n",
    "design = design\n",
    "design.overwrite_enabled = False #This makes it possible to edit the designs later on. "
   ]
  },
  {
   "cell_type": "code",
   "execution_count": 6,
   "metadata": {},
   "outputs": [],
   "source": [
    "design.overwrite_enabled = True"
   ]
  },
  {
   "cell_type": "code",
   "execution_count": 7,
   "metadata": {},
   "outputs": [],
   "source": [
    "design.delete_all_components()"
   ]
  },
  {
   "cell_type": "code",
   "execution_count": 8,
   "metadata": {},
   "outputs": [],
   "source": [
    "qubit_layer = 5\n",
    "junction_layer = 20\n",
    "ab_layer = 31\n",
    "ab_square_layer = 30\n",
    "junction_area_layer = 60"
   ]
  },
  {
   "cell_type": "markdown",
   "metadata": {},
   "source": [
    "## Specify resonator specs\n",
    "\n",
    "Hand measured using kLayout"
   ]
  },
  {
   "cell_type": "code",
   "execution_count": 9,
   "metadata": {},
   "outputs": [
    {
     "data": {
      "text/plain": [
       "array([350, 350, 350, 350, 350, 350, 350, 350])"
      ]
     },
     "execution_count": 9,
     "metadata": {},
     "output_type": "execute_result"
    }
   ],
   "source": [
    "np.full((8), 350)"
   ]
  },
  {
   "cell_type": "code",
   "execution_count": 10,
   "metadata": {
    "tags": [
     "parameters"
    ]
   },
   "outputs": [],
   "source": [
    "# coupling_d = [100,105,140,200,2,15,40,75] # low coupling\n",
    "coupling_d = np.array([100,105,140,200,2,15,40,75])/2 # increased coupling \n",
    "curve_d = np.full((8), 450)#[380,380,380,400,300,310,330,340]\n",
    "ground_plane_d = 10\n",
    "fillets = np.full((8), 320.0)#[200,200,280,320,200,200,200,240]\n",
    "\n",
    "prime_pin = 14.18\n",
    "prime_gap = 8\n",
    "\n",
    "res_orientation = [(-1)**i*90 for i in range(8)]\n",
    "res_flip_y = [i%2==0 for i in range(8)]\n",
    "\n",
    "res_order = [4,2,6,0, 7,1,5,3]\n"
   ]
  },
  {
   "cell_type": "markdown",
   "metadata": {},
   "source": [
    "# Put down wirebond pads"
   ]
  },
  {
   "cell_type": "code",
   "execution_count": 11,
   "metadata": {},
   "outputs": [],
   "source": [
    "wb_x0 = 4.7/2\n",
    "wb_y0 = 3.5-1.86"
   ]
  },
  {
   "cell_type": "code",
   "execution_count": 12,
   "metadata": {},
   "outputs": [],
   "source": [
    "Wirebond_opt = Dict(trace_width=design.variables['trace_width'],\n",
    "                           trace_gap=design.variables['trace_gap'],\n",
    "                           lead_length='440.5um',\n",
    "                           pad_width='200um',\n",
    "                           pad_height='500um',\n",
    "                           pad_gap='100um',\n",
    "                           taper_height='100um',\n",
    "                           layer = str(qubit_layer),\n",
    "                           pin_space = '200um')"
   ]
  },
  {
   "cell_type": "code",
   "execution_count": 13,
   "metadata": {},
   "outputs": [],
   "source": [
    "left_lauch_pads = LaunchpadWirebondCustom(design,'wb_left', options = Dict(pos_x = '{}mm'.format(-wb_x0),pos_y = '{}mm'.format(-wb_y0),orientation = '90',**Wirebond_opt))\n",
    "right_lauch_pads = LaunchpadWirebondCustom(design,'wb_right', options = Dict(pos_x = '{}mm'.format(wb_x0),pos_y = '{}mm'.format(-wb_y0),orientation = '90',**Wirebond_opt))\n",
    "\n",
    "gui.rebuild()\n",
    "gui.autoscale()\n"
   ]
  },
  {
   "cell_type": "markdown",
   "metadata": {},
   "source": [
    "# Put Down Resonator with Coupled Line Tee"
   ]
  },
  {
   "cell_type": "markdown",
   "metadata": {},
   "source": [
    "Import resonator parameters. Calculated using coupler_optimization.ipynb with website to optimize frequency and impedance. All the other parameters are measured from dxf file"
   ]
  },
  {
   "cell_type": "code",
   "execution_count": 14,
   "metadata": {},
   "outputs": [
    {
     "name": "stdout",
     "output_type": "stream",
     "text": [
      "   Unnamed: 0.1  Unnamed: 0  Frequency          Q  Length  Gap    Pin  \\\n",
      "0             0           0        5.9  1278612.0  5.0535   20  35.46   \n",
      "1             1           1        6.2  1210136.0  4.8072   24  42.54   \n",
      "2             2           2        6.5  1149617.0  4.5836   28  49.64   \n",
      "3             3           3        6.7  1113073.0  4.4457   32  56.74   \n",
      "4             4           4        7.0  1063157.0  4.2536    4   7.10   \n",
      "5             5           5        7.2  1032764.0  4.1344    8  14.18   \n",
      "6             6           6        7.5   990927.0  3.9674   12  21.28   \n",
      "7             7           7        7.9   941290.0  3.7646   16  28.36   \n",
      "\n",
      "   coupling_gap  \n",
      "0         118.0  \n",
      "1         123.0  \n",
      "2         158.0  \n",
      "3         158.0  \n",
      "4          20.0  \n",
      "5          33.0  \n",
      "6          58.0  \n",
      "7          93.0  \n"
     ]
    }
   ],
   "source": [
    "resonator_params = pd.read_csv('results_more_coupling.csv')\n",
    "# resonator_params['coupling_gap'] = resonatlingor_params['coupling_gap']/2\n",
    "# resonator_params.to_csv('results_more_coup.csv')\n",
    "resonator_params['Gap'] *= 2\n",
    "resonator_params['Pin'] *= 2\n",
    "resonator_params['coupling_gap'] *= 2\n",
    "print(resonator_params)\n",
    "\n"
   ]
  },
  {
   "cell_type": "code",
   "execution_count": 15,
   "metadata": {},
   "outputs": [],
   "source": [
    "import copy"
   ]
  },
  {
   "cell_type": "code",
   "execution_count": 16,
   "metadata": {},
   "outputs": [],
   "source": [
    "series = copy.copy(resonator_params.iloc[-1])\n",
    "gap1_old = series['Gap']\n",
    "coupling1_old = series['coupling_gap']\n",
    "series_2 = copy.copy(resonator_params.iloc[-2])\n",
    "gap2_old = series_2['Gap']\n",
    "coupling2_old = series_2['coupling_gap']"
   ]
  },
  {
   "cell_type": "code",
   "execution_count": 17,
   "metadata": {},
   "outputs": [],
   "source": [
    "series['Pin'] = 3\n",
    "series['Gap'] = 3\n",
    "series['coupling_gap'] = 3/gap1_old*coupling1_old\n",
    "\n",
    "\n",
    "\n",
    "series_2['Pin'] = 30\n",
    "series_2['Gap'] = 30\n",
    "series_2['coupling_gap'] = 30/gap2_old*coupling2_old\n"
   ]
  },
  {
   "cell_type": "code",
   "execution_count": 18,
   "metadata": {},
   "outputs": [],
   "source": [
    "resonator_params = resonator_params.iloc[:-2]"
   ]
  },
  {
   "cell_type": "code",
   "execution_count": 19,
   "metadata": {},
   "outputs": [
    {
     "name": "stderr",
     "output_type": "stream",
     "text": [
      "WARNING:py.warnings:C:\\Users\\slab\\AppData\\Local\\Temp\\ipykernel_21748\\17972378.py:1: FutureWarning: The frame.append method is deprecated and will be removed from pandas in a future version. Use pandas.concat instead.\n",
      "  resonator_params = resonator_params.append(series_2)\n",
      "\n",
      "WARNING:py.warnings:C:\\Users\\slab\\AppData\\Local\\Temp\\ipykernel_21748\\17972378.py:2: FutureWarning: The frame.append method is deprecated and will be removed from pandas in a future version. Use pandas.concat instead.\n",
      "  resonator_params = resonator_params.append(series)\n",
      "\n"
     ]
    }
   ],
   "source": [
    "resonator_params = resonator_params.append(series_2)\n",
    "resonator_params = resonator_params.append(series)\n"
   ]
  },
  {
   "cell_type": "code",
   "execution_count": 20,
   "metadata": {},
   "outputs": [
    {
     "data": {
      "text/html": [
       "<div>\n",
       "<style scoped>\n",
       "    .dataframe tbody tr th:only-of-type {\n",
       "        vertical-align: middle;\n",
       "    }\n",
       "\n",
       "    .dataframe tbody tr th {\n",
       "        vertical-align: top;\n",
       "    }\n",
       "\n",
       "    .dataframe thead th {\n",
       "        text-align: right;\n",
       "    }\n",
       "</style>\n",
       "<table border=\"1\" class=\"dataframe\">\n",
       "  <thead>\n",
       "    <tr style=\"text-align: right;\">\n",
       "      <th></th>\n",
       "      <th>Unnamed: 0.1</th>\n",
       "      <th>Unnamed: 0</th>\n",
       "      <th>Frequency</th>\n",
       "      <th>Q</th>\n",
       "      <th>Length</th>\n",
       "      <th>Gap</th>\n",
       "      <th>Pin</th>\n",
       "      <th>coupling_gap</th>\n",
       "    </tr>\n",
       "  </thead>\n",
       "  <tbody>\n",
       "    <tr>\n",
       "      <th>0</th>\n",
       "      <td>0.0</td>\n",
       "      <td>0.0</td>\n",
       "      <td>5.9</td>\n",
       "      <td>1278612.0</td>\n",
       "      <td>5.0535</td>\n",
       "      <td>20.0</td>\n",
       "      <td>35.46</td>\n",
       "      <td>118.0000</td>\n",
       "    </tr>\n",
       "    <tr>\n",
       "      <th>1</th>\n",
       "      <td>1.0</td>\n",
       "      <td>1.0</td>\n",
       "      <td>6.2</td>\n",
       "      <td>1210136.0</td>\n",
       "      <td>4.8072</td>\n",
       "      <td>24.0</td>\n",
       "      <td>42.54</td>\n",
       "      <td>123.0000</td>\n",
       "    </tr>\n",
       "    <tr>\n",
       "      <th>2</th>\n",
       "      <td>2.0</td>\n",
       "      <td>2.0</td>\n",
       "      <td>6.5</td>\n",
       "      <td>1149617.0</td>\n",
       "      <td>4.5836</td>\n",
       "      <td>28.0</td>\n",
       "      <td>49.64</td>\n",
       "      <td>158.0000</td>\n",
       "    </tr>\n",
       "    <tr>\n",
       "      <th>3</th>\n",
       "      <td>3.0</td>\n",
       "      <td>3.0</td>\n",
       "      <td>6.7</td>\n",
       "      <td>1113073.0</td>\n",
       "      <td>4.4457</td>\n",
       "      <td>32.0</td>\n",
       "      <td>56.74</td>\n",
       "      <td>158.0000</td>\n",
       "    </tr>\n",
       "    <tr>\n",
       "      <th>4</th>\n",
       "      <td>4.0</td>\n",
       "      <td>4.0</td>\n",
       "      <td>7.0</td>\n",
       "      <td>1063157.0</td>\n",
       "      <td>4.2536</td>\n",
       "      <td>4.0</td>\n",
       "      <td>7.10</td>\n",
       "      <td>20.0000</td>\n",
       "    </tr>\n",
       "    <tr>\n",
       "      <th>5</th>\n",
       "      <td>5.0</td>\n",
       "      <td>5.0</td>\n",
       "      <td>7.2</td>\n",
       "      <td>1032764.0</td>\n",
       "      <td>4.1344</td>\n",
       "      <td>8.0</td>\n",
       "      <td>14.18</td>\n",
       "      <td>33.0000</td>\n",
       "    </tr>\n",
       "    <tr>\n",
       "      <th>6</th>\n",
       "      <td>6.0</td>\n",
       "      <td>6.0</td>\n",
       "      <td>7.5</td>\n",
       "      <td>990927.0</td>\n",
       "      <td>3.9674</td>\n",
       "      <td>30.0</td>\n",
       "      <td>30.00</td>\n",
       "      <td>145.0000</td>\n",
       "    </tr>\n",
       "    <tr>\n",
       "      <th>7</th>\n",
       "      <td>7.0</td>\n",
       "      <td>7.0</td>\n",
       "      <td>7.9</td>\n",
       "      <td>941290.0</td>\n",
       "      <td>3.7646</td>\n",
       "      <td>3.0</td>\n",
       "      <td>3.00</td>\n",
       "      <td>17.4375</td>\n",
       "    </tr>\n",
       "  </tbody>\n",
       "</table>\n",
       "</div>"
      ],
      "text/plain": [
       "   Unnamed: 0.1  Unnamed: 0  Frequency          Q  Length   Gap    Pin  \\\n",
       "0           0.0         0.0        5.9  1278612.0  5.0535  20.0  35.46   \n",
       "1           1.0         1.0        6.2  1210136.0  4.8072  24.0  42.54   \n",
       "2           2.0         2.0        6.5  1149617.0  4.5836  28.0  49.64   \n",
       "3           3.0         3.0        6.7  1113073.0  4.4457  32.0  56.74   \n",
       "4           4.0         4.0        7.0  1063157.0  4.2536   4.0   7.10   \n",
       "5           5.0         5.0        7.2  1032764.0  4.1344   8.0  14.18   \n",
       "6           6.0         6.0        7.5   990927.0  3.9674  30.0  30.00   \n",
       "7           7.0         7.0        7.9   941290.0  3.7646   3.0   3.00   \n",
       "\n",
       "   coupling_gap  \n",
       "0      118.0000  \n",
       "1      123.0000  \n",
       "2      158.0000  \n",
       "3      158.0000  \n",
       "4       20.0000  \n",
       "5       33.0000  \n",
       "6      145.0000  \n",
       "7       17.4375  "
      ]
     },
     "execution_count": 20,
     "metadata": {},
     "output_type": "execute_result"
    }
   ],
   "source": [
    "resonator_params.to_csv('results_more_coupling_big_gap.csv')\n",
    "resonator_params"
   ]
  },
  {
   "cell_type": "code",
   "execution_count": 21,
   "metadata": {},
   "outputs": [],
   "source": [
    "freqs = resonator_params['Frequency'].values\n",
    "Qs = resonator_params['Q'].values\n",
    "gaps = resonator_params['Gap'].values\n",
    "pins = resonator_params['Pin'].values\n",
    "coupling_gap = resonator_params['coupling_gap'].values\n",
    "lengths = resonator_params['Length'].values"
   ]
  },
  {
   "cell_type": "code",
   "execution_count": 22,
   "metadata": {},
   "outputs": [
    {
     "data": {
      "text/plain": [
       "array([118.    , 123.    , 158.    , 158.    ,  20.    ,  33.    ,\n",
       "       145.    ,  17.4375])"
      ]
     },
     "execution_count": 22,
     "metadata": {},
     "output_type": "execute_result"
    }
   ],
   "source": [
    "coupling_gap"
   ]
  },
  {
   "cell_type": "markdown",
   "metadata": {},
   "source": [
    "Define locations of resonators by defining location of the coupled line tee"
   ]
  },
  {
   "cell_type": "code",
   "execution_count": 23,
   "metadata": {},
   "outputs": [],
   "source": [
    "res_x = 1.15\n",
    "delta_x = 3.5-res_x\n",
    "\n",
    "res_x_all  = np.array([-delta_x*(-1)**i for i in range(8)])\n",
    "\n",
    "res_y_all = np.array([(5254+5210)/2,(4301+4248)/2,(3448+3387)/2,\n",
    "             (2395+2325)/2,(2365+2356)/2,(3326+3309)/2,\n",
    "             (4338+4311)/2,(5249+5214)/2])/1000-3.5"
   ]
  },
  {
   "cell_type": "code",
   "execution_count": null,
   "metadata": {},
   "outputs": [],
   "source": []
  },
  {
   "cell_type": "markdown",
   "metadata": {},
   "source": [
    "pre define some options"
   ]
  },
  {
   "cell_type": "code",
   "execution_count": 24,
   "metadata": {},
   "outputs": [],
   "source": [
    "TQ_options = TQ_options\n",
    "TQ_options['prime_length'] = '120um'\n",
    "TQ_options['prime_gap'] = design.variables['trace_gap']\n",
    "TQ_options['prime_width'] = design.variables['trace_width']"
   ]
  },
  {
   "cell_type": "markdown",
   "metadata": {},
   "source": [
    "## Actual code that puts down CPW and CoupledLineTee\n",
    "\n",
    "NOTE: need to fix code and use RouteMixed with anchors to route CPWs. Currently using RouteMeander and lack control. "
   ]
  },
  {
   "cell_type": "code",
   "execution_count": 25,
   "metadata": {},
   "outputs": [
    {
     "data": {
      "text/plain": [
       "{'start_straight': '5um', 'end_straight': '5um'}"
      ]
     },
     "execution_count": 25,
     "metadata": {},
     "output_type": "execute_result"
    }
   ],
   "source": [
    "CPW_options['lead']"
   ]
  },
  {
   "cell_type": "code",
   "execution_count": 26,
   "metadata": {},
   "outputs": [],
   "source": [
    "TQs = []\n",
    "short_to_grounds = []\n",
    "cpws = []\n",
    "\n",
    "connection_cpws = []\n",
    "\n",
    "for i in range(8):\n",
    "    curve_d_i = curve_d[i]\n",
    "    coupling_d_i = coupling_d[i]\n",
    "    pins_i = pins[i]\n",
    "    gap_i = gaps[i]\n",
    "    fillet = fillets[i]\n",
    "\n",
    "    down_len =  - prime_pin/2 - prime_gap + curve_d_i+fillet*np.pi/2\n",
    "\n",
    "    TQ_options['down_length'] =  str(down_len) + 'um'\n",
    "    TQ_options['coupling_space'] = str(ground_plane_d) + 'um'\n",
    "    TQ_options['second_width'] = str(pins[i]) + 'um'\n",
    "    TQ_options['second_gap'] = str(gaps[i]) + 'um'\n",
    "    # TQ_options['coupling_space'] = str(coupling_gap[i])+ 'um'\n",
    "    TQ_options['pin_drop'] = str(coupling_d[i])+'um'\n",
    "    TQ_options['orientation'] = str(res_orientation[i])\n",
    "\n",
    "\n",
    "    TQs.append(CoupledLineTee(design, 'TQ_'+str(i), options=dict(pos_x='{} mm'.format(res_x_all[i]),\n",
    "                                                pos_y='{} mm'.format(res_y_all[i]), **TQ_options)))\n",
    "\n",
    "    CPW_options = CPW_options\n",
    "    CPW_options['pin_width'] = str(pins[i]) + 'um'\n",
    "    CPW_options['gap_width'] = str(gaps[i]) + 'um'\n",
    "    CPW_options['total_length'] = str(np.around(lengths[i]-down_len/1000,4)) + 'mm'\n",
    "    CPW_options['pin_inputs'] = in_inputs=Dict(\n",
    "                start_pin=Dict(component='TQ_'+str(i), pin='second_end'),\n",
    "                end_pin=Dict(component='short'+str(i), pin='short'),)\n",
    "\n",
    "    CPW_options['trace_gap'] = str(gaps[i]) + 'um'\n",
    "    CPW_options['trace_width'] = str(pins[i]) + 'um'\n",
    "    CPW_options['lead'] = dict(start_straight = '600 um', end_straight = '400 um')\n",
    "    CPW_options['fillet'] = '{} um'.format(fillet)\n",
    "    CPW_options['prevent_short_edges'] = False\n",
    "    CPW_options['snap'] = True\n",
    "\n",
    "    anchors = s_anchors(TQs[-1].options, CPW_options,flip_y=res_flip_y[i])\n",
    "    orientation = parse_value('orientation', TQ_options) + 270\n",
    "    short_to_grounds.append(ShortToGround(design, 'short'+str(i), options=dict(pos_x='{} mm'.format(anchors[4][0]), pos_y='{} mm'.format(anchors[4][1]), \n",
    "                                                        orientation='{}'.format(orientation))))\n",
    " \n",
    "    CPW_options['fillet'] = '{} um'.format(fillet/2.2)\n",
    "    CPW_options['anchor'] = anchors\n",
    "    CPW_options['meander'] = dict(spacing= '{}um'.format(fillet), asymmetry= '0um')\n",
    "    CPW_options['lead'] = {'start_straight': '600 um', 'end_straight': '100 um'}\n",
    "\n",
    "    cpws.append(RouteMeander(design, 'cpw'+str(i), options = CPW_options))\n",
    "                \n",
    "    \n",
    "\n",
    "    gui.rebuild()\n",
    "    gui.autoscale()"
   ]
  },
  {
   "cell_type": "markdown",
   "metadata": {},
   "source": [
    "### Connect coupled line tees"
   ]
  },
  {
   "cell_type": "code",
   "execution_count": 27,
   "metadata": {},
   "outputs": [],
   "source": [
    "for i, cpw in enumerate(res_order):\n",
    "        if i ==7:\n",
    "                break\n",
    "        elif i == 3:\n",
    "                continue\n",
    "        else:\n",
    "                trans_ops = trans_options\n",
    "                trans_ops['pin_inputs'] = {'start_pin': {'component': TQs[cpw].name, \n",
    "                                                        'pin': 'prime_end'},\n",
    "                                        'end_pin': {'component': TQs[res_order[i+1]].name, \n",
    "                                                        'pin': 'prime_start'}}\n",
    "                connection_cpws.append(RouteStraight(design, \n",
    "                                                'connection_cpw'+str(cpw), \n",
    "                                                options = Dict(**trans_options)))\n",
    "                gui.rebuild()"
   ]
  },
  {
   "cell_type": "code",
   "execution_count": 28,
   "metadata": {},
   "outputs": [],
   "source": [
    "anchors = OrderedDict()\n",
    "anchors[0] = (3.5-1.230,-0.2)\n",
    "anchors[1] = (3.5-1.230,0.2)"
   ]
  },
  {
   "cell_type": "code",
   "execution_count": 29,
   "metadata": {},
   "outputs": [],
   "source": [
    "i = 3\n",
    "trans_ops1 = trans_options\n",
    "trans_ops1['lead'] = dict(start_straight = '300 um', end_straight = '300 um')\n",
    "trans_ops1['pin_inputs'] = {'start_pin': {'component': TQs[res_order[i]].name, 'pin': 'prime_end'},\n",
    "                           'end_pin': {'component': TQs[res_order[i+1]].name, 'pin': 'prime_start'}}\n",
    "trans_ops1['fillet'] = '90um'\n",
    "total_len = 0.3*2+4.7 + 0.9*(np.pi-2)\n",
    "trans_ops1['total_length'] = '{}mm'.format(total_len)\n",
    "cpw_top = RouteMixed(design, 'connection_cpw'+str(i),options = Dict(anchor = anchors,**trans_ops1))\n",
    "\n",
    "gui.rebuild()\n",
    "                "
   ]
  },
  {
   "cell_type": "markdown",
   "metadata": {},
   "source": [
    "The ideal way is to connect the Tee with launcher pad using a CPW, but this thing does not export properly so I used a skechy fix. Currently working fine."
   ]
  },
  {
   "cell_type": "code",
   "execution_count": 30,
   "metadata": {},
   "outputs": [],
   "source": [
    "# connection_cpw_ops = {'trace_width': '14.18 um',\n",
    "#  'trace_gap': '8 um',\n",
    "#  'lead': {'start_straight': '300 um', 'end_straight': '300 um'},\n",
    "#  'layer': 5,\n",
    "#  'hfss_wire_bonds': False,\n",
    "#  'q3d_wirebonds': False,\n",
    "#  }\n",
    "# connection_cpw_ops['pin_inputs'] = {'end_pin': {'component':'TQ_4','pin': 'prime_start'},'start_pin': {'component': 'wb_left', 'pin': 'tie'}}\n",
    "# # connection_cpws.append(RouteStraight(design,'connection_cpw'+str(cpw), options = Dict(**trans_options)))\n",
    "\n",
    "# cpw_left_launch = RouteStraight(design, 'cpw_left_launch', options = Dict(**connection_cpw_ops))\n",
    "\n",
    "# connection_cpw_ops['pin_inputs'] = {'end_pin': {'component':'TQ_3','pin': 'prime_end'},'start_pin': {'component': 'wb_right', 'pin': 'tie'}}\n",
    "# cpw_right_launch = RouteStraight(design, 'cpw_right_launch', options = Dict(**connection_cpw_ops))\n",
    "\n",
    "# gui.rebuild()"
   ]
  },
  {
   "cell_type": "code",
   "execution_count": 31,
   "metadata": {},
   "outputs": [],
   "source": [
    "# design.chips.main.size['size_x'] = '10mm'\n",
    "# design.chips.main.size['size_y'] = '10mm'\n",
    "# gui.rebuild()\n",
    "a_gds = design.renderers.gds"
   ]
  },
  {
   "cell_type": "code",
   "execution_count": 32,
   "metadata": {},
   "outputs": [],
   "source": [
    "qubit_layer = 5\n",
    "junction_layer = 20\n",
    "ab_layer = 31\n",
    "ab_square_layer = 30\n",
    "junction_area_layer = 60"
   ]
  },
  {
   "cell_type": "code",
   "execution_count": 33,
   "metadata": {},
   "outputs": [],
   "source": [
    "a_gds.options['max_points'] = 3000\n",
    "a_gds.options['fabricate'] = True"
   ]
  },
  {
   "cell_type": "code",
   "execution_count": 34,
   "metadata": {},
   "outputs": [],
   "source": [
    "a_gds.options['cheese']['view_in_file']['main'][qubit_layer] = True\n",
    "a_gds.options['no_cheese']['view_in_file']['main'][qubit_layer] = True\n",
    "a_gds.options['cheese']['view_in_file']['main'][junction_layer] = False\n",
    "a_gds.options['no_cheese']['view_in_file']['main'][junction_layer] = False\n",
    "a_gds.options['cheese']['view_in_file']['main'][ab_layer] = False\n",
    "a_gds.options['no_cheese']['view_in_file']['main'][ab_layer] = False\n",
    "a_gds.options['cheese']['view_in_file']['main'][ab_square_layer] = False\n",
    "a_gds.options['no_cheese']['view_in_file']['main'][ab_square_layer] = True\n",
    "a_gds.options['cheese']['view_in_file']['main'][1] = False\n",
    "a_gds.options['no_cheese']['view_in_file']['main'][1] = False"
   ]
  },
  {
   "cell_type": "code",
   "execution_count": 35,
   "metadata": {},
   "outputs": [],
   "source": [
    "# a_gds.options['cheese']['view_in_file']['main'][qubit_layer] = True\n",
    "# a_gds.options['no_cheese']['view_in_file']['main'][qubit_layer] = True\n",
    "# a_gds.options['cheese']['view_in_file']['main'][junction_layer] = True\n",
    "# a_gds.options['no_cheese']['view_in_file']['main'][junction_layer] = True\n",
    "# a_gds.options['cheese']['view_in_file']['main'][ab_layer] = True\n",
    "# a_gds.options['no_cheese']['view_in_file']['main'][ab_layer] = True\n",
    "# a_gds.options['cheese']['view_in_file']['main'][ab_square_layer] = True\n",
    "# a_gds.options['no_cheese']['view_in_file']['main'][ab_square_layer] = True\n",
    "# a_gds.options['cheese']['view_in_file']['main']['1'] = True\n",
    "# a_gds.options['no_cheese']['view_in_file']['main']['1'] = True\n",
    "\n",
    "\n",
    "\n",
    "# a_gds.options['fabricate'] = False\n",
    "a_gds.options.tolerance = '0.0000005'\n",
    "a_gds.options.precision = '0.0000000005'"
   ]
  },
  {
   "cell_type": "code",
   "execution_count": 36,
   "metadata": {},
   "outputs": [
    {
     "data": {
      "text/plain": [
       "{'datatype': '100',\n",
       " 'shape': '0',\n",
       " 'cheese_0_x': '25um',\n",
       " 'cheese_0_y': '25um',\n",
       " 'cheese_1_radius': '100um',\n",
       " 'view_in_file': {'main': {1: False,\n",
       "   5: True,\n",
       "   20: False,\n",
       "   31: False,\n",
       "   30: False}},\n",
       " 'delta_x': '100um',\n",
       " 'delta_y': '100um',\n",
       " 'edge_nocheese': '200um'}"
      ]
     },
     "execution_count": 36,
     "metadata": {},
     "output_type": "execute_result"
    }
   ],
   "source": [
    "a_gds.options['cheese']"
   ]
  },
  {
   "cell_type": "code",
   "execution_count": 37,
   "metadata": {},
   "outputs": [],
   "source": [
    "a_gds.options.cheese.edge_nocheese = '150um'\n",
    "a_gds.options.no_cheese.buffer = '200um'\n",
    "a_gds.options.cheese.cheese_1_radius = '100um'\n",
    "a_gds.options['negative_mask'] = dict(main= [qubit_layer])"
   ]
  },
  {
   "cell_type": "code",
   "execution_count": 38,
   "metadata": {},
   "outputs": [
    {
     "name": "stderr",
     "output_type": "stream",
     "text": [
      "04:01PM 23s WARNING [_import_junction_gds_file]: Not able to find file:\"../resources/Fake_Junctions.GDS\".  Not used to replace junction. Checked directory:\"c:\\Users\\slab\\Desktop\\Wendy-qiskit-code\\Projects\\resources\".\n"
     ]
    },
    {
     "data": {
      "text/plain": [
       "1"
      ]
     },
     "execution_count": 38,
     "metadata": {},
     "output_type": "execute_result"
    }
   ],
   "source": [
    "# gui.rebuild()\n",
    "a_gds.export_to_gds('coupled_resonator_design_big_fat.gds')"
   ]
  },
  {
   "cell_type": "code",
   "execution_count": null,
   "metadata": {},
   "outputs": [],
   "source": []
  },
  {
   "cell_type": "code",
   "execution_count": null,
   "metadata": {},
   "outputs": [],
   "source": []
  }
 ],
 "metadata": {
  "kernelspec": {
   "display_name": "qmetal",
   "language": "python",
   "name": "qmetal"
  },
  "language_info": {
   "codemirror_mode": {
    "name": "ipython",
    "version": 3
   },
   "file_extension": ".py",
   "mimetype": "text/x-python",
   "name": "python",
   "nbconvert_exporter": "python",
   "pygments_lexer": "ipython3",
   "version": "3.10.8"
  }
 },
 "nbformat": 4,
 "nbformat_minor": 2
}
